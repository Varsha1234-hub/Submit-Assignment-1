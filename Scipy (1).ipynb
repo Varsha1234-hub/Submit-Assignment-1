{
  "nbformat": 4,
  "nbformat_minor": 0,
  "metadata": {
    "colab": {
      "name": "Scipy.ipynb",
      "provenance": [],
      "collapsed_sections": []
    },
    "kernelspec": {
      "name": "python3",
      "display_name": "Python 3"
    }
  },
  "cells": [
    {
      "cell_type": "markdown",
      "metadata": {
        "id": "PcH4sPiTze6s"
      },
      "source": [
        "### **Scientific Computing using Scipy**"
      ]
    },
    {
      "cell_type": "code",
      "metadata": {
        "colab": {
          "base_uri": "https://localhost:8080/"
        },
        "id": "TaKXbQb2zdnv",
        "outputId": "a4c62d7f-9b0c-4342-ea4c-8e27fd89df0d"
      },
      "source": [
        "from scipy import constants\r\n",
        "print(constants.pi)"
      ],
      "execution_count": null,
      "outputs": [
        {
          "output_type": "stream",
          "text": [
            "3.141592653589793\n"
          ],
          "name": "stdout"
        }
      ]
    },
    {
      "cell_type": "code",
      "metadata": {
        "colab": {
          "base_uri": "https://localhost:8080/"
        },
        "id": "0e4u_Rjnz0CC",
        "outputId": "af267917-cd00-4bd1-b965-83bb03167d01"
      },
      "source": [
        "from scipy import constants\r\n",
        "print(dir(constants))"
      ],
      "execution_count": null,
      "outputs": [
        {
          "output_type": "stream",
          "text": [
            "['Avogadro', 'Boltzmann', 'Btu', 'Btu_IT', 'Btu_th', 'ConstantWarning', 'G', 'Julian_year', 'N_A', 'Planck', 'R', 'Rydberg', 'Stefan_Boltzmann', 'Wien', '__all__', '__builtins__', '__cached__', '__doc__', '__file__', '__loader__', '__name__', '__package__', '__path__', '__spec__', '_obsolete_constants', 'absolute_import', 'acre', 'alpha', 'angstrom', 'arcmin', 'arcminute', 'arcsec', 'arcsecond', 'astronomical_unit', 'atm', 'atmosphere', 'atomic_mass', 'atto', 'au', 'bar', 'barrel', 'bbl', 'blob', 'c', 'calorie', 'calorie_IT', 'calorie_th', 'carat', 'centi', 'codata', 'constants', 'convert_temperature', 'day', 'deci', 'degree', 'degree_Fahrenheit', 'deka', 'division', 'dyn', 'dyne', 'e', 'eV', 'electron_mass', 'electron_volt', 'elementary_charge', 'epsilon_0', 'erg', 'exa', 'exbi', 'femto', 'fermi', 'find', 'fine_structure', 'fluid_ounce', 'fluid_ounce_US', 'fluid_ounce_imp', 'foot', 'g', 'gallon', 'gallon_US', 'gallon_imp', 'gas_constant', 'gibi', 'giga', 'golden', 'golden_ratio', 'grain', 'gram', 'gravitational_constant', 'h', 'hbar', 'hectare', 'hecto', 'horsepower', 'hour', 'hp', 'inch', 'k', 'kgf', 'kibi', 'kilo', 'kilogram_force', 'kmh', 'knot', 'lambda2nu', 'lb', 'lbf', 'light_year', 'liter', 'litre', 'long_ton', 'm_e', 'm_n', 'm_p', 'm_u', 'mach', 'mebi', 'mega', 'metric_ton', 'micro', 'micron', 'mil', 'mile', 'milli', 'minute', 'mmHg', 'mph', 'mu_0', 'nano', 'nautical_mile', 'neutron_mass', 'nu2lambda', 'ounce', 'oz', 'parsec', 'pebi', 'peta', 'physical_constants', 'pi', 'pico', 'point', 'pound', 'pound_force', 'precision', 'print_function', 'proton_mass', 'psi', 'pt', 'short_ton', 'sigma', 'slinch', 'slug', 'speed_of_light', 'speed_of_sound', 'stone', 'survey_foot', 'survey_mile', 'tebi', 'tera', 'test', 'ton_TNT', 'torr', 'troy_ounce', 'troy_pound', 'u', 'unit', 'value', 'week', 'yard', 'year', 'yobi', 'yotta', 'zebi', 'zepto', 'zero_Celsius', 'zetta']\n"
          ],
          "name": "stdout"
        }
      ]
    },
    {
      "cell_type": "code",
      "metadata": {
        "colab": {
          "base_uri": "https://localhost:8080/"
        },
        "id": "l5a23tnTz7l6",
        "outputId": "de8089b5-947c-4a68-86e9-53b26899160e"
      },
      "source": [
        "from scipy import constants\r\n",
        "print(constants.yotta)\r\n",
        "print(constants.zetta)\r\n",
        "print(constants.exa)\r\n",
        "print(constants.tera)\r\n",
        "print(constants.mega)\r\n",
        "print(constants.kilo)\r\n",
        "print(constants.pico)"
      ],
      "execution_count": null,
      "outputs": [
        {
          "output_type": "stream",
          "text": [
            "1e+24\n",
            "1e+21\n",
            "1e+18\n",
            "1000000000000.0\n",
            "1000000.0\n",
            "1000.0\n",
            "1e-12\n"
          ],
          "name": "stdout"
        }
      ]
    },
    {
      "cell_type": "code",
      "metadata": {
        "colab": {
          "base_uri": "https://localhost:8080/"
        },
        "id": "MKVz7w6B0WQW",
        "outputId": "be0b49dd-7cfc-4ec4-b6c8-ffacb550cbad"
      },
      "source": [
        "from scipy import constants\r\n",
        "print(constants.gram)\r\n",
        "print(constants.pound)\r\n",
        "print(constants.carat)\r\n",
        "print(constants.u)\r\n",
        "print(constants.atomic_mass)\r\n",
        "print(constants.astronomical_unit)\r\n",
        "print(constants.atm)"
      ],
      "execution_count": null,
      "outputs": [
        {
          "output_type": "stream",
          "text": [
            "0.001\n",
            "0.45359236999999997\n",
            "0.0002\n",
            "1.6605390666e-27\n",
            "1.6605390666e-27\n",
            "149597870700.0\n",
            "101325.0\n"
          ],
          "name": "stdout"
        }
      ]
    },
    {
      "cell_type": "code",
      "metadata": {
        "colab": {
          "base_uri": "https://localhost:8080/"
        },
        "id": "U9nMjBqj0y8C",
        "outputId": "d6daeae1-6926-42bd-a925-114eaa624127"
      },
      "source": [
        "from scipy import constants\r\n",
        "print(constants.arcsec)\r\n",
        "print(constants.degree)\r\n",
        "print(constants.angstrom)\r\n",
        "print(constants.arcmin)\r\n",
        "print(constants.atto)\r\n",
        "print(constants.alpha)\r\n",
        "print(constants.atm)"
      ],
      "execution_count": null,
      "outputs": [
        {
          "output_type": "stream",
          "text": [
            "4.84813681109536e-06\n",
            "0.017453292519943295\n",
            "1e-10\n",
            "0.0002908882086657216\n",
            "1e-18\n",
            "0.0072973525693\n",
            "101325.0\n"
          ],
          "name": "stdout"
        }
      ]
    },
    {
      "cell_type": "code",
      "metadata": {
        "colab": {
          "base_uri": "https://localhost:8080/"
        },
        "id": "rtomyI9m1P-a",
        "outputId": "4e5d0379-82ae-4532-c564-cb167e707cda"
      },
      "source": [
        "from scipy import constants\r\n",
        "print(constants.minute)\r\n",
        "print(constants.hour)\r\n",
        "print(constants.day)\r\n",
        "print(constants.week)\r\n",
        "print(constants.year)\r\n",
        "print(constants.Julian_year)\r\n"
      ],
      "execution_count": null,
      "outputs": [
        {
          "output_type": "stream",
          "text": [
            "60.0\n",
            "3600.0\n",
            "86400.0\n",
            "604800.0\n",
            "31536000.0\n",
            "31557600.0\n"
          ],
          "name": "stdout"
        }
      ]
    },
    {
      "cell_type": "code",
      "metadata": {
        "colab": {
          "base_uri": "https://localhost:8080/"
        },
        "id": "T18div2g1rye",
        "outputId": "6e8d766a-4295-428f-fa51-43768614b89c"
      },
      "source": [
        "from scipy import constants\r\n",
        "print(constants.inch)\r\n",
        "print(constants.foot)\r\n",
        "print(constants.mile)\r\n",
        "print(constants.nautical_mile)\r\n",
        "print(constants.pt)\r\n",
        "print(constants.point)\r\n"
      ],
      "execution_count": null,
      "outputs": [
        {
          "output_type": "stream",
          "text": [
            "0.0254\n",
            "0.30479999999999996\n",
            "1609.3439999999998\n",
            "1852.0\n",
            "0.00035277777777777776\n",
            "0.00035277777777777776\n"
          ],
          "name": "stdout"
        }
      ]
    },
    {
      "cell_type": "code",
      "metadata": {
        "colab": {
          "base_uri": "https://localhost:8080/"
        },
        "id": "W6PEvkLm1-Ui",
        "outputId": "4295b214-85a6-42d2-86ca-44e13cf87e84"
      },
      "source": [
        "from scipy import constants\r\n",
        "print(constants.zero_Celsius)\r\n",
        "print(constants.degree_Fahrenheit)"
      ],
      "execution_count": null,
      "outputs": [
        {
          "output_type": "stream",
          "text": [
            "273.15\n",
            "0.5555555555555556\n"
          ],
          "name": "stdout"
        }
      ]
    },
    {
      "cell_type": "code",
      "metadata": {
        "colab": {
          "base_uri": "https://localhost:8080/"
        },
        "id": "a71xJiTY2Mce",
        "outputId": "2495bbc6-1d55-43dd-a1b5-9481a968ad6e"
      },
      "source": [
        "from scipy import constants\r\n",
        "print(constants.eV)\r\n",
        "print(constants.electron_volt)"
      ],
      "execution_count": null,
      "outputs": [
        {
          "output_type": "stream",
          "text": [
            "1.602176634e-19\n",
            "1.602176634e-19\n"
          ],
          "name": "stdout"
        }
      ]
    },
    {
      "cell_type": "code",
      "metadata": {
        "colab": {
          "base_uri": "https://localhost:8080/"
        },
        "id": "QlzbeL4v2UvB",
        "outputId": "3346958d-b053-4ba4-a91c-97a0cc04c7d5"
      },
      "source": [
        "from scipy import constants\r\n",
        "print(constants.hp)\r\n",
        "print(constants.horsepower)"
      ],
      "execution_count": null,
      "outputs": [
        {
          "output_type": "stream",
          "text": [
            "745.6998715822701\n",
            "745.6998715822701\n"
          ],
          "name": "stdout"
        }
      ]
    },
    {
      "cell_type": "code",
      "metadata": {
        "colab": {
          "base_uri": "https://localhost:8080/"
        },
        "id": "yQti-N-f2h1c",
        "outputId": "c9be9bdb-0a59-4e0b-d0cc-d178b7a8e9f7"
      },
      "source": [
        "from scipy.optimize import root\r\n",
        "from math import cos\r\n",
        "\r\n",
        "def eqn(x):\r\n",
        "  return x + cos(x)\r\n",
        "\r\n",
        "myroot = root(eqn,0)\r\n",
        "print(myroot.x)"
      ],
      "execution_count": null,
      "outputs": [
        {
          "output_type": "stream",
          "text": [
            "[-0.73908513]\n"
          ],
          "name": "stdout"
        }
      ]
    },
    {
      "cell_type": "code",
      "metadata": {
        "colab": {
          "base_uri": "https://localhost:8080/"
        },
        "id": "BnWXJSVD3knk",
        "outputId": "28c6ec43-0b12-4d5a-fced-b9e68ed7045e"
      },
      "source": [
        "from scipy.optimize import root\r\n",
        "from math import cos\r\n",
        "\r\n",
        "def eqn(x):\r\n",
        "  return x + cos(x)\r\n",
        "\r\n",
        "myroot = root(eqn,0)\r\n",
        "print(myroot)"
      ],
      "execution_count": null,
      "outputs": [
        {
          "output_type": "stream",
          "text": [
            "    fjac: array([[-1.]])\n",
            "     fun: array([0.])\n",
            " message: 'The solution converged.'\n",
            "    nfev: 9\n",
            "     qtf: array([-2.66786593e-13])\n",
            "       r: array([-1.67361202])\n",
            "  status: 1\n",
            " success: True\n",
            "       x: array([-0.73908513])\n"
          ],
          "name": "stdout"
        }
      ]
    },
    {
      "cell_type": "code",
      "metadata": {
        "colab": {
          "base_uri": "https://localhost:8080/"
        },
        "id": "GHyX1Lgc4Sz5",
        "outputId": "b8041f52-46a3-4bcf-c3d5-c38b5d77f945"
      },
      "source": [
        "from scipy.optimize import root\r\n",
        "from math import cos\r\n",
        "\r\n",
        "def eqn(x):\r\n",
        "  return x + cos(x)\r\n",
        "\r\n",
        "myroot = root(eqn,5)\r\n",
        "print(myroot.x)"
      ],
      "execution_count": null,
      "outputs": [
        {
          "output_type": "stream",
          "text": [
            "[-0.73908513]\n"
          ],
          "name": "stdout"
        }
      ]
    },
    {
      "cell_type": "code",
      "metadata": {
        "colab": {
          "base_uri": "https://localhost:8080/"
        },
        "id": "Fd-FzpUv4Wwy",
        "outputId": "37ab5cb2-9c94-49a4-ccc6-3f94646216ce"
      },
      "source": [
        "from scipy.optimize import root\r\n",
        "from math import cos\r\n",
        "\r\n",
        "def eqn(x):\r\n",
        "  return x + cos(x)\r\n",
        "\r\n",
        "myroot = root(eqn,3)\r\n",
        "print(myroot.x)"
      ],
      "execution_count": null,
      "outputs": [
        {
          "output_type": "stream",
          "text": [
            "[-0.73908513]\n"
          ],
          "name": "stdout"
        }
      ]
    },
    {
      "cell_type": "code",
      "metadata": {
        "colab": {
          "base_uri": "https://localhost:8080/"
        },
        "id": "0Zm9BaiF4Y0I",
        "outputId": "3d255489-f611-47b7-84e3-ed060714c44f"
      },
      "source": [
        "from scipy.optimize import minimize\r\n",
        "\r\n",
        "def eqn(x):\r\n",
        "  return x**2 +x + 2\r\n",
        "\r\n",
        "mymin = minimize(eqn,0,method=\"BFGS\")\r\n",
        "print(mymin)"
      ],
      "execution_count": null,
      "outputs": [
        {
          "output_type": "stream",
          "text": [
            "      fun: 1.75\n",
            " hess_inv: array([[0.50000001]])\n",
            "      jac: array([0.])\n",
            "  message: 'Optimization terminated successfully.'\n",
            "     nfev: 12\n",
            "      nit: 2\n",
            "     njev: 4\n",
            "   status: 0\n",
            "  success: True\n",
            "        x: array([-0.50000001])\n"
          ],
          "name": "stdout"
        }
      ]
    },
    {
      "cell_type": "code",
      "metadata": {
        "id": "WNxMsVSp5gWb"
      },
      "source": [
        ""
      ],
      "execution_count": null,
      "outputs": []
    }
  ]
}