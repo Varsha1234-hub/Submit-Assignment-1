{
  "nbformat": 4,
  "nbformat_minor": 0,
  "metadata": {
    "colab": {
      "name": "Functn.ipynb",
      "provenance": []
    },
    "kernelspec": {
      "name": "python3",
      "display_name": "Python 3"
    }
  },
  "cells": [
    {
      "cell_type": "markdown",
      "metadata": {
        "id": "J7PVS-Erzi20"
      },
      "source": [
        "Functions"
      ]
    },
    {
      "cell_type": "code",
      "metadata": {
        "id": "d1aKU605znZK"
      },
      "source": [
        "def areacircle(r):\n",
        "  area=3.14*(r**2)\n",
        "  return area"
      ],
      "execution_count": null,
      "outputs": []
    },
    {
      "cell_type": "code",
      "metadata": {
        "id": "BJmfXjGqz7As",
        "colab": {
          "base_uri": "https://localhost:8080/"
        },
        "outputId": "21d711d5-93a7-4460-fa91-1359fac4a39b"
      },
      "source": [
        "areacircle(34)\n"
      ],
      "execution_count": null,
      "outputs": [
        {
          "output_type": "execute_result",
          "data": {
            "text/plain": [
              "3629.84"
            ]
          },
          "metadata": {
            "tags": []
          },
          "execution_count": 2
        }
      ]
    },
    {
      "cell_type": "code",
      "metadata": {
        "id": "-Y8Y6VRA0ISe",
        "colab": {
          "base_uri": "https://localhost:8080/"
        },
        "outputId": "fe04bd2c-ad6e-41e6-f040-8e02b6e4337b"
      },
      "source": [
        "areacircle(2.567)"
      ],
      "execution_count": null,
      "outputs": [
        {
          "output_type": "execute_result",
          "data": {
            "text/plain": [
              "20.690995460000003"
            ]
          },
          "metadata": {
            "tags": []
          },
          "execution_count": 3
        }
      ]
    },
    {
      "cell_type": "code",
      "metadata": {
        "id": "l4ep-Nd10PoL"
      },
      "source": [
        "def volumecylinder(r,h):\n",
        "  volume=3.14*r**2*h\n",
        "  return volume"
      ],
      "execution_count": null,
      "outputs": []
    },
    {
      "cell_type": "markdown",
      "metadata": {
        "id": "3mLf7e7g5GlF"
      },
      "source": [
        ""
      ]
    },
    {
      "cell_type": "code",
      "metadata": {
        "id": "SSfTSa5Y0znX",
        "colab": {
          "base_uri": "https://localhost:8080/"
        },
        "outputId": "7e3dd29d-5145-4a94-c7bd-78c4771f1d0c"
      },
      "source": [
        "volumecylinder(r=133,h=2324)"
      ],
      "execution_count": null,
      "outputs": [
        {
          "output_type": "execute_result",
          "data": {
            "text/plain": [
              "129083001.03999999"
            ]
          },
          "metadata": {
            "tags": []
          },
          "execution_count": 5
        }
      ]
    },
    {
      "cell_type": "code",
      "metadata": {
        "id": "VKe0qqKb06ez"
      },
      "source": [
        ""
      ],
      "execution_count": null,
      "outputs": []
    }
  ]
}