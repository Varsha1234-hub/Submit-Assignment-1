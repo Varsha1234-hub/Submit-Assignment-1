{
  "nbformat": 4,
  "nbformat_minor": 0,
  "metadata": {
    "colab": {
      "name": "Linear Regression.ipynb",
      "provenance": [],
      "collapsed_sections": []
    },
    "kernelspec": {
      "name": "python3",
      "display_name": "Python 3"
    }
  },
  "cells": [
    {
      "cell_type": "markdown",
      "metadata": {
        "id": "YyCfKoszXGTW"
      },
      "source": [
        "# Linear Regression from Scratch!"
      ]
    },
    {
      "cell_type": "markdown",
      "metadata": {
        "id": "-GQWe8EOXWRz"
      },
      "source": [
        "### Let's first create our loss function\n",
        "![alt text](https://miro.medium.com/max/868/1*1g7XNjpxE92xo-jKxS4uow.png)"
      ]
    },
    {
      "cell_type": "code",
      "metadata": {
        "id": "N1_twfN6XKI_"
      },
      "source": [
        "# Our cost function\n",
        "def cost_function(m, b, x, y):\n",
        "    totalError = 0\n",
        "    for i in range(0, len(x)):\n",
        "        totalError += (y[i]-(m*x[i]+b))**2\n",
        "    return totalError/float(len(x))"
      ],
      "execution_count": null,
      "outputs": []
    },
    {
      "cell_type": "code",
      "metadata": {
        "id": "NAnX97AbXMHI"
      },
      "source": [
        "# Implementation of the gradient descent algorithm\n",
        "def gradient_descent(b, m, x, y, learning_rate, num_iterations):\n",
        "    N = float(len(x))\n",
        "    # repeat for num_iterations\n",
        "    for j in range(num_iterations): \n",
        "        b_gradient = 0\n",
        "        m_gradient = 0\n",
        "        for i in range(0, len(x)):\n",
        "            b_gradient += -(2/N) * (y[i] - ((m * x[i]) + b))\n",
        "            m_gradient += -(2/N) * x[i] * (y[i] - ((m * x[i]) + b))\n",
        "        b -= (learning_rate * b_gradient)\n",
        "        m -= (learning_rate * m_gradient)\n",
        "        # Every 100  iterations we print our error \n",
        "        if j%100==0:\n",
        "            print(\"MSE after \" + str(j) + \" iterations: \" + str(cost_function(m, b, x, y)))\n",
        "    return [b, m]"
      ],
      "execution_count": null,
      "outputs": []
    },
    {
      "cell_type": "markdown",
      "metadata": {
        "id": "0E31Yc0xXrza"
      },
      "source": [
        "### Let's test our Linear Regression algorithm on some test data"
      ]
    },
    {
      "cell_type": "code",
      "metadata": {
        "id": "mNcqg88RXNRJ",
        "colab": {
          "base_uri": "https://localhost:8080/",
          "height": 281
        },
        "outputId": "16d0c85e-532c-41c6-c5e7-e464ed9c08bf"
      },
      "source": [
        "import numpy as np\n",
        "import matplotlib.pyplot as plt\n",
        "\n",
        "# Let's create a some randon data using linspace\n",
        "x = np.linspace(0, 100, 50) # creates a range of 50 numbers evenly spaced between 0 and 100\n",
        "delta = np.random.uniform(-10, 10, x.size)\n",
        "y = 0.5*x + 3 + delta\n",
        "\n",
        "plt.scatter(x, y)"
      ],
      "execution_count": null,
      "outputs": [
        {
          "output_type": "execute_result",
          "data": {
            "text/plain": [
              "<matplotlib.collections.PathCollection at 0x7f1a3a8104a8>"
            ]
          },
          "metadata": {
            "tags": []
          },
          "execution_count": 3
        },
        {
          "output_type": "display_data",
          "data": {
            "image/png": "[encoded data removed]",
            "text/plain": [
              "<Figure size 432x288 with 1 Axes>"
            ]
          },
          "metadata": {
            "tags": [],
            "needs_background": "light"
          }
        }
      ]
    },
    {
      "cell_type": "code",
      "metadata": {
        "id": "M3XgFChgXOZL",
        "colab": {
          "base_uri": "https://localhost:8080/"
        },
        "outputId": "fb2dad91-2736-485d-f970-036d15906ad1"
      },
      "source": [
        "# Defining our learning rate\n",
        "learning_rate = 0.0001\n",
        "\n",
        "# defining our initial values of b and m\n",
        "initial_b = 0\n",
        "initial_m = 0\n",
        "\n",
        "# Setting how many iterations we wish to run\n",
        "num_iterations= 1000\n",
        "\n",
        "print('Initial MSE:', cost_function(initial_m, initial_b, x, y))\n",
        "[b, m] = gradient_descent(initial_b, initial_m, x, y, learning_rate, num_iterations)\n",
        "print('b:', b)\n",
        "print('m:', m)\n",
        "print('MSE:', cost_function(m, b, x, y))"
      ],
      "execution_count": null,
      "outputs": [
        {
          "output_type": "stream",
          "text": [
            "Initial MSE: 1026.0502093630455\n",
            "MSE after 0 iterations: 134.18291197048592\n",
            "MSE after 100 iterations: 27.84923548155466\n",
            "MSE after 200 iterations: 27.849199337236882\n",
            "MSE after 300 iterations: 27.849163563331512\n",
            "MSE after 400 iterations: 27.849128156042507\n",
            "MSE after 500 iterations: 27.84909311161273\n",
            "MSE after 600 iterations: 27.84905842632355\n",
            "MSE after 700 iterations: 27.849024096494414\n",
            "MSE after 800 iterations: 27.84899011848254\n",
            "MSE after 900 iterations: 27.84895648868245\n",
            "b: 0.013988201700686766\n",
            "m: 0.5442511263159057\n",
            "MSE: 27.848923534682825\n"
          ],
          "name": "stdout"
        }
      ]
    },
    {
      "cell_type": "code",
      "metadata": {
        "id": "XZyH8YgCXQKj",
        "colab": {
          "base_uri": "https://localhost:8080/",
          "height": 281
        },
        "outputId": "a672d183-862c-4bf5-c55d-eea08287ba8a"
      },
      "source": [
        "predictions = [(m * x[i]) + b for i in range(len(x))]\n",
        "plt.scatter(x, y)\n",
        "plt.plot(x, predictions, color='r')"
      ],
      "execution_count": null,
      "outputs": [
        {
          "output_type": "execute_result",
          "data": {
            "text/plain": [
              "[<matplotlib.lines.Line2D at 0x7f1a3a83d6d8>]"
            ]
          },
          "metadata": {
            "tags": []
          },
          "execution_count": 5
        },
        {
          "output_type": "display_data",
          "data": {
            "image/png": "[encoded data removed]",
            "text/plain": [
              "<Figure size 432x288 with 1 Axes>"
            ]
          },
          "metadata": {
            "tags": [],
            "needs_background": "light"
          }
        }
      ]
    },
    {
      "cell_type": "code",
      "metadata": {
        "colab": {
          "base_uri": "https://localhost:8080/",
          "height": 281
        },
        "id": "efEMkvIl_7HW",
        "outputId": "97256787-6e10-424b-9348-6397e57d0251"
      },
      "source": [
        "predictions = [(m * x[i]) + b for i in range(len(x))]\r\n",
        "plt.scatter(x, y)\r\n",
        "plt.plot(x, predictions, color='green')"
      ],
      "execution_count": null,
      "outputs": [
        {
          "output_type": "execute_result",
          "data": {
            "text/plain": [
              "[<matplotlib.lines.Line2D at 0x7f1a3a318d30>]"
            ]
          },
          "metadata": {
            "tags": []
          },
          "execution_count": 6
        },
        {
          "output_type": "display_data",
          "data": {
            "image/png": "[encoded data removed]",
            "text/plain": [
              "<Figure size 432x288 with 1 Axes>"
            ]
          },
          "metadata": {
            "tags": [],
            "needs_background": "light"
          }
        }
      ]
    },
    {
      "cell_type": "markdown",
      "metadata": {
        "id": "Rt7MBIUZY394"
      },
      "source": [
        "# Let's use Sk Learn's Linear Regression model"
      ]
    },
    {
      "cell_type": "code",
      "metadata": {
        "id": "Kq-y5AaW_7D8",
        "colab": {
          "base_uri": "https://localhost:8080/"
        },
        "outputId": "faf38d62-d3bb-4581-e08f-6d13d03d5b49"
      },
      "source": [
        "import numpy as np\n",
        "from sklearn.linear_model import LinearRegression\n",
        "\n",
        "# Let's change the shape of x array to the format expected by sklearn\n",
        "print(x.shape)\n",
        "x = x.reshape((-1, 1))\n",
        "print(x.shape)"
      ],
      "execution_count": null,
      "outputs": [
        {
          "output_type": "stream",
          "text": [
            "(25, 2)\n",
            "(50, 1)\n"
          ],
          "name": "stdout"
        }
      ]
    },
    {
      "cell_type": "code",
      "metadata": {
        "colab": {
          "base_uri": "https://localhost:8080/"
        },
        "id": "rPqGf2rTAFZ3",
        "outputId": "c49d3707-404a-47cf-d6de-9c528ba19485"
      },
      "source": [
        "import numpy as np\r\n",
        "from sklearn.linear_model import LinearRegression\r\n",
        "\r\n",
        "# Let's change the shape of x array to the format expected by sklearn\r\n",
        "print(x.shape)\r\n",
        "x = x.reshape((-1, 2))\r\n",
        "print(x.shape)"
      ],
      "execution_count": null,
      "outputs": [
        {
          "output_type": "stream",
          "text": [
            "(50, 1)\n",
            "(25, 2)\n"
          ],
          "name": "stdout"
        }
      ]
    },
    {
      "cell_type": "code",
      "metadata": {
        "id": "PVC7TCsIZCU5",
        "colab": {
          "base_uri": "https://localhost:8080/"
        },
        "outputId": "359f2818-06a4-4689-a380-de87ee0088a6"
      },
      "source": [
        "# Let's create the model object using LinearRegression\n",
        "model = LinearRegression()\n",
        "\n",
        "# Fit our model to our input data x and y\n",
        "model.fit(x, y)"
      ],
      "execution_count": null,
      "outputs": [
        {
          "output_type": "execute_result",
          "data": {
            "text/plain": [
              "LinearRegression(copy_X=True, fit_intercept=True, n_jobs=None, normalize=False)"
            ]
          },
          "metadata": {
            "tags": []
          },
          "execution_count": 11
        }
      ]
    },
    {
      "cell_type": "code",
      "metadata": {
        "id": "pm7sj82pXRQB",
        "colab": {
          "base_uri": "https://localhost:8080/"
        },
        "outputId": "fcd56338-8449-403a-c230-d8d28a28e940"
      },
      "source": [
        "# Get our model paramters\n",
        "print('Y Intercept:', model.intercept_) #b\n",
        "print('Gradient:', model.coef_) #m"
      ],
      "execution_count": null,
      "outputs": [
        {
          "output_type": "stream",
          "text": [
            "Y Intercept: 0.12570940120746243\n",
            "Gradient: [0.54259211]\n"
          ],
          "name": "stdout"
        }
      ]
    },
    {
      "cell_type": "code",
      "metadata": {
        "id": "9o3jcn24B3X-",
        "colab": {
          "base_uri": "https://localhost:8080/"
        },
        "outputId": "e3aeaf2c-15bf-4fcb-b6f1-1718e997f8b7"
      },
      "source": [
        "print('Y Intercept:', b)\n",
        "print('Gradient:', m)"
      ],
      "execution_count": null,
      "outputs": [
        {
          "output_type": "stream",
          "text": [
            "Y Intercept: 0.013988201700686766\n",
            "Gradient: 0.5442511263159057\n"
          ],
          "name": "stdout"
        }
      ]
    },
    {
      "cell_type": "code",
      "metadata": {
        "id": "-QdyYmqKZzzn"
      },
      "source": [
        "# Store all predictions in y_pred\n",
        "\n",
        "y_pred = model.predict(x)"
      ],
      "execution_count": null,
      "outputs": []
    },
    {
      "cell_type": "code",
      "metadata": {
        "id": "jjCBNOBfCH5M",
        "colab": {
          "base_uri": "https://localhost:8080/"
        },
        "outputId": "2937bdfb-a718-4afd-e7ba-51f0f260b67b"
      },
      "source": [
        "y"
      ],
      "execution_count": null,
      "outputs": [
        {
          "output_type": "execute_result",
          "data": {
            "text/plain": [
              "array([-6.82928978,  4.90875609,  7.99886705, -2.1053734 ,  6.12445306,\n",
              "        4.47936912,  9.87191462,  0.88763047,  9.98913145, 11.05100496,\n",
              "        8.56817543,  4.49446267, 24.01535687,  8.99139627,  9.29502598,\n",
              "       20.05331167, 27.68126146, 21.6680099 , 24.4322989 , 18.22422905,\n",
              "       16.13490793, 25.43684223, 26.03726711, 22.44516855, 34.91151454,\n",
              "       32.15936784, 37.37636387, 22.409006  , 30.86152208, 25.20268804,\n",
              "       30.42453672, 31.20020378, 34.97881018, 43.93801515, 47.04818803,\n",
              "       29.80406276, 42.00308226, 38.25924774, 49.55409803, 44.61268865,\n",
              "       40.11197469, 50.19195843, 45.71203327, 48.87610819, 45.04921145,\n",
              "       43.36520402, 47.22165894, 53.6295146 , 59.97898556, 50.03151983])"
            ]
          },
          "metadata": {
            "tags": []
          },
          "execution_count": 15
        }
      ]
    },
    {
      "cell_type": "code",
      "metadata": {
        "id": "6KO1BykPZTgL",
        "colab": {
          "base_uri": "https://localhost:8080/",
          "height": 281
        },
        "outputId": "9b47039b-f15a-43f4-8801-4a758c7cf1b0"
      },
      "source": [
        "plt.scatter(x, y)\n",
        "plt.plot(x, y_pred, color='r')"
      ],
      "execution_count": null,
      "outputs": [
        {
          "output_type": "execute_result",
          "data": {
            "text/plain": [
              "[<matplotlib.lines.Line2D at 0x7f1a2d638160>]"
            ]
          },
          "metadata": {
            "tags": []
          },
          "execution_count": 16
        },
        {
          "output_type": "display_data",
          "data": {
            "image/png": "[encoded data removed]",
            "text/plain": [
              "<Figure size 432x288 with 1 Axes>"
            ]
          },
          "metadata": {
            "tags": [],
            "needs_background": "light"
          }
        }
      ]
    },
    {
      "cell_type": "code",
      "metadata": {
        "colab": {
          "base_uri": "https://localhost:8080/",
          "height": 281
        },
        "id": "BauDIW_RAZQj",
        "outputId": "bb5630ec-b9ec-44f6-8a36-43e5b3ca1ab0"
      },
      "source": [
        "plt.scatter(x, y)\r\n",
        "plt.plot(x, y_pred, color='hotpink')"
      ],
      "execution_count": null,
      "outputs": [
        {
          "output_type": "execute_result",
          "data": {
            "text/plain": [
              "[<matplotlib.lines.Line2D at 0x7f1a2d59edd8>]"
            ]
          },
          "metadata": {
            "tags": []
          },
          "execution_count": 17
        },
        {
          "output_type": "display_data",
          "data": {
            "image/png": "[encoded data removed]",
            "text/plain": [
              "<Figure size 432x288 with 1 Axes>"
            ]
          },
          "metadata": {
            "tags": [],
            "needs_background": "light"
          }
        }
      ]
    },
    {
      "cell_type": "code",
      "metadata": {
        "id": "i8-4fnynaEO7",
        "colab": {
          "base_uri": "https://localhost:8080/"
        },
        "outputId": "33c4bf0e-76ca-4c5d-db19-78baaa735815"
      },
      "source": [
        "from sklearn.metrics import mean_squared_error \n",
        "\n",
        "print(\"Mean squared error: %.2f\" % mean_squared_error(y, y_pred))"
      ],
      "execution_count": null,
      "outputs": [
        {
          "output_type": "stream",
          "text": [
            "Mean squared error: 27.85\n"
          ],
          "name": "stdout"
        }
      ]
    },
    {
      "cell_type": "markdown",
      "metadata": {
        "id": "iIEUkNUtnxTN"
      },
      "source": [
        "# Linear Regression on Olympic 100m Gold Times\n",
        "\n",
        "![alt text](https://encrypted-tbn0.gstatic.com/images?q=tbn%3AANd9GcQTrYpw1FCRAqMEsZJRBr30sotdaZvia4NgQAWiJEuK13DAgnsZ)"
      ]
    },
    {
      "cell_type": "code",
      "metadata": {
        "id": "LDUSTJNYa4SS",
        "colab": {
          "base_uri": "https://localhost:8080/",
          "height": 202
        },
        "outputId": "549ee230-0575-405b-a956-4a56a5f9f40e"
      },
      "source": [
        "import pandas as pd\n",
        "import numpy as np\n",
        "import seaborn as sns\n",
        "import matplotlib.pyplot as plt\n",
        "\n",
        "file_name = \"/content/olympic100m.csv\"\n",
        "df = pd.read_csv(file_name)\n",
        "df.tail(5)"
      ],
      "execution_count": null,
      "outputs": [
        {
          "output_type": "execute_result",
          "data": {
            "text/html": [
              "<div>\n",
              "<style scoped>\n",
              "    .dataframe tbody tr th:only-of-type {\n",
              "        vertical-align: middle;\n",
              "    }\n",
              "\n",
              "    .dataframe tbody tr th {\n",
              "        vertical-align: top;\n",
              "    }\n",
              "\n",
              "    .dataframe thead th {\n",
              "        text-align: right;\n",
              "    }\n",
              "</style>\n",
              "<table border=\"1\" class=\"dataframe\">\n",
              "  <thead>\n",
              "    <tr style=\"text-align: right;\">\n",
              "      <th></th>\n",
              "      <th>year</th>\n",
              "      <th>time</th>\n",
              "    </tr>\n",
              "  </thead>\n",
              "  <tbody>\n",
              "    <tr>\n",
              "      <th>24</th>\n",
              "      <td>2000</td>\n",
              "      <td>9.87</td>\n",
              "    </tr>\n",
              "    <tr>\n",
              "      <th>25</th>\n",
              "      <td>2004</td>\n",
              "      <td>9.85</td>\n",
              "    </tr>\n",
              "    <tr>\n",
              "      <th>26</th>\n",
              "      <td>2008</td>\n",
              "      <td>9.69</td>\n",
              "    </tr>\n",
              "    <tr>\n",
              "      <th>27</th>\n",
              "      <td>2012</td>\n",
              "      <td>9.63</td>\n",
              "    </tr>\n",
              "    <tr>\n",
              "      <th>28</th>\n",
              "      <td>2016</td>\n",
              "      <td>9.81</td>\n",
              "    </tr>\n",
              "  </tbody>\n",
              "</table>\n",
              "</div>"
            ],
            "text/plain": [
              "    year  time\n",
              "24  2000  9.87\n",
              "25  2004  9.85\n",
              "26  2008  9.69\n",
              "27  2012  9.63\n",
              "28  2016  9.81"
            ]
          },
          "metadata": {
            "tags": []
          },
          "execution_count": 19
        }
      ]
    },
    {
      "cell_type": "code",
      "metadata": {
        "id": "MxhWp6BLnwei",
        "colab": {
          "base_uri": "https://localhost:8080/"
        },
        "outputId": "4d027586-3c2b-443c-b5a6-9e44dac6b8a1"
      },
      "source": [
        "# Format data into correct shape\n",
        "x = df['year']\n",
        "x_train = np.array(x).reshape((-1, 1))\n",
        "x_train.shape"
      ],
      "execution_count": null,
      "outputs": [
        {
          "output_type": "execute_result",
          "data": {
            "text/plain": [
              "(29, 1)"
            ]
          },
          "metadata": {
            "tags": []
          },
          "execution_count": 20
        }
      ]
    },
    {
      "cell_type": "code",
      "metadata": {
        "id": "ABcvFsPYodnn"
      },
      "source": [
        "y_train = np.array(df['time'])"
      ],
      "execution_count": null,
      "outputs": []
    },
    {
      "cell_type": "code",
      "metadata": {
        "id": "pgbw5xh2CuwD",
        "colab": {
          "base_uri": "https://localhost:8080/"
        },
        "outputId": "3fe786de-f7d1-482e-e0f3-f423843966f6"
      },
      "source": [
        "y_train.shape"
      ],
      "execution_count": null,
      "outputs": [
        {
          "output_type": "execute_result",
          "data": {
            "text/plain": [
              "(29,)"
            ]
          },
          "metadata": {
            "tags": []
          },
          "execution_count": 22
        }
      ]
    },
    {
      "cell_type": "code",
      "metadata": {
        "id": "ik9NQ1N5oHsZ",
        "colab": {
          "base_uri": "https://localhost:8080/",
          "height": 281
        },
        "outputId": "56a4e0d3-32f2-465f-bd56-b0218aaef194"
      },
      "source": [
        "import numpy as np\n",
        "from sklearn.linear_model import LinearRegression\n",
        "\n",
        "# Let's create the model object using LinearRegression\n",
        "model = LinearRegression()\n",
        "\n",
        "# Fit our model to our input data x and y\n",
        "model.fit(x_train, y_train)\n",
        "\n",
        "y_pred = model.predict(x_train)\n",
        "plt.scatter(x_train, y_train)\n",
        "plt.plot(x, y_pred, color='r')"
      ],
      "execution_count": null,
      "outputs": [
        {
          "output_type": "execute_result",
          "data": {
            "text/plain": [
              "[<matplotlib.lines.Line2D at 0x7f1a2cc8bc18>]"
            ]
          },
          "metadata": {
            "tags": []
          },
          "execution_count": 23
        },
        {
          "output_type": "display_data",
          "data": {
            "image/png": "[encoded data removed]",
            "text/plain": [
              "<Figure size 432x288 with 1 Axes>"
            ]
          },
          "metadata": {
            "tags": [],
            "needs_background": "light"
          }
        }
      ]
    },
    {
      "cell_type": "code",
      "metadata": {
        "id": "7qUmxJZuommJ",
        "colab": {
          "base_uri": "https://localhost:8080/"
        },
        "outputId": "06fb36de-f7fb-4d4e-f8dc-c1c4e5ce88f4"
      },
      "source": [
        "# Predict for 2020 Olympics\n",
        "\n",
        "x_2020 = np.array([2020]).reshape(-1, 1)\n",
        "x_2020.shape"
      ],
      "execution_count": null,
      "outputs": [
        {
          "output_type": "execute_result",
          "data": {
            "text/plain": [
              "(1, 1)"
            ]
          },
          "metadata": {
            "tags": []
          },
          "execution_count": 24
        }
      ]
    },
    {
      "cell_type": "code",
      "metadata": {
        "id": "TYdej89cDE4H",
        "colab": {
          "base_uri": "https://localhost:8080/"
        },
        "outputId": "d9248729-79e0-475c-be0c-8297edc72481"
      },
      "source": [
        "model.predict(x_2020)"
      ],
      "execution_count": null,
      "outputs": [
        {
          "output_type": "execute_result",
          "data": {
            "text/plain": [
              "array([9.52679525])"
            ]
          },
          "metadata": {
            "tags": []
          },
          "execution_count": 25
        }
      ]
    },
    {
      "cell_type": "markdown",
      "metadata": {
        "id": "9EhFn-6wpwWZ"
      },
      "source": [
        "# Polynomial Regressions"
      ]
    },
    {
      "cell_type": "code",
      "metadata": {
        "id": "bUUJLEIdpyLS",
        "colab": {
          "base_uri": "https://localhost:8080/",
          "height": 233
        },
        "outputId": "558c3a5c-60aa-4d75-909c-3bd181c1c49b"
      },
      "source": [
        "# Importing the libraries \n",
        "import numpy as np \n",
        "import matplotlib.pyplot as plt \n",
        "import pandas as pd \n",
        "  \n",
        "# Importing the dataset \n",
        "file_name = \"/content/polylinearregression.csv\"\n",
        "df = pd.read_csv(file_name)\n",
        "df.head(7)"
      ],
      "execution_count": null,
      "outputs": [
        {
          "output_type": "execute_result",
          "data": {
            "text/html": [
              "<div>\n",
              "<style scoped>\n",
              "    .dataframe tbody tr th:only-of-type {\n",
              "        vertical-align: middle;\n",
              "    }\n",
              "\n",
              "    .dataframe tbody tr th {\n",
              "        vertical-align: top;\n",
              "    }\n",
              "\n",
              "    .dataframe thead th {\n",
              "        text-align: right;\n",
              "    }\n",
              "</style>\n",
              "<table border=\"1\" class=\"dataframe\">\n",
              "  <thead>\n",
              "    <tr style=\"text-align: right;\">\n",
              "      <th></th>\n",
              "      <th>sno</th>\n",
              "      <th>Temperature</th>\n",
              "      <th>Pressure</th>\n",
              "    </tr>\n",
              "  </thead>\n",
              "  <tbody>\n",
              "    <tr>\n",
              "      <th>0</th>\n",
              "      <td>1</td>\n",
              "      <td>0</td>\n",
              "      <td>0.0002</td>\n",
              "    </tr>\n",
              "    <tr>\n",
              "      <th>1</th>\n",
              "      <td>2</td>\n",
              "      <td>20</td>\n",
              "      <td>0.0012</td>\n",
              "    </tr>\n",
              "    <tr>\n",
              "      <th>2</th>\n",
              "      <td>3</td>\n",
              "      <td>40</td>\n",
              "      <td>0.0060</td>\n",
              "    </tr>\n",
              "    <tr>\n",
              "      <th>3</th>\n",
              "      <td>4</td>\n",
              "      <td>60</td>\n",
              "      <td>0.0300</td>\n",
              "    </tr>\n",
              "    <tr>\n",
              "      <th>4</th>\n",
              "      <td>5</td>\n",
              "      <td>80</td>\n",
              "      <td>0.0900</td>\n",
              "    </tr>\n",
              "    <tr>\n",
              "      <th>5</th>\n",
              "      <td>6</td>\n",
              "      <td>100</td>\n",
              "      <td>0.2700</td>\n",
              "    </tr>\n",
              "  </tbody>\n",
              "</table>\n",
              "</div>"
            ],
            "text/plain": [
              "   sno  Temperature  Pressure\n",
              "0    1            0    0.0002\n",
              "1    2           20    0.0012\n",
              "2    3           40    0.0060\n",
              "3    4           60    0.0300\n",
              "4    5           80    0.0900\n",
              "5    6          100    0.2700"
            ]
          },
          "metadata": {
            "tags": []
          },
          "execution_count": 26
        }
      ]
    },
    {
      "cell_type": "code",
      "metadata": {
        "id": "INW0aIQioz89"
      },
      "source": [
        "# Extract our x values, the column Temperature\n",
        "x = df.iloc[:, 1:2].values \n",
        "\n",
        "# Extract our y or target variable Pressure\n",
        "y = df.iloc[:, 2].values "
      ],
      "execution_count": null,
      "outputs": []
    },
    {
      "cell_type": "code",
      "metadata": {
        "id": "GQH_IywSGeBR",
        "colab": {
          "base_uri": "https://localhost:8080/"
        },
        "outputId": "1fb1164a-7ee9-4118-cf99-18d60e31a3d4"
      },
      "source": [
        "x"
      ],
      "execution_count": null,
      "outputs": [
        {
          "output_type": "execute_result",
          "data": {
            "text/plain": [
              "array([[  0],\n",
              "       [ 20],\n",
              "       [ 40],\n",
              "       [ 60],\n",
              "       [ 80],\n",
              "       [100]])"
            ]
          },
          "metadata": {
            "tags": []
          },
          "execution_count": 28
        }
      ]
    },
    {
      "cell_type": "code",
      "metadata": {
        "id": "8SIGc1sHqd_-",
        "colab": {
          "base_uri": "https://localhost:8080/"
        },
        "outputId": "b7b8f18a-3442-44f9-fbbe-6d1dbf919bb0"
      },
      "source": [
        "# Fitting Polynomial Regression to the dataset \n",
        "# Fitting the Polynomial Regression model on two components X and y.\n",
        "from sklearn.linear_model import LinearRegression\n",
        "from sklearn.preprocessing import PolynomialFeatures \n",
        "  \n",
        "poly = PolynomialFeatures(degree = 9) \n",
        "model_Poly = poly.fit_transform(x) \n",
        "  \n",
        "lin_poly = LinearRegression() \n",
        "lin_poly.fit(model_Poly, y) "
      ],
      "execution_count": null,
      "outputs": [
        {
          "output_type": "execute_result",
          "data": {
            "text/plain": [
              "LinearRegression(copy_X=True, fit_intercept=True, n_jobs=None, normalize=False)"
            ]
          },
          "metadata": {
            "tags": []
          },
          "execution_count": 29
        }
      ]
    },
    {
      "cell_type": "code",
      "metadata": {
        "id": "je242pZfq1-d",
        "colab": {
          "base_uri": "https://localhost:8080/",
          "height": 295
        },
        "outputId": "983d45cb-d1a1-4f3a-a09e-00f68eba7d13"
      },
      "source": [
        "# Visualising the Polynomial Regression results \n",
        "plt.scatter(x, y, color = 'blue') \n",
        "  \n",
        "plt.plot(x, lin_poly.predict(model_Poly), color = 'red') \n",
        "plt.title('Polynomial Regression') \n",
        "plt.xlabel('Temperature') \n",
        "plt.ylabel('Pressure') \n",
        "  \n",
        "plt.show() "
      ],
      "execution_count": null,
      "outputs": [
        {
          "output_type": "display_data",
          "data": {
            "image/png": "[encoded data removed]",
            "text/plain": [
              "<Figure size 432x288 with 1 Axes>"
            ]
          },
          "metadata": {
            "tags": [],
            "needs_background": "light"
          }
        }
      ]
    },
    {
      "cell_type": "markdown",
      "metadata": {
        "id": "edECUTmDra0w"
      },
      "source": [
        "# Multivariate Linear Regression"
      ]
    },
    {
      "cell_type": "code",
      "metadata": {
        "id": "Sy4aoJx8rdHU",
        "colab": {
          "base_uri": "https://localhost:8080/",
          "height": 202
        },
        "outputId": "3fdfd3b9-279c-4064-84db-94005dd45859"
      },
      "source": [
        "# Importing the libraries \n",
        "import numpy as np \n",
        "import matplotlib.pyplot as plt \n",
        "import pandas as pd \n",
        "  \n",
        "# Importing the dataset \n",
        "file_name = \"/content/autompg.csv\"\n",
        "auto_df = pd.read_csv(file_name)\n",
        "auto_df.head()"
      ],
      "execution_count": null,
      "outputs": [
        {
          "output_type": "execute_result",
          "data": {
            "text/html": [
              "<div>\n",
              "<style scoped>\n",
              "    .dataframe tbody tr th:only-of-type {\n",
              "        vertical-align: middle;\n",
              "    }\n",
              "\n",
              "    .dataframe tbody tr th {\n",
              "        vertical-align: top;\n",
              "    }\n",
              "\n",
              "    .dataframe thead th {\n",
              "        text-align: right;\n",
              "    }\n",
              "</style>\n",
              "<table border=\"1\" class=\"dataframe\">\n",
              "  <thead>\n",
              "    <tr style=\"text-align: right;\">\n",
              "      <th></th>\n",
              "      <th>mpg</th>\n",
              "      <th>cylinders</th>\n",
              "      <th>displacement</th>\n",
              "      <th>horsepower</th>\n",
              "      <th>weight</th>\n",
              "      <th>acceleration</th>\n",
              "      <th>model year</th>\n",
              "      <th>origin</th>\n",
              "      <th>car name</th>\n",
              "    </tr>\n",
              "  </thead>\n",
              "  <tbody>\n",
              "    <tr>\n",
              "      <th>0</th>\n",
              "      <td>18.0</td>\n",
              "      <td>8</td>\n",
              "      <td>307.0</td>\n",
              "      <td>130</td>\n",
              "      <td>3504</td>\n",
              "      <td>12.0</td>\n",
              "      <td>70</td>\n",
              "      <td>1</td>\n",
              "      <td>chevrolet chevelle malibu</td>\n",
              "    </tr>\n",
              "    <tr>\n",
              "      <th>1</th>\n",
              "      <td>15.0</td>\n",
              "      <td>8</td>\n",
              "      <td>350.0</td>\n",
              "      <td>165</td>\n",
              "      <td>3693</td>\n",
              "      <td>11.5</td>\n",
              "      <td>70</td>\n",
              "      <td>1</td>\n",
              "      <td>buick skylark 320</td>\n",
              "    </tr>\n",
              "    <tr>\n",
              "      <th>2</th>\n",
              "      <td>18.0</td>\n",
              "      <td>8</td>\n",
              "      <td>318.0</td>\n",
              "      <td>150</td>\n",
              "      <td>3436</td>\n",
              "      <td>11.0</td>\n",
              "      <td>70</td>\n",
              "      <td>1</td>\n",
              "      <td>plymouth satellite</td>\n",
              "    </tr>\n",
              "    <tr>\n",
              "      <th>3</th>\n",
              "      <td>16.0</td>\n",
              "      <td>8</td>\n",
              "      <td>304.0</td>\n",
              "      <td>150</td>\n",
              "      <td>3433</td>\n",
              "      <td>12.0</td>\n",
              "      <td>70</td>\n",
              "      <td>1</td>\n",
              "      <td>amc rebel sst</td>\n",
              "    </tr>\n",
              "    <tr>\n",
              "      <th>4</th>\n",
              "      <td>17.0</td>\n",
              "      <td>8</td>\n",
              "      <td>302.0</td>\n",
              "      <td>140</td>\n",
              "      <td>3449</td>\n",
              "      <td>10.5</td>\n",
              "      <td>70</td>\n",
              "      <td>1</td>\n",
              "      <td>ford torino</td>\n",
              "    </tr>\n",
              "  </tbody>\n",
              "</table>\n",
              "</div>"
            ],
            "text/plain": [
              "    mpg  cylinders  displacement  ... model year  origin                   car name\n",
              "0  18.0          8         307.0  ...         70       1  chevrolet chevelle malibu\n",
              "1  15.0          8         350.0  ...         70       1          buick skylark 320\n",
              "2  18.0          8         318.0  ...         70       1         plymouth satellite\n",
              "3  16.0          8         304.0  ...         70       1              amc rebel sst\n",
              "4  17.0          8         302.0  ...         70       1                ford torino\n",
              "\n",
              "[5 rows x 9 columns]"
            ]
          },
          "metadata": {
            "tags": []
          },
          "execution_count": 33
        }
      ]
    },
    {
      "cell_type": "code",
      "metadata": {
        "id": "tKF2XaDgKKWW",
        "colab": {
          "base_uri": "https://localhost:8080/",
          "height": 233
        },
        "outputId": "69747ccb-467f-4a2e-994b-12b75dbad434"
      },
      "source": [
        "# Check for the rows that contain \"?\"\n",
        "auto_df[auto_df['horsepower'] == '?']"
      ],
      "execution_count": null,
      "outputs": [
        {
          "output_type": "execute_result",
          "data": {
            "text/html": [
              "<div>\n",
              "<style scoped>\n",
              "    .dataframe tbody tr th:only-of-type {\n",
              "        vertical-align: middle;\n",
              "    }\n",
              "\n",
              "    .dataframe tbody tr th {\n",
              "        vertical-align: top;\n",
              "    }\n",
              "\n",
              "    .dataframe thead th {\n",
              "        text-align: right;\n",
              "    }\n",
              "</style>\n",
              "<table border=\"1\" class=\"dataframe\">\n",
              "  <thead>\n",
              "    <tr style=\"text-align: right;\">\n",
              "      <th></th>\n",
              "      <th>mpg</th>\n",
              "      <th>cylinders</th>\n",
              "      <th>displacement</th>\n",
              "      <th>horsepower</th>\n",
              "      <th>weight</th>\n",
              "      <th>acceleration</th>\n",
              "      <th>model year</th>\n",
              "      <th>origin</th>\n",
              "      <th>car name</th>\n",
              "    </tr>\n",
              "  </thead>\n",
              "  <tbody>\n",
              "    <tr>\n",
              "      <th>32</th>\n",
              "      <td>25.0</td>\n",
              "      <td>4</td>\n",
              "      <td>98.0</td>\n",
              "      <td>?</td>\n",
              "      <td>2046</td>\n",
              "      <td>19.0</td>\n",
              "      <td>71</td>\n",
              "      <td>1</td>\n",
              "      <td>ford pinto</td>\n",
              "    </tr>\n",
              "    <tr>\n",
              "      <th>123</th>\n",
              "      <td>21.0</td>\n",
              "      <td>6</td>\n",
              "      <td>200.0</td>\n",
              "      <td>?</td>\n",
              "      <td>2875</td>\n",
              "      <td>17.0</td>\n",
              "      <td>74</td>\n",
              "      <td>1</td>\n",
              "      <td>ford maverick</td>\n",
              "    </tr>\n",
              "    <tr>\n",
              "      <th>327</th>\n",
              "      <td>40.9</td>\n",
              "      <td>4</td>\n",
              "      <td>85.0</td>\n",
              "      <td>?</td>\n",
              "      <td>1835</td>\n",
              "      <td>17.3</td>\n",
              "      <td>80</td>\n",
              "      <td>2</td>\n",
              "      <td>renault lecar deluxe</td>\n",
              "    </tr>\n",
              "    <tr>\n",
              "      <th>333</th>\n",
              "      <td>23.6</td>\n",
              "      <td>4</td>\n",
              "      <td>140.0</td>\n",
              "      <td>?</td>\n",
              "      <td>2905</td>\n",
              "      <td>14.3</td>\n",
              "      <td>80</td>\n",
              "      <td>1</td>\n",
              "      <td>ford mustang cobra</td>\n",
              "    </tr>\n",
              "    <tr>\n",
              "      <th>351</th>\n",
              "      <td>34.5</td>\n",
              "      <td>4</td>\n",
              "      <td>100.0</td>\n",
              "      <td>?</td>\n",
              "      <td>2320</td>\n",
              "      <td>15.8</td>\n",
              "      <td>81</td>\n",
              "      <td>2</td>\n",
              "      <td>renault 18i</td>\n",
              "    </tr>\n",
              "    <tr>\n",
              "      <th>371</th>\n",
              "      <td>23.0</td>\n",
              "      <td>4</td>\n",
              "      <td>151.0</td>\n",
              "      <td>?</td>\n",
              "      <td>3035</td>\n",
              "      <td>20.5</td>\n",
              "      <td>82</td>\n",
              "      <td>1</td>\n",
              "      <td>amc concord dl</td>\n",
              "    </tr>\n",
              "  </tbody>\n",
              "</table>\n",
              "</div>"
            ],
            "text/plain": [
              "      mpg  cylinders  displacement  ... model year  origin              car name\n",
              "32   25.0          4          98.0  ...         71       1            ford pinto\n",
              "123  21.0          6         200.0  ...         74       1         ford maverick\n",
              "327  40.9          4          85.0  ...         80       2  renault lecar deluxe\n",
              "333  23.6          4         140.0  ...         80       1    ford mustang cobra\n",
              "351  34.5          4         100.0  ...         81       2           renault 18i\n",
              "371  23.0          4         151.0  ...         82       1        amc concord dl\n",
              "\n",
              "[6 rows x 9 columns]"
            ]
          },
          "metadata": {
            "tags": []
          },
          "execution_count": 34
        }
      ]
    },
    {
      "cell_type": "code",
      "metadata": {
        "id": "E0cRzKJuKkh_"
      },
      "source": [
        "# Get the indexes that have \"?\" instead of numbers\n",
        "indexNames = auto_df[auto_df['horsepower'] == \"?\" ].index\n",
        " \n",
        "# Delete these row indexes from dataFrame\n",
        "auto_df.drop(indexNames , inplace=True)"
      ],
      "execution_count": null,
      "outputs": []
    },
    {
      "cell_type": "code",
      "metadata": {
        "id": "GgmCaG7_LVPd",
        "colab": {
          "base_uri": "https://localhost:8080/",
          "height": 48
        },
        "outputId": "27716d46-0b30-44a5-bfc7-f6a1c39d56de"
      },
      "source": [
        "# Just checking to see if they've been removed\n",
        "auto_df[auto_df['horsepower'] == '?']"
      ],
      "execution_count": null,
      "outputs": [
        {
          "output_type": "execute_result",
          "data": {
            "text/html": [
              "<div>\n",
              "<style scoped>\n",
              "    .dataframe tbody tr th:only-of-type {\n",
              "        vertical-align: middle;\n",
              "    }\n",
              "\n",
              "    .dataframe tbody tr th {\n",
              "        vertical-align: top;\n",
              "    }\n",
              "\n",
              "    .dataframe thead th {\n",
              "        text-align: right;\n",
              "    }\n",
              "</style>\n",
              "<table border=\"1\" class=\"dataframe\">\n",
              "  <thead>\n",
              "    <tr style=\"text-align: right;\">\n",
              "      <th></th>\n",
              "      <th>mpg</th>\n",
              "      <th>cylinders</th>\n",
              "      <th>displacement</th>\n",
              "      <th>horsepower</th>\n",
              "      <th>weight</th>\n",
              "      <th>acceleration</th>\n",
              "      <th>model year</th>\n",
              "      <th>origin</th>\n",
              "      <th>car name</th>\n",
              "    </tr>\n",
              "  </thead>\n",
              "  <tbody>\n",
              "  </tbody>\n",
              "</table>\n",
              "</div>"
            ],
            "text/plain": [
              "Empty DataFrame\n",
              "Columns: [mpg, cylinders, displacement, horsepower, weight, acceleration, model year, origin, car name]\n",
              "Index: []"
            ]
          },
          "metadata": {
            "tags": []
          },
          "execution_count": 36
        }
      ]
    },
    {
      "cell_type": "code",
      "metadata": {
        "id": "WTaTt_GaUToo"
      },
      "source": [
        "auto_df['horsepower'] = auto_df['horsepower'].astype(float)"
      ],
      "execution_count": null,
      "outputs": []
    },
    {
      "cell_type": "code",
      "metadata": {
        "id": "oAn6n5OiUd-x",
        "colab": {
          "base_uri": "https://localhost:8080/"
        },
        "outputId": "31a3c01e-50b4-45a2-c6ed-dc5c147832c0"
      },
      "source": [
        "auto_df.info()"
      ],
      "execution_count": null,
      "outputs": [
        {
          "output_type": "stream",
          "text": [
            "<class 'pandas.core.frame.DataFrame'>\n",
            "Int64Index: 389 entries, 0 to 394\n",
            "Data columns (total 9 columns):\n",
            " #   Column        Non-Null Count  Dtype  \n",
            "---  ------        --------------  -----  \n",
            " 0   mpg           389 non-null    float64\n",
            " 1   cylinders     389 non-null    int64  \n",
            " 2   displacement  389 non-null    float64\n",
            " 3   horsepower    389 non-null    float64\n",
            " 4   weight        389 non-null    int64  \n",
            " 5   acceleration  389 non-null    float64\n",
            " 6   model year    389 non-null    int64  \n",
            " 7   origin        389 non-null    int64  \n",
            " 8   car name      389 non-null    object \n",
            "dtypes: float64(4), int64(4), object(1)\n",
            "memory usage: 30.4+ KB\n"
          ],
          "name": "stdout"
        }
      ]
    },
    {
      "cell_type": "code",
      "metadata": {
        "id": "MkulGQNgq6Jo"
      },
      "source": [
        "x = auto_df.iloc[:,1:8].values\n",
        "y = auto_df.iloc[:,0].values"
      ],
      "execution_count": null,
      "outputs": []
    },
    {
      "cell_type": "code",
      "metadata": {
        "id": "OCbUAKEtxcWu",
        "colab": {
          "base_uri": "https://localhost:8080/"
        },
        "outputId": "35bb933b-3fc6-4aae-9e01-44b7b32c564c"
      },
      "source": [
        "x.shape"
      ],
      "execution_count": null,
      "outputs": [
        {
          "output_type": "execute_result",
          "data": {
            "text/plain": [
              "(389, 7)"
            ]
          },
          "metadata": {
            "tags": []
          },
          "execution_count": 40
        }
      ]
    },
    {
      "cell_type": "code",
      "metadata": {
        "id": "l_qHc71QxgBh",
        "colab": {
          "base_uri": "https://localhost:8080/"
        },
        "outputId": "12fbff26-d1cf-460e-9d00-d7c509994573"
      },
      "source": [
        "from sklearn.model_selection import train_test_split\n",
        "from sklearn.linear_model import LinearRegression\n",
        "from sklearn.metrics import mean_squared_error\n",
        "\n",
        "X_train,X_test,Y_train,Y_test = train_test_split(x,y,test_size=0.3,random_state=0)\n",
        "\n",
        "regressor = LinearRegression()\n",
        "regressor.fit(X_train,Y_train)"
      ],
      "execution_count": null,
      "outputs": [
        {
          "output_type": "execute_result",
          "data": {
            "text/plain": [
              "LinearRegression(copy_X=True, fit_intercept=True, n_jobs=None, normalize=False)"
            ]
          },
          "metadata": {
            "tags": []
          },
          "execution_count": 42
        }
      ]
    },
    {
      "cell_type": "code",
      "metadata": {
        "id": "4YNAxlW7OYR4"
      },
      "source": [
        "# cylinders\tdisplacement\thorsepower\tweight\tacceleration\tmodel year\torigin\n",
        "\n",
        "# Data for Honda Prelude actual mpg is 24\n",
        "Trial_Data = np.array([8, 220, 195, 3042 , 6.7, 98, 3])\n",
        "Trial_Data = Trial_Data.reshape((-1, 7))\n",
        "Trial_Data = Trial_Data.astype(float)"
      ],
      "execution_count": null,
      "outputs": []
    },
    {
      "cell_type": "code",
      "metadata": {
        "id": "7gTi12fbTB4I",
        "colab": {
          "base_uri": "https://localhost:8080/"
        },
        "outputId": "8cd38728-988c-4dd7-a8a1-d9e5ee40b523"
      },
      "source": [
        "regressor.predict(Trial_Data)[0]"
      ],
      "execution_count": null,
      "outputs": [
        {
          "output_type": "execute_result",
          "data": {
            "text/plain": [
              "38.18699460555594"
            ]
          },
          "metadata": {
            "tags": []
          },
          "execution_count": 44
        }
      ]
    },
    {
      "cell_type": "code",
      "metadata": {
        "id": "N01GioKHBx7s"
      },
      "source": [
        ""
      ],
      "execution_count": null,
      "outputs": []
    }
  ]
}