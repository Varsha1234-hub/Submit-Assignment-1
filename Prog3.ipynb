{
  "nbformat": 4,
  "nbformat_minor": 0,
  "metadata": {
    "colab": {
      "name": " Prog3.ipynb",
      "provenance": [],
      "collapsed_sections": []
    },
    "kernelspec": {
      "name": "python3",
      "display_name": "Python 3"
    }
  },
  "cells": [
    {
      "cell_type": "markdown",
      "metadata": {
        "id": "l9d70CzIsWP7"
      },
      "source": [
        "## Python Begineers Tutorials"
      ]
    },
    {
      "cell_type": "code",
      "metadata": {
        "id": "wDxkGDZSsmeD",
        "colab": {
          "base_uri": "https://localhost:8080/"
        },
        "outputId": "41f86021-2f0c-49b6-de62-0aae86075907"
      },
      "source": [
        "#Storing a number\n",
        "a=14\n",
        "print(a)"
      ],
      "execution_count": null,
      "outputs": [
        {
          "output_type": "stream",
          "text": [
            "14\n"
          ],
          "name": "stdout"
        }
      ]
    },
    {
      "cell_type": "code",
      "metadata": {
        "id": "BIYcRlF3s6Tu",
        "colab": {
          "base_uri": "https://localhost:8080/"
        },
        "outputId": "55bf942e-c63b-4ddf-f8c0-7e551d6b5bff"
      },
      "source": [
        "#Storing a number\n",
        "b=144\n",
        "print(b)"
      ],
      "execution_count": null,
      "outputs": [
        {
          "output_type": "stream",
          "text": [
            "144\n"
          ],
          "name": "stdout"
        }
      ]
    },
    {
      "cell_type": "code",
      "metadata": {
        "id": "4uolUZnJtlVH",
        "colab": {
          "base_uri": "https://localhost:8080/"
        },
        "outputId": "9ba725be-ca40-4d5b-b814-c3251aab0a2a"
      },
      "source": [
        "c=a+b\n",
        "print(c)"
      ],
      "execution_count": null,
      "outputs": [
        {
          "output_type": "stream",
          "text": [
            "158\n"
          ],
          "name": "stdout"
        }
      ]
    },
    {
      "cell_type": "code",
      "metadata": {
        "id": "SaoaxohutobW",
        "colab": {
          "base_uri": "https://localhost:8080/"
        },
        "outputId": "504de78e-2a48-44e0-cac2-724d01bf9898"
      },
      "source": [
        "a"
      ],
      "execution_count": null,
      "outputs": [
        {
          "output_type": "execute_result",
          "data": {
            "text/plain": [
              "14"
            ]
          },
          "metadata": {
            "tags": []
          },
          "execution_count": 5
        }
      ]
    },
    {
      "cell_type": "code",
      "metadata": {
        "id": "6Z5vV1A_t4J_",
        "colab": {
          "base_uri": "https://localhost:8080/"
        },
        "outputId": "0ee4a9a4-20a0-4d9d-9876-7fd337a1e050"
      },
      "source": [
        "b"
      ],
      "execution_count": null,
      "outputs": [
        {
          "output_type": "execute_result",
          "data": {
            "text/plain": [
              "144"
            ]
          },
          "metadata": {
            "tags": []
          },
          "execution_count": 6
        }
      ]
    },
    {
      "cell_type": "code",
      "metadata": {
        "id": "lw9GHx9Jt5Dy",
        "colab": {
          "base_uri": "https://localhost:8080/"
        },
        "outputId": "aafff242-33fa-48b4-ed3d-20d9bfabe432"
      },
      "source": [
        "c"
      ],
      "execution_count": null,
      "outputs": [
        {
          "output_type": "execute_result",
          "data": {
            "text/plain": [
              "158"
            ]
          },
          "metadata": {
            "tags": []
          },
          "execution_count": 7
        }
      ]
    },
    {
      "cell_type": "code",
      "metadata": {
        "id": "NLGgjfglt50c",
        "colab": {
          "base_uri": "https://localhost:8080/"
        },
        "outputId": "eb7d1bb1-c998-41a4-efc8-9a7c96581e44"
      },
      "source": [
        "#Text\n",
        "d=\"This is our introductory class\"\n",
        "print(d)"
      ],
      "execution_count": null,
      "outputs": [
        {
          "output_type": "stream",
          "text": [
            "This is our introductory class\n"
          ],
          "name": "stdout"
        }
      ]
    },
    {
      "cell_type": "code",
      "metadata": {
        "id": "grhp4T5yuCVy",
        "colab": {
          "base_uri": "https://localhost:8080/",
          "height": 35
        },
        "outputId": "778d3937-5103-4e9e-e272-305a7ac4675b"
      },
      "source": [
        "d"
      ],
      "execution_count": null,
      "outputs": [
        {
          "output_type": "execute_result",
          "data": {
            "application/vnd.google.colaboratory.intrinsic+json": {
              "type": "string"
            },
            "text/plain": [
              "'This is our introductory class'"
            ]
          },
          "metadata": {
            "tags": []
          },
          "execution_count": 10
        }
      ]
    },
    {
      "cell_type": "markdown",
      "metadata": {
        "id": "NT3Bs1IguKqs"
      },
      "source": [
        "What can we do with these variables"
      ]
    },
    {
      "cell_type": "code",
      "metadata": {
        "id": "_YPq59XCuUIz"
      },
      "source": [
        "a=3\n",
        "b=34\n",
        "d=a+b"
      ],
      "execution_count": null,
      "outputs": []
    },
    {
      "cell_type": "code",
      "metadata": {
        "id": "i-ujUrPwubyN",
        "colab": {
          "base_uri": "https://localhost:8080/"
        },
        "outputId": "980cf823-e2e3-4cee-da98-6ba34fba64ff"
      },
      "source": [
        "c"
      ],
      "execution_count": null,
      "outputs": [
        {
          "output_type": "execute_result",
          "data": {
            "text/plain": [
              "158"
            ]
          },
          "metadata": {
            "tags": []
          },
          "execution_count": 12
        }
      ]
    },
    {
      "cell_type": "code",
      "metadata": {
        "id": "m0empSFNucd6",
        "colab": {
          "base_uri": "https://localhost:8080/"
        },
        "outputId": "035a7acb-4d3c-4a7e-914a-fb20f0d71f2f"
      },
      "source": [
        "print(d+c)"
      ],
      "execution_count": null,
      "outputs": [
        {
          "output_type": "stream",
          "text": [
            "195\n"
          ],
          "name": "stdout"
        }
      ]
    },
    {
      "cell_type": "code",
      "metadata": {
        "id": "hk05G3xRue0t"
      },
      "source": [
        "#How to change the variable values and equate "
      ],
      "execution_count": null,
      "outputs": []
    },
    {
      "cell_type": "code",
      "metadata": {
        "id": "6lCdiNRqurbV",
        "colab": {
          "base_uri": "https://localhost:8080/"
        },
        "outputId": "ca86e21a-b82f-4a5c-b6c8-a6ff41696074"
      },
      "source": [
        "a=18\n",
        "print(a)"
      ],
      "execution_count": null,
      "outputs": [
        {
          "output_type": "stream",
          "text": [
            "18\n"
          ],
          "name": "stdout"
        }
      ]
    },
    {
      "cell_type": "code",
      "metadata": {
        "id": "ItXdAFXpuvC7",
        "colab": {
          "base_uri": "https://localhost:8080/"
        },
        "outputId": "d2cd3a79-4ee6-42cf-ecd2-5d715344e4f6"
      },
      "source": [
        "e=a\n",
        "print(e)"
      ],
      "execution_count": null,
      "outputs": [
        {
          "output_type": "stream",
          "text": [
            "18\n"
          ],
          "name": "stdout"
        }
      ]
    },
    {
      "cell_type": "code",
      "metadata": {
        "id": "h-v-vgL_uyNC",
        "colab": {
          "base_uri": "https://localhost:8080/"
        },
        "outputId": "5293dc44-8259-4aa9-834c-b41a93480e52"
      },
      "source": [
        "#Types of variables\n",
        "#Integer variable\n",
        "a=1\n",
        "print(a)\n",
        "print(type(a))"
      ],
      "execution_count": null,
      "outputs": [
        {
          "output_type": "stream",
          "text": [
            "1\n",
            "<class 'int'>\n"
          ],
          "name": "stdout"
        }
      ]
    },
    {
      "cell_type": "code",
      "metadata": {
        "id": "O3PLtzKOvTM4",
        "colab": {
          "base_uri": "https://localhost:8080/"
        },
        "outputId": "79536777-1056-4577-a893-f9a471678777"
      },
      "source": [
        "#Types of variables\n",
        "#Floating type variable\n",
        "a=5.578\n",
        "print(a)\n",
        "print(type(a))"
      ],
      "execution_count": null,
      "outputs": [
        {
          "output_type": "stream",
          "text": [
            "5.578\n",
            "<class 'float'>\n"
          ],
          "name": "stdout"
        }
      ]
    },
    {
      "cell_type": "code",
      "metadata": {
        "id": "OZXGQafsvpsF",
        "colab": {
          "base_uri": "https://localhost:8080/"
        },
        "outputId": "e6ac8bdf-18ee-4fd0-aefe-860884e2de97"
      },
      "source": [
        "#Types of variables\n",
        "#Boolean variable--- True or False\n",
        "a=True\n",
        "print(a)\n",
        "print(type(a))\n"
      ],
      "execution_count": null,
      "outputs": [
        {
          "output_type": "stream",
          "text": [
            "True\n",
            "<class 'bool'>\n"
          ],
          "name": "stdout"
        }
      ]
    },
    {
      "cell_type": "code",
      "metadata": {
        "id": "DsSTZ90Swa9g",
        "colab": {
          "base_uri": "https://localhost:8080/"
        },
        "outputId": "723737fc-851f-403e-fb35-9ea724d74af5"
      },
      "source": [
        "#Types of variables\n",
        "#Float variable\n",
        "a=\"5\"\n",
        "print(a)\n",
        "print(type(a))"
      ],
      "execution_count": null,
      "outputs": [
        {
          "output_type": "stream",
          "text": [
            "5\n",
            "<class 'str'>\n"
          ],
          "name": "stdout"
        }
      ]
    },
    {
      "cell_type": "code",
      "metadata": {
        "id": "fm8lPf3rwn2Y",
        "colab": {
          "base_uri": "https://localhost:8080/"
        },
        "outputId": "5893e207-07cd-4f2d-eef1-37e479563e9b"
      },
      "source": [
        "#Types of variables\n",
        "#Concatenate string\n",
        "date=\"10\"\n",
        "month=\"10\"\n",
        "year=\"2020\"\n",
        "a=date+month+year\n",
        "print(a)\n",
        "print(type(a))\n",
        "\n"
      ],
      "execution_count": null,
      "outputs": [
        {
          "output_type": "stream",
          "text": [
            "10102020\n",
            "<class 'str'>\n"
          ],
          "name": "stdout"
        }
      ]
    },
    {
      "cell_type": "code",
      "metadata": {
        "id": "n9ddyJaZxJkd",
        "colab": {
          "base_uri": "https://localhost:8080/",
          "height": 35
        },
        "outputId": "e2be3867-586a-47f5-fbef-acd2401b0c6f"
      },
      "source": [
        "date"
      ],
      "execution_count": null,
      "outputs": [
        {
          "output_type": "execute_result",
          "data": {
            "application/vnd.google.colaboratory.intrinsic+json": {
              "type": "string"
            },
            "text/plain": [
              "'10'"
            ]
          },
          "metadata": {
            "tags": []
          },
          "execution_count": 24
        }
      ]
    },
    {
      "cell_type": "code",
      "metadata": {
        "id": "q1UMPwwPxLjj"
      },
      "source": [
        ""
      ],
      "execution_count": null,
      "outputs": []
    }
  ]
}