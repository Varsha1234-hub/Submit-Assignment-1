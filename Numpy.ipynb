{
  "nbformat": 4,
  "nbformat_minor": 0,
  "metadata": {
    "colab": {
      "name": "Numpy.ipynb",
      "provenance": [],
      "collapsed_sections": []
    },
    "kernelspec": {
      "name": "python3",
      "display_name": "Python 3"
    }
  },
  "cells": [
    {
      "cell_type": "markdown",
      "metadata": {
        "id": "rrhT0xzesXEf"
      },
      "source": [
        "Getting started with Numpy"
      ]
    },
    {
      "cell_type": "code",
      "metadata": {
        "colab": {
          "base_uri": "https://localhost:8080/"
        },
        "id": "lZDk2mKrsTfC",
        "outputId": "c119186b-17c5-4360-ad28-1d780edc0b51"
      },
      "source": [
        "import numpy as np\n",
        "arr = np.array([1,2,3,4,5])\n",
        "print(arr)"
      ],
      "execution_count": null,
      "outputs": [
        {
          "output_type": "stream",
          "text": [
            "[1 2 3 4 5]\n"
          ],
          "name": "stdout"
        }
      ]
    },
    {
      "cell_type": "code",
      "metadata": {
        "colab": {
          "base_uri": "https://localhost:8080/"
        },
        "id": "I1ysiCSrswug",
        "outputId": "63ffea65-c572-4ed8-929a-0938137d2e7d"
      },
      "source": [
        "import numpy\n",
        "arr = np.array([1,2,3,4,5])\n",
        "print(arr)"
      ],
      "execution_count": null,
      "outputs": [
        {
          "output_type": "stream",
          "text": [
            "[1 2 3 4 5]\n"
          ],
          "name": "stdout"
        }
      ]
    },
    {
      "cell_type": "code",
      "metadata": {
        "colab": {
          "base_uri": "https://localhost:8080/"
        },
        "id": "7qyW-_N0s3cm",
        "outputId": "b2074ac4-8105-48f4-deed-9fa325cec3f4"
      },
      "source": [
        "import numpy as np\n",
        "print(np.__version__)"
      ],
      "execution_count": null,
      "outputs": [
        {
          "output_type": "stream",
          "text": [
            "1.18.5\n"
          ],
          "name": "stdout"
        }
      ]
    },
    {
      "cell_type": "markdown",
      "metadata": {
        "id": "YS91X920tTB9"
      },
      "source": [
        "### Create Numpy ndarray object"
      ]
    },
    {
      "cell_type": "code",
      "metadata": {
        "colab": {
          "base_uri": "https://localhost:8080/"
        },
        "id": "XzeewyfAtCS0",
        "outputId": "1da2bf4d-220b-4aee-b59c-20e0fe6a842a"
      },
      "source": [
        "import numpy as np\n",
        "arr=np.array([1,2,3,4,5])\n",
        "print(arr)\n",
        "print(type(arr))"
      ],
      "execution_count": null,
      "outputs": [
        {
          "output_type": "stream",
          "text": [
            "[1 2 3 4 5]\n",
            "<class 'numpy.ndarray'>\n"
          ],
          "name": "stdout"
        }
      ]
    },
    {
      "cell_type": "code",
      "metadata": {
        "colab": {
          "base_uri": "https://localhost:8080/"
        },
        "id": "rzBTpEpFt6vQ",
        "outputId": "067bc848-45e1-4cb5-8e54-76d429afaad8"
      },
      "source": [
        "import numpy as np\n",
        "arr=np.array(345)\n",
        "print(arr)\n",
        "print(type(arr))"
      ],
      "execution_count": null,
      "outputs": [
        {
          "output_type": "stream",
          "text": [
            "345\n",
            "<class 'numpy.ndarray'>\n"
          ],
          "name": "stdout"
        }
      ]
    },
    {
      "cell_type": "code",
      "metadata": {
        "colab": {
          "base_uri": "https://localhost:8080/"
        },
        "id": "MuBm0Ly5uAZH",
        "outputId": "3a50d462-ba82-4c32-dd6c-c16ff298e595"
      },
      "source": [
        "import numpy as np\n",
        "arr=np.array([[1,2,3,4,5],[6,7,8,9,10]])\n",
        "print(arr)\n",
        "print(type(arr))"
      ],
      "execution_count": null,
      "outputs": [
        {
          "output_type": "stream",
          "text": [
            "[[ 1  2  3  4  5]\n",
            " [ 6  7  8  9 10]]\n",
            "<class 'numpy.ndarray'>\n"
          ],
          "name": "stdout"
        }
      ]
    },
    {
      "cell_type": "code",
      "metadata": {
        "colab": {
          "base_uri": "https://localhost:8080/"
        },
        "id": "9ussJSJXuJaW",
        "outputId": "970b258d-5acb-4c34-f923-09e6cbd8ad54"
      },
      "source": [
        "import numpy as np\n",
        "arr=np.array([[[1,2,3],[4,5,6]],[[6,7,8],[9,10,11]]])\n",
        "print(arr)\n",
        "print(type(arr))"
      ],
      "execution_count": null,
      "outputs": [
        {
          "output_type": "stream",
          "text": [
            "[[[ 1  2  3]\n",
            "  [ 4  5  6]]\n",
            "\n",
            " [[ 6  7  8]\n",
            "  [ 9 10 11]]]\n",
            "<class 'numpy.ndarray'>\n"
          ],
          "name": "stdout"
        }
      ]
    },
    {
      "cell_type": "code",
      "metadata": {
        "colab": {
          "base_uri": "https://localhost:8080/"
        },
        "id": "Kf4nnEXPuknS",
        "outputId": "82ac004a-beab-4ccc-b190-210990c542e6"
      },
      "source": [
        "import numpy as np\n",
        "a = np.array(456)\n",
        "b = np.array([1,2,3,4,5,6,7])\n",
        "c = np.array([[1,2,3,4,5],[6,7,8,9,10]])\n",
        "d = np.array([[[1,2,3],[4,5,6]],[[6,7,8],[9,10,11]]])\n",
        "\n",
        "print(a.ndim)\n",
        "print(b.ndim)\n",
        "print(c.ndim)\n",
        "print(d.ndim)\n"
      ],
      "execution_count": null,
      "outputs": [
        {
          "output_type": "stream",
          "text": [
            "0\n",
            "1\n",
            "2\n",
            "3\n"
          ],
          "name": "stdout"
        }
      ]
    },
    {
      "cell_type": "code",
      "metadata": {
        "colab": {
          "base_uri": "https://localhost:8080/"
        },
        "id": "b6O58atIvr6q",
        "outputId": "dba17855-ab92-4792-af7d-2ab0dfc33147"
      },
      "source": [
        "import numpy as np\n",
        "arr = ([1,2,3,4,5,6,7])\n",
        "print(arr[2])"
      ],
      "execution_count": null,
      "outputs": [
        {
          "output_type": "stream",
          "text": [
            "3\n"
          ],
          "name": "stdout"
        }
      ]
    },
    {
      "cell_type": "code",
      "metadata": {
        "colab": {
          "base_uri": "https://localhost:8080/"
        },
        "id": "wVbfgDc-wnG2",
        "outputId": "ddd4a1d1-6eb8-44c4-e971-21d09194e261"
      },
      "source": [
        "import numpy as np\n",
        "arr = ([1,2,3,4,5,6,7])\n",
        "print(arr[2] + arr[4])"
      ],
      "execution_count": null,
      "outputs": [
        {
          "output_type": "stream",
          "text": [
            "8\n"
          ],
          "name": "stdout"
        }
      ]
    },
    {
      "cell_type": "code",
      "metadata": {
        "colab": {
          "base_uri": "https://localhost:8080/"
        },
        "id": "CIg4l_t2ws3b",
        "outputId": "80e62b78-ff4f-4957-aebd-1e68d09ccf40"
      },
      "source": [
        "import numpy as np\n",
        "c = np.array([[1,2,3,4,5],[6,7,8,9,10]])\n",
        "print(c)\n",
        "print('5th element on 2nd dim: ', c[1,4])"
      ],
      "execution_count": null,
      "outputs": [
        {
          "output_type": "stream",
          "text": [
            "[[ 1  2  3  4  5]\n",
            " [ 6  7  8  9 10]]\n",
            "5th element on 2nd dim:  10\n"
          ],
          "name": "stdout"
        }
      ]
    },
    {
      "cell_type": "code",
      "metadata": {
        "colab": {
          "base_uri": "https://localhost:8080/"
        },
        "id": "gpUeSLZhxMDl",
        "outputId": "4cb1fa25-d53e-4eb4-a09a-422bb1035a16"
      },
      "source": [
        "import numpy as np\n",
        "c = np.array([[[1,2,3],[4,5,6]],[[6,7,8],[9,10,11]]]) \n",
        "print(c)\n",
        "print('Print the third element of second array of the first array: ', c[0,1,2])"
      ],
      "execution_count": null,
      "outputs": [
        {
          "output_type": "stream",
          "text": [
            "[[[ 1  2  3]\n",
            "  [ 4  5  6]]\n",
            "\n",
            " [[ 6  7  8]\n",
            "  [ 9 10 11]]]\n",
            "Print the third element of second array of the first array:  6\n"
          ],
          "name": "stdout"
        }
      ]
    },
    {
      "cell_type": "code",
      "metadata": {
        "colab": {
          "base_uri": "https://localhost:8080/"
        },
        "id": "wqvZk-pOyVIM",
        "outputId": "6597e133-5315-4747-fa63-90fa158025ba"
      },
      "source": [
        "import numpy as np\n",
        "c = np.array([[1,2,3,4,5],[6,7,8,9,10]])\n",
        "print(c)\n",
        "print('Print the last element on 2nd dim: ', c[1,4])"
      ],
      "execution_count": null,
      "outputs": [
        {
          "output_type": "stream",
          "text": [
            "[[ 1  2  3  4  5]\n",
            " [ 6  7  8  9 10]]\n",
            "Print the last element on 2nd dim:  10\n"
          ],
          "name": "stdout"
        }
      ]
    },
    {
      "cell_type": "code",
      "metadata": {
        "colab": {
          "base_uri": "https://localhost:8080/"
        },
        "id": "vqP-Yk6EytDL",
        "outputId": "4b9d1ce4-0d06-4eb9-92e8-b72e57171fca"
      },
      "source": [
        "import numpy as np\n",
        "c = np.array([[1,2,3,4,5],[6,7,8,9,10]])\n",
        "print(c)\n",
        "print('Print the last element on 2nd dim: ', c[1,-1])"
      ],
      "execution_count": null,
      "outputs": [
        {
          "output_type": "stream",
          "text": [
            "[[ 1  2  3  4  5]\n",
            " [ 6  7  8  9 10]]\n",
            "Print the last element on 2nd dim:  10\n"
          ],
          "name": "stdout"
        }
      ]
    },
    {
      "cell_type": "code",
      "metadata": {
        "colab": {
          "base_uri": "https://localhost:8080/"
        },
        "id": "iLqaIj0kzBBB",
        "outputId": "cbc5da15-9914-4d7c-a810-66558e612edb"
      },
      "source": [
        "import numpy as np\n",
        "c = np.array([1,2,3,4,5,6,7,8,9,10])\n",
        "print(c[1:6])\n"
      ],
      "execution_count": null,
      "outputs": [
        {
          "output_type": "stream",
          "text": [
            "[2 3 4 5 6]\n"
          ],
          "name": "stdout"
        }
      ]
    },
    {
      "cell_type": "code",
      "metadata": {
        "colab": {
          "base_uri": "https://localhost:8080/"
        },
        "id": "haSxxXmHzVwo",
        "outputId": "9c3c9899-f009-42ce-a44f-6893308da0a0"
      },
      "source": [
        "import numpy as np\n",
        "c = np.array([1,2,3,4,5,6,7,8,9,10])\n",
        "print(c[1:5])\n"
      ],
      "execution_count": null,
      "outputs": [
        {
          "output_type": "stream",
          "text": [
            "[2 3 4 5]\n"
          ],
          "name": "stdout"
        }
      ]
    },
    {
      "cell_type": "code",
      "metadata": {
        "colab": {
          "base_uri": "https://localhost:8080/"
        },
        "id": "0pZIQPnTzso2",
        "outputId": "1712508c-1b50-4f15-b041-9d9614d2f024"
      },
      "source": [
        "import numpy as np\n",
        "c = np.array([1,2,3,4,5,6,7,8,9,10])\n",
        "print(c[5:])\n"
      ],
      "execution_count": null,
      "outputs": [
        {
          "output_type": "stream",
          "text": [
            "[ 6  7  8  9 10]\n"
          ],
          "name": "stdout"
        }
      ]
    },
    {
      "cell_type": "code",
      "metadata": {
        "colab": {
          "base_uri": "https://localhost:8080/"
        },
        "id": "ORymSFFFzvQi",
        "outputId": "030093cc-a889-4ddc-bc0b-1559262a1a07"
      },
      "source": [
        "import numpy as np\n",
        "c = np.array([1,2,3,4,5,6,7,8,9,10])\n",
        "print(c[2:])\n"
      ],
      "execution_count": null,
      "outputs": [
        {
          "output_type": "stream",
          "text": [
            "[ 3  4  5  6  7  8  9 10]\n"
          ],
          "name": "stdout"
        }
      ]
    },
    {
      "cell_type": "code",
      "metadata": {
        "colab": {
          "base_uri": "https://localhost:8080/"
        },
        "id": "4Coq5e7ozzb7",
        "outputId": "cf5a2573-fc46-4d63-a6ff-c7f89a1519bf"
      },
      "source": [
        "import numpy as np\n",
        "c = np.array([1,2,3,4,5,6,7,8,9,10])\n",
        "print(c[8:])\n"
      ],
      "execution_count": null,
      "outputs": [
        {
          "output_type": "stream",
          "text": [
            "[ 9 10]\n"
          ],
          "name": "stdout"
        }
      ]
    },
    {
      "cell_type": "code",
      "metadata": {
        "colab": {
          "base_uri": "https://localhost:8080/"
        },
        "id": "aHbdLMaXz18J",
        "outputId": "8fc991fa-b38c-4751-a19c-50fe5afded50"
      },
      "source": [
        "import numpy as np\n",
        "c = np.array([1,2,3,4,5,6,7,8,9,10])\n",
        "print(c[:5])\n"
      ],
      "execution_count": null,
      "outputs": [
        {
          "output_type": "stream",
          "text": [
            "[1 2 3 4 5]\n"
          ],
          "name": "stdout"
        }
      ]
    },
    {
      "cell_type": "code",
      "metadata": {
        "colab": {
          "base_uri": "https://localhost:8080/"
        },
        "id": "1xgeRey3z4j0",
        "outputId": "a323163a-5fb6-46cb-d8ea-4343d32f7bae"
      },
      "source": [
        "import numpy as np\n",
        "c = np.array([1,2,3,4,5,6,7,8,9,10])\n",
        "print(c[-3:-1])\n"
      ],
      "execution_count": null,
      "outputs": [
        {
          "output_type": "stream",
          "text": [
            "[8 9]\n"
          ],
          "name": "stdout"
        }
      ]
    },
    {
      "cell_type": "code",
      "metadata": {
        "colab": {
          "base_uri": "https://localhost:8080/"
        },
        "id": "qyOZB5X9z9Lv",
        "outputId": "60b5fe20-bec4-4daf-b946-13dee0bd400b"
      },
      "source": [
        "import numpy as np\n",
        "c = np.array([1,2,3,4,5,6,7,8,9,10])\n",
        "print(c[-5:-2])\n"
      ],
      "execution_count": null,
      "outputs": [
        {
          "output_type": "stream",
          "text": [
            "[6 7 8]\n"
          ],
          "name": "stdout"
        }
      ]
    },
    {
      "cell_type": "code",
      "metadata": {
        "colab": {
          "base_uri": "https://localhost:8080/"
        },
        "id": "nP3a547G0I4d",
        "outputId": "be1b23d7-70c7-4c32-d95c-81feb8448bb2"
      },
      "source": [
        "import numpy as np\n",
        "c = np.array([1,2,3,4,5,6,7,8,9,10])\n",
        "print(c[1:5:3])\n"
      ],
      "execution_count": null,
      "outputs": [
        {
          "output_type": "stream",
          "text": [
            "[2 5]\n"
          ],
          "name": "stdout"
        }
      ]
    },
    {
      "cell_type": "code",
      "metadata": {
        "colab": {
          "base_uri": "https://localhost:8080/"
        },
        "id": "lsnMEW1q0Nlh",
        "outputId": "611faf57-4bb2-48e1-d5f6-12e706f4be21"
      },
      "source": [
        "import numpy as np\n",
        "c = np.array([1,2,3,4,5,6,7,8,9,10])\n",
        "print(c[1:5:2])\n"
      ],
      "execution_count": null,
      "outputs": [
        {
          "output_type": "stream",
          "text": [
            "[2 4]\n"
          ],
          "name": "stdout"
        }
      ]
    },
    {
      "cell_type": "code",
      "metadata": {
        "colab": {
          "base_uri": "https://localhost:8080/"
        },
        "id": "HqUAYTk80WH1",
        "outputId": "1717004c-2934-4287-deb4-0a46f643ac82"
      },
      "source": [
        "import numpy as np\n",
        "c = np.array([1,2,3,4,5,6,7,8,9,10,22,22,24,22,32,22])\n",
        "print(c[::2])\n"
      ],
      "execution_count": null,
      "outputs": [
        {
          "output_type": "stream",
          "text": [
            "[ 1  3  5  7  9 22 24 32]\n"
          ],
          "name": "stdout"
        }
      ]
    },
    {
      "cell_type": "code",
      "metadata": {
        "colab": {
          "base_uri": "https://localhost:8080/"
        },
        "id": "D__j8HL7046K",
        "outputId": "58ee4308-22fa-44c7-a43b-3b2344aacff6"
      },
      "source": [
        "import numpy as np\n",
        "c = np.array([[1,2,3,4,5],[9,10,22,22,24]])\n",
        "print(c[0:2,1:4])\n"
      ],
      "execution_count": null,
      "outputs": [
        {
          "output_type": "stream",
          "text": [
            "[[ 2  3  4]\n",
            " [10 22 22]]\n"
          ],
          "name": "stdout"
        }
      ]
    },
    {
      "cell_type": "code",
      "metadata": {
        "colab": {
          "base_uri": "https://localhost:8080/"
        },
        "id": "y4aq4gV01kfE",
        "outputId": "e0706c0d-ab13-4c1c-a31f-0bb4323003a2"
      },
      "source": [
        "import numpy as np\n",
        "c = np.array([1,2,3,4,5,6,7,8,9,10,22,22,24,22,32,22])\n",
        "print(c.dtype)\n"
      ],
      "execution_count": null,
      "outputs": [
        {
          "output_type": "stream",
          "text": [
            "int64\n"
          ],
          "name": "stdout"
        }
      ]
    },
    {
      "cell_type": "code",
      "metadata": {
        "colab": {
          "base_uri": "https://localhost:8080/"
        },
        "id": "OrTNYZPx2YG8",
        "outputId": "cd964864-c93e-4415-cfb9-93cf1a8bd706"
      },
      "source": [
        "import numpy as np\n",
        "c = np.array(['Varshitha','Abhi','Dhoni','Thanusha'])\n",
        "print(c.dtype)\n"
      ],
      "execution_count": null,
      "outputs": [
        {
          "output_type": "stream",
          "text": [
            "<U9\n"
          ],
          "name": "stdout"
        }
      ]
    },
    {
      "cell_type": "code",
      "metadata": {
        "colab": {
          "base_uri": "https://localhost:8080/"
        },
        "id": "LDQk0--M2pyz",
        "outputId": "fc4479a5-1877-4fd5-b2da-8b56fa00036e"
      },
      "source": [
        "import numpy as np\n",
        "c = np.array([1.23,2.34,3.44,4.44])\n",
        "newarray = c.astype(int)\n",
        "print(newarray)\n",
        "print(newarray.dtype)"
      ],
      "execution_count": null,
      "outputs": [
        {
          "output_type": "stream",
          "text": [
            "[1 2 3 4]\n",
            "int64\n"
          ],
          "name": "stdout"
        }
      ]
    },
    {
      "cell_type": "code",
      "metadata": {
        "colab": {
          "base_uri": "https://localhost:8080/"
        },
        "id": "dWMfLaj35oOx",
        "outputId": "a9c2436a-d847-4174-e851-92ccedd83a58"
      },
      "source": [
        "import numpy as np\n",
        "c = np.array([1.23,2.34,3.44,4.44])\n",
        "newarray = c.astype(bool)\n",
        "print(newarray)\n",
        "print(newarray.dtype)"
      ],
      "execution_count": null,
      "outputs": [
        {
          "output_type": "stream",
          "text": [
            "[ True  True  True  True]\n",
            "bool\n"
          ],
          "name": "stdout"
        }
      ]
    },
    {
      "cell_type": "code",
      "metadata": {
        "colab": {
          "base_uri": "https://localhost:8080/"
        },
        "id": "Z4UJfiDK6Iy3",
        "outputId": "a2274104-676f-431a-ef2d-71bddfadba53"
      },
      "source": [
        "import numpy as np\n",
        "c = np.array([1.23,2.34,3.44,4.44])\n",
        "x=c.copy()\n",
        "print(x)\n",
        "print(c)\n",
        "print(x.dtype)"
      ],
      "execution_count": null,
      "outputs": [
        {
          "output_type": "stream",
          "text": [
            "[1.23 2.34 3.44 4.44]\n",
            "[1.23 2.34 3.44 4.44]\n",
            "float64\n"
          ],
          "name": "stdout"
        }
      ]
    },
    {
      "cell_type": "code",
      "metadata": {
        "colab": {
          "base_uri": "https://localhost:8080/"
        },
        "id": "PGskzC2U6gGr",
        "outputId": "ef4698b9-95f3-4444-e9c6-6ea4c275ee69"
      },
      "source": [
        "import numpy as np\n",
        "c = np.array([1.23,2.34,3.44,4.44])\n",
        "x=c.view()\n",
        "x[0]\n",
        "print(x)\n",
        "print(c)\n",
        "print(x.dtype)"
      ],
      "execution_count": null,
      "outputs": [
        {
          "output_type": "stream",
          "text": [
            "[1.23 2.34 3.44 4.44]\n",
            "[1.23 2.34 3.44 4.44]\n",
            "float64\n"
          ],
          "name": "stdout"
        }
      ]
    },
    {
      "cell_type": "code",
      "metadata": {
        "colab": {
          "base_uri": "https://localhost:8080/"
        },
        "id": "-36IN1cD6ybA",
        "outputId": "d36ab3b9-485d-4b7f-92da-36fa413fc36f"
      },
      "source": [
        "import numpy as np\n",
        "c = np.array([1.23,2.34,3.44,4.44])\n",
        "x=c.view()\n",
        "x[0]=34\n",
        "print(x)\n",
        "print(c)\n",
        "print(x.dtype)"
      ],
      "execution_count": null,
      "outputs": [
        {
          "output_type": "stream",
          "text": [
            "[34.    2.34  3.44  4.44]\n",
            "[34.    2.34  3.44  4.44]\n",
            "float64\n"
          ],
          "name": "stdout"
        }
      ]
    },
    {
      "cell_type": "code",
      "metadata": {
        "colab": {
          "base_uri": "https://localhost:8080/"
        },
        "id": "dOhlgqls66Q7",
        "outputId": "abd9bce9-d125-49bc-96fe-dc86f9ea24c4"
      },
      "source": [
        "import numpy as np\n",
        "c = np.array([1.23,2.34,3.44,4.44])\n",
        "x=c.view() ## Print the value of the base attribute to vheck if any array owns its data or not\n",
        "y=c.copy()\n",
        "print(x.base)\n",
        "print(y.base)\n"
      ],
      "execution_count": null,
      "outputs": [
        {
          "output_type": "stream",
          "text": [
            "[1.23 2.34 3.44 4.44]\n",
            "None\n"
          ],
          "name": "stdout"
        }
      ]
    },
    {
      "cell_type": "code",
      "metadata": {
        "colab": {
          "base_uri": "https://localhost:8080/"
        },
        "id": "w-CwCwrm7hS8",
        "outputId": "44c6247c-fe39-43fb-bcd2-c8ab2753e000"
      },
      "source": [
        "import numpy as np\n",
        "c = np.array([1.23,2.34,3.44,4.44])\n",
        "y=np.array([[1,2,3,4,5],[9,10,22,22,24]])\n",
        "print(c.shape)\n",
        "print(y.shape)\n"
      ],
      "execution_count": null,
      "outputs": [
        {
          "output_type": "stream",
          "text": [
            "(4,)\n",
            "(2, 5)\n"
          ],
          "name": "stdout"
        }
      ]
    },
    {
      "cell_type": "code",
      "metadata": {
        "colab": {
          "base_uri": "https://localhost:8080/"
        },
        "id": "koVmd5xX8daU",
        "outputId": "695f4167-b158-4c08-80af-e3e0ffb02022"
      },
      "source": [
        "import numpy as np\n",
        "c = np.array([1,2,3,4,5,6,7,8,9,10,11,12])\n",
        "newarray = c.reshape(4,3)\n",
        "print(newarray)\n",
        "\n"
      ],
      "execution_count": null,
      "outputs": [
        {
          "output_type": "stream",
          "text": [
            "[[ 1  2  3]\n",
            " [ 4  5  6]\n",
            " [ 7  8  9]\n",
            " [10 11 12]]\n"
          ],
          "name": "stdout"
        }
      ]
    },
    {
      "cell_type": "code",
      "metadata": {
        "colab": {
          "base_uri": "https://localhost:8080/"
        },
        "id": "S6o6ZWYv9eEN",
        "outputId": "0feeb7f8-3acb-4fd6-857b-a1b7e7681024"
      },
      "source": [
        "import numpy as np\n",
        "c = np.array([1,2,3,4,5,6,7,8,9,10,11,12])\n",
        "newarray = c.reshape(2,3,2)\n",
        "print(newarray)\n",
        "\n"
      ],
      "execution_count": null,
      "outputs": [
        {
          "output_type": "stream",
          "text": [
            "[[[ 1  2]\n",
            "  [ 3  4]\n",
            "  [ 5  6]]\n",
            "\n",
            " [[ 7  8]\n",
            "  [ 9 10]\n",
            "  [11 12]]]\n"
          ],
          "name": "stdout"
        }
      ]
    },
    {
      "cell_type": "code",
      "metadata": {
        "id": "qMZRzyRo9pYA",
        "colab": {
          "base_uri": "https://localhost:8080/"
        },
        "outputId": "eb654729-9206-4f10-f9b4-49c5d2f2e007"
      },
      "source": [
        "import numpy as np\n",
        "c = np.array([1,2,3,4,5,6,7,8,9,10,11,12])\n",
        "newarray = c.reshape(-1)\n",
        "print(newarray)\n",
        "\n"
      ],
      "execution_count": null,
      "outputs": [
        {
          "output_type": "stream",
          "text": [
            "[ 1  2  3  4  5  6  7  8  9 10 11 12]\n"
          ],
          "name": "stdout"
        }
      ]
    },
    {
      "cell_type": "code",
      "metadata": {
        "colab": {
          "base_uri": "https://localhost:8080/"
        },
        "id": "rVOAUuXAvEvo",
        "outputId": "e5cc330f-1147-463d-ce98-b3ea0b8fe352"
      },
      "source": [
        "import numpy as np\n",
        "arr1 = np.array([1,2,3])\n",
        "arr2 = np.array([4,5,6])\n",
        "newarr = np.concatenate((arr1,arr2))\n",
        "print(arr1)\n",
        "print(arr2)\n",
        "print(newarr)"
      ],
      "execution_count": null,
      "outputs": [
        {
          "output_type": "stream",
          "text": [
            "[1 2 3]\n",
            "[4 5 6]\n",
            "[1 2 3 4 5 6]\n"
          ],
          "name": "stdout"
        }
      ]
    },
    {
      "cell_type": "code",
      "metadata": {
        "colab": {
          "base_uri": "https://localhost:8080/"
        },
        "id": "0SnmmFYXvnBf",
        "outputId": "a0e76306-63be-4c83-8738-83ff6ccd3f8d"
      },
      "source": [
        "import numpy as np\n",
        "\n",
        "arr1 = np.array([1,2,3])\n",
        "arr2 = np.array([4,5,6])\n",
        "\n",
        "newarr = np.stack((arr1,arr2),axis=0)\n",
        "print(arr1)\n",
        "print(arr2)\n",
        "print(newarr)"
      ],
      "execution_count": null,
      "outputs": [
        {
          "output_type": "stream",
          "text": [
            "[1 2 3]\n",
            "[4 5 6]\n",
            "[[1 2 3]\n",
            " [4 5 6]]\n"
          ],
          "name": "stdout"
        }
      ]
    },
    {
      "cell_type": "code",
      "metadata": {
        "colab": {
          "base_uri": "https://localhost:8080/"
        },
        "id": "tm7bxNoKwKkv",
        "outputId": "4cd9729a-a465-4325-c462-d7196848fd2e"
      },
      "source": [
        "import numpy as np\n",
        "\n",
        "arr1 = np.array([1,2,3])\n",
        "arr2 = np.array([4,5,6])\n",
        "\n",
        "newarr = np.stack((arr1,arr2),axis=1)\n",
        "print(arr1)\n",
        "print(arr2)\n",
        "print(newarr)"
      ],
      "execution_count": null,
      "outputs": [
        {
          "output_type": "stream",
          "text": [
            "[1 2 3]\n",
            "[4 5 6]\n",
            "[[1 4]\n",
            " [2 5]\n",
            " [3 6]]\n"
          ],
          "name": "stdout"
        }
      ]
    },
    {
      "cell_type": "code",
      "metadata": {
        "colab": {
          "base_uri": "https://localhost:8080/"
        },
        "id": "cW9MAtHRwVLR",
        "outputId": "e84746d0-13b0-47f7-da93-6ba6e611526e"
      },
      "source": [
        "import numpy as np\n",
        "\n",
        "arr1 = np.array([1,2,3])\n",
        "arr2 = np.array([4,5,6])\n",
        "\n",
        "newarr = np.hstack((arr1,arr2))\n",
        "print(arr1)\n",
        "print(arr2)\n",
        "print(newarr)"
      ],
      "execution_count": null,
      "outputs": [
        {
          "output_type": "stream",
          "text": [
            "[1 2 3]\n",
            "[4 5 6]\n",
            "[1 2 3 4 5 6]\n"
          ],
          "name": "stdout"
        }
      ]
    },
    {
      "cell_type": "code",
      "metadata": {
        "colab": {
          "base_uri": "https://localhost:8080/"
        },
        "id": "JNo-wy5Awc34",
        "outputId": "2def9d5a-c416-4d53-c637-1c1d976a611d"
      },
      "source": [
        "import numpy as np\n",
        "\n",
        "arr1 = np.array([1,2,3])\n",
        "arr2 = np.array([4,5,6])\n",
        "\n",
        "newarr = np.vstack((arr1,arr2))\n",
        "print(arr1)\n",
        "print(arr2)\n",
        "print(newarr)"
      ],
      "execution_count": null,
      "outputs": [
        {
          "output_type": "stream",
          "text": [
            "[1 2 3]\n",
            "[4 5 6]\n",
            "[[1 2 3]\n",
            " [4 5 6]]\n"
          ],
          "name": "stdout"
        }
      ]
    },
    {
      "cell_type": "code",
      "metadata": {
        "colab": {
          "base_uri": "https://localhost:8080/"
        },
        "id": "50sh_G0Twf-N",
        "outputId": "57c7ce22-4c0b-47b1-f2d1-779b23dd4a47"
      },
      "source": [
        "import numpy as np\n",
        "\n",
        "arr1 = np.array([1,2,3])\n",
        "arr2 = np.array([4,5,6])\n",
        "\n",
        "newarr = np.dstack((arr1,arr2))\n",
        "\n",
        "print(newarr)"
      ],
      "execution_count": null,
      "outputs": [
        {
          "output_type": "stream",
          "text": [
            "[[[1 4]\n",
            "  [2 5]\n",
            "  [3 6]]]\n"
          ],
          "name": "stdout"
        }
      ]
    },
    {
      "cell_type": "markdown",
      "metadata": {
        "id": "Ccpp-1lUw5AN"
      },
      "source": [
        "Split the given Array"
      ]
    },
    {
      "cell_type": "code",
      "metadata": {
        "colab": {
          "base_uri": "https://localhost:8080/"
        },
        "id": "Fb7qdjijwwz9",
        "outputId": "60d7cbf6-d3c6-428c-cca2-c162694ac80e"
      },
      "source": [
        "import numpy as np\n",
        "arr1 = np.array([1,2,3,4,5,6])\n",
        "newarr = np.array_split(arr,3)\n",
        "print(arr1)\n",
        "print(newarr)"
      ],
      "execution_count": null,
      "outputs": [
        {
          "output_type": "stream",
          "text": [
            "[1 2 3 4 5 6]\n",
            "[array([1, 2]), array([3, 4]), array([5])]\n"
          ],
          "name": "stdout"
        }
      ]
    },
    {
      "cell_type": "code",
      "metadata": {
        "colab": {
          "base_uri": "https://localhost:8080/"
        },
        "id": "WTFhD_5WxszS",
        "outputId": "d2c5d5c3-3bc5-4ab5-bc39-a8b21b7eed31"
      },
      "source": [
        "import numpy as np\n",
        "arr1 = np.array([1,2,3,4,5,6])\n",
        "newarr = np.array_split(arr,4)\n",
        "print(arr1)\n",
        "print(newarr)"
      ],
      "execution_count": null,
      "outputs": [
        {
          "output_type": "stream",
          "text": [
            "[1 2 3 4 5 6]\n",
            "[array([1, 2]), array([3]), array([4]), array([5])]\n"
          ],
          "name": "stdout"
        }
      ]
    },
    {
      "cell_type": "code",
      "metadata": {
        "colab": {
          "base_uri": "https://localhost:8080/"
        },
        "id": "kBv5Vte_zKkw",
        "outputId": "8b1f9288-6381-4d99-c728-55a275db02a0"
      },
      "source": [
        "import numpy as np\n",
        "\n",
        "arr = np.array([1,2,3,4,5,6])\n",
        "\n",
        "newarr = np.array_split(arr,3)\n",
        "print(newarr[0])\n",
        "print(newarr[2])\n",
        "print(newarr[1])\n"
      ],
      "execution_count": null,
      "outputs": [
        {
          "output_type": "stream",
          "text": [
            "[1 2]\n",
            "[5 6]\n",
            "[3 4]\n"
          ],
          "name": "stdout"
        }
      ]
    },
    {
      "cell_type": "code",
      "metadata": {
        "colab": {
          "base_uri": "https://localhost:8080/"
        },
        "id": "L-ElGSBbzr7z",
        "outputId": "e218481b-e8f2-448d-f72a-2f4fc40212fb"
      },
      "source": [
        "import numpy as np\n",
        "\n",
        "arr = np.array([1,2,3,4,5,6])\n",
        "\n",
        "newarr = np.where(arr==3)\n",
        "print(newarr)"
      ],
      "execution_count": null,
      "outputs": [
        {
          "output_type": "stream",
          "text": [
            "(array([2]),)\n"
          ],
          "name": "stdout"
        }
      ]
    },
    {
      "cell_type": "code",
      "metadata": {
        "colab": {
          "base_uri": "https://localhost:8080/"
        },
        "id": "G7f6FMV10GLJ",
        "outputId": "dff00f90-e177-423a-b873-d8174b953410"
      },
      "source": [
        "import numpy as np\n",
        "\n",
        "arr = np.array([1,2,3,4,5,6])\n",
        "\n",
        "newarr = np.where(arr==4)\n",
        "print(newarr)"
      ],
      "execution_count": null,
      "outputs": [
        {
          "output_type": "stream",
          "text": [
            "(array([3]),)\n"
          ],
          "name": "stdout"
        }
      ]
    },
    {
      "cell_type": "code",
      "metadata": {
        "colab": {
          "base_uri": "https://localhost:8080/"
        },
        "id": "baAcc62L0LeQ",
        "outputId": "072b21f7-99ac-4fc8-ce14-c88a1e28a043"
      },
      "source": [
        "import numpy as np\n",
        "\n",
        "arr = np.array([1,2,3,4,5,4,4])\n",
        "\n",
        "newarr = np.where(arr==3)\n",
        "print(newarr)"
      ],
      "execution_count": null,
      "outputs": [
        {
          "output_type": "stream",
          "text": [
            "(array([2]),)\n"
          ],
          "name": "stdout"
        }
      ]
    },
    {
      "cell_type": "code",
      "metadata": {
        "colab": {
          "base_uri": "https://localhost:8080/"
        },
        "id": "x7L23YvF0Sxv",
        "outputId": "4bf6480e-c76b-47d5-cdc9-ba25433846e5"
      },
      "source": [
        "import numpy as np\n",
        "\n",
        "arr = np.array([1,2,3,4,5,6,7,8])\n",
        "\n",
        "newarr = np.where(arr%2==0)\n",
        "print(newarr)"
      ],
      "execution_count": null,
      "outputs": [
        {
          "output_type": "stream",
          "text": [
            "(array([1, 3, 5, 7]),)\n"
          ],
          "name": "stdout"
        }
      ]
    },
    {
      "cell_type": "code",
      "metadata": {
        "colab": {
          "base_uri": "https://localhost:8080/"
        },
        "id": "3exlA1mr0mse",
        "outputId": "b7de8c84-dd66-4d9e-eb7a-49bbc2b00240"
      },
      "source": [
        "import numpy as np\n",
        "\n",
        "arr = np.array([1,2,3,4,5,6,7,8])\n",
        "\n",
        "newarr = np.where(arr%2==1)\n",
        "print(newarr)"
      ],
      "execution_count": null,
      "outputs": [
        {
          "output_type": "stream",
          "text": [
            "(array([0, 2, 4, 6]),)\n"
          ],
          "name": "stdout"
        }
      ]
    },
    {
      "cell_type": "code",
      "metadata": {
        "colab": {
          "base_uri": "https://localhost:8080/"
        },
        "id": "5QER8GS_06J1",
        "outputId": "33cc97e1-1669-4636-b5c6-ff4a27c5f417"
      },
      "source": [
        "import numpy as np\n",
        "\n",
        "arr = np.array([6,7,8,9])\n",
        "\n",
        "x = np.searchsorted(arr,7)\n",
        "print(x)"
      ],
      "execution_count": null,
      "outputs": [
        {
          "output_type": "stream",
          "text": [
            "1\n"
          ],
          "name": "stdout"
        }
      ]
    },
    {
      "cell_type": "code",
      "metadata": {
        "colab": {
          "base_uri": "https://localhost:8080/"
        },
        "id": "1jGietJ11ofZ",
        "outputId": "e5fd3ad7-72ff-41da-fc64-b1580063cee9"
      },
      "source": [
        "import numpy as np\n",
        "\n",
        "arr = np.array([6,7,8,9])\n",
        "\n",
        "x = np.searchsorted(arr,7, side='right')\n",
        "print(x)"
      ],
      "execution_count": null,
      "outputs": [
        {
          "output_type": "stream",
          "text": [
            "2\n"
          ],
          "name": "stdout"
        }
      ]
    },
    {
      "cell_type": "code",
      "metadata": {
        "colab": {
          "base_uri": "https://localhost:8080/"
        },
        "id": "AESlfMHk2BvP",
        "outputId": "b1d5a789-8c04-4fad-fbb9-692eb6272871"
      },
      "source": [
        "import numpy as np\n",
        "\n",
        "arr = np.array([414,42,43,44])\n",
        "\n",
        "x = arr[[True,False,True,False]]\n",
        "\n",
        "print(x)"
      ],
      "execution_count": null,
      "outputs": [
        {
          "output_type": "stream",
          "text": [
            "[414  43]\n"
          ],
          "name": "stdout"
        }
      ]
    },
    {
      "cell_type": "code",
      "metadata": {
        "colab": {
          "base_uri": "https://localhost:8080/"
        },
        "id": "KxhTriKQ21Xk",
        "outputId": "14138aa6-0073-40f6-d0e2-a0c2d4e5c77c"
      },
      "source": [
        "import numpy as np\n",
        "\n",
        "arr = np.array([414,42,43,44])\n",
        "\n",
        "x = arr[[True,False,True,True]]\n",
        "\n",
        "print(x)"
      ],
      "execution_count": null,
      "outputs": [
        {
          "output_type": "stream",
          "text": [
            "[414  43  44]\n"
          ],
          "name": "stdout"
        }
      ]
    },
    {
      "cell_type": "code",
      "metadata": {
        "colab": {
          "base_uri": "https://localhost:8080/"
        },
        "id": "YjE8wrV23B2g",
        "outputId": "a41c60e2-8d6e-4fc4-a5ca-4601d7122a63"
      },
      "source": [
        "import numpy as np\n",
        "\n",
        "arr = np.array([41,42,43,44])\n",
        "\n",
        "filter_arr = arr>42\n",
        "\n",
        "newarr = arr[filter_arr]\n",
        "\n",
        "print(filter_arr)\n",
        "\n",
        "print(newarr)"
      ],
      "execution_count": null,
      "outputs": [
        {
          "output_type": "stream",
          "text": [
            "[False False  True  True]\n",
            "[43 44]\n"
          ],
          "name": "stdout"
        }
      ]
    },
    {
      "cell_type": "code",
      "metadata": {
        "colab": {
          "base_uri": "https://localhost:8080/"
        },
        "id": "UpK89gXi4Hv7",
        "outputId": "26a0a5bf-0781-4ce0-e88b-d48a86de122c"
      },
      "source": [
        "import matplotlib\n",
        "print(matplotlib.__version__)"
      ],
      "execution_count": null,
      "outputs": [
        {
          "output_type": "stream",
          "text": [
            "3.2.2\n"
          ],
          "name": "stdout"
        }
      ]
    },
    {
      "cell_type": "code",
      "metadata": {
        "colab": {
          "base_uri": "https://localhost:8080/",
          "height": 265
        },
        "id": "MGL0X6qj5iEl",
        "outputId": "fb790fc3-e64c-46c1-d1aa-9c897dd32bd3"
      },
      "source": [
        "import matplotlib.pyplot as plt\n",
        "import numpy as np\n",
        "\n",
        "xpoints = np.array([0,6])\n",
        "ypoints = np.array([0,6])\n",
        "\n",
        "plt.plot(xpoints,ypoints)\n",
        "plt.show()"
      ],
      "execution_count": null,
      "outputs": [
        {
          "output_type": "display_data",
          "data": {
            "image/png": "[encoded data removed]",
            "text/plain": [
              "<Figure size 432x288 with 1 Axes>"
            ]
          },
          "metadata": {
            "tags": [],
            "needs_background": "light"
          }
        }
      ]
    },
    {
      "cell_type": "code",
      "metadata": {
        "colab": {
          "base_uri": "https://localhost:8080/",
          "height": 265
        },
        "id": "V-a7dnhP6jt6",
        "outputId": "d8788fa7-9487-47c3-c082-8409183e1519"
      },
      "source": [
        "import matplotlib.pyplot as plt\n",
        "import numpy as np\n",
        "\n",
        "xpoints = np.array([1,8])\n",
        "ypoints = np.array([3,10])\n",
        "\n",
        "plt.plot(xpoints,ypoints)\n",
        "plt.show()"
      ],
      "execution_count": null,
      "outputs": [
        {
          "output_type": "display_data",
          "data": {
            "image/png": "[encoded data removed]",
            "text/plain": [
              "<Figure size 432x288 with 1 Axes>"
            ]
          },
          "metadata": {
            "tags": [],
            "needs_background": "light"
          }
        }
      ]
    },
    {
      "cell_type": "code",
      "metadata": {
        "colab": {
          "base_uri": "https://localhost:8080/",
          "height": 265
        },
        "id": "R-lNMkBz6o5_",
        "outputId": "b1b937ec-4a49-4668-c4ee-0d267010f78d"
      },
      "source": [
        "import matplotlib.pyplot as plt\n",
        "import numpy as np\n",
        "\n",
        "xpoints = np.array([1,8])\n",
        "ypoints = np.array([3,10])\n",
        "\n",
        "plt.plot(xpoints,ypoints,'o')\n",
        "plt.show()"
      ],
      "execution_count": null,
      "outputs": [
        {
          "output_type": "display_data",
          "data": {
            "image/png": "[encoded data removed]",
            "text/plain": [
              "<Figure size 432x288 with 1 Axes>"
            ]
          },
          "metadata": {
            "tags": [],
            "needs_background": "light"
          }
        }
      ]
    },
    {
      "cell_type": "code",
      "metadata": {
        "colab": {
          "base_uri": "https://localhost:8080/",
          "height": 265
        },
        "id": "AYHKSaTg75cc",
        "outputId": "73e2416f-3979-4bd6-9aa7-0fb824492df4"
      },
      "source": [
        "import matplotlib.pyplot as plt\n",
        "import numpy as np\n",
        "\n",
        "xpoints = np.array([1,2,6,8])\n",
        "ypoints = np.array([3,8,1,10])\n",
        "\n",
        "plt.plot(xpoints,ypoints,'o')\n",
        "plt.show()"
      ],
      "execution_count": null,
      "outputs": [
        {
          "output_type": "display_data",
          "data": {
            "image/png": "[encoded data removed]",
            "text/plain": [
              "<Figure size 432x288 with 1 Axes>"
            ]
          },
          "metadata": {
            "tags": [],
            "needs_background": "light"
          }
        }
      ]
    },
    {
      "cell_type": "code",
      "metadata": {
        "colab": {
          "base_uri": "https://localhost:8080/",
          "height": 265
        },
        "id": "SCs2Qy9D8BQ_",
        "outputId": "d109d99a-f4c8-4906-f322-06b0d52f20f6"
      },
      "source": [
        "import matplotlib.pyplot as plt\n",
        "import numpy as np\n",
        "\n",
        "xpoints = np.array([1,2,6,8])\n",
        "ypoints = np.array([3,8,1,10])\n",
        "\n",
        "plt.plot(xpoints,ypoints)\n",
        "plt.show()"
      ],
      "execution_count": null,
      "outputs": [
        {
          "output_type": "display_data",
          "data": {
            "image/png": "[encoded data removed]",
            "text/plain": [
              "<Figure size 432x288 with 1 Axes>"
            ]
          },
          "metadata": {
            "tags": [],
            "needs_background": "light"
          }
        }
      ]
    },
    {
      "cell_type": "code",
      "metadata": {
        "colab": {
          "base_uri": "https://localhost:8080/",
          "height": 265
        },
        "id": "CLD-Vlna8HX9",
        "outputId": "54fb86ef-5345-40df-a20f-5b85ad7b61f7"
      },
      "source": [
        "import matplotlib.pyplot as plt\n",
        "import numpy as np\n",
        "\n",
        "xpoints = np.array([1,2,6,8,33,22,33,1,2,22,54,22])\n",
        "\n",
        "\n",
        "plt.plot(xpoints,marker='*')\n",
        "plt.show()"
      ],
      "execution_count": null,
      "outputs": [
        {
          "output_type": "display_data",
          "data": {
            "image/png": "[encoded data removed]",
            "text/plain": [
              "<Figure size 432x288 with 1 Axes>"
            ]
          },
          "metadata": {
            "tags": [],
            "needs_background": "light"
          }
        }
      ]
    },
    {
      "cell_type": "code",
      "metadata": {
        "colab": {
          "base_uri": "https://localhost:8080/",
          "height": 265
        },
        "id": "Bbm7MJg484_S",
        "outputId": "2cbb128b-4132-4bcb-f96a-8c9291e60471"
      },
      "source": [
        "import matplotlib.pyplot as plt\n",
        "import numpy as np\n",
        "\n",
        "xpoints = np.array([1,2,6,8,33,22,33,1,2,22,54,22])\n",
        "\n",
        "\n",
        "plt.plot(xpoints,'o:r')\n",
        "plt.show()"
      ],
      "execution_count": null,
      "outputs": [
        {
          "output_type": "display_data",
          "data": {
            "image/png": "[encoded data removed]",
            "text/plain": [
              "<Figure size 432x288 with 1 Axes>"
            ]
          },
          "metadata": {
            "tags": [],
            "needs_background": "light"
          }
        }
      ]
    },
    {
      "cell_type": "code",
      "metadata": {
        "colab": {
          "base_uri": "https://localhost:8080/",
          "height": 265
        },
        "id": "jQ3YX4Rq9WDY",
        "outputId": "70d9b1d7-ea9d-488a-f116-7010ca4876f5"
      },
      "source": [
        "import matplotlib.pyplot as plt\n",
        "import numpy as np\n",
        "\n",
        "xpoints = np.array([1,2,6,8,33,22,33,1,2,22,54,22])\n",
        "\n",
        "\n",
        "plt.plot(xpoints,'o-r')\n",
        "plt.show()"
      ],
      "execution_count": null,
      "outputs": [
        {
          "output_type": "display_data",
          "data": {
            "image/png": "[encoded data removed]",
            "text/plain": [
              "<Figure size 432x288 with 1 Axes>"
            ]
          },
          "metadata": {
            "tags": [],
            "needs_background": "light"
          }
        }
      ]
    },
    {
      "cell_type": "code",
      "metadata": {
        "colab": {
          "base_uri": "https://localhost:8080/",
          "height": 265
        },
        "id": "PWhu15Rk9rWM",
        "outputId": "80ea3bbc-0ad6-49d0-e6f4-8dfd6ff25181"
      },
      "source": [
        "import matplotlib.pyplot as plt\n",
        "import numpy as np\n",
        "\n",
        "xpoints = np.array([1,2,6,8,33,22,33,1,2,22,54,22])\n",
        "\n",
        "\n",
        "plt.plot(xpoints,'o--r')\n",
        "plt.show()"
      ],
      "execution_count": null,
      "outputs": [
        {
          "output_type": "display_data",
          "data": {
            "image/png": "[encoded data removed]",
            "text/plain": [
              "<Figure size 432x288 with 1 Axes>"
            ]
          },
          "metadata": {
            "tags": [],
            "needs_background": "light"
          }
        }
      ]
    },
    {
      "cell_type": "code",
      "metadata": {
        "colab": {
          "base_uri": "https://localhost:8080/",
          "height": 265
        },
        "id": "naGsU0pY9t8x",
        "outputId": "079630b4-0699-4637-bada-1f266c197b76"
      },
      "source": [
        "import matplotlib.pyplot as plt\n",
        "import numpy as np\n",
        "\n",
        "xpoints = np.array([1,2,6,8,33,22,33,1,2,22,54,22])\n",
        "\n",
        "\n",
        "plt.plot(xpoints,'o-.r')\n",
        "plt.show()"
      ],
      "execution_count": null,
      "outputs": [
        {
          "output_type": "display_data",
          "data": {
            "image/png": "[encoded data removed]",
            "text/plain": [
              "<Figure size 432x288 with 1 Axes>"
            ]
          },
          "metadata": {
            "tags": [],
            "needs_background": "light"
          }
        }
      ]
    },
    {
      "cell_type": "code",
      "metadata": {
        "colab": {
          "base_uri": "https://localhost:8080/",
          "height": 281
        },
        "id": "cOq43e7E94tf",
        "outputId": "e0e7a3e1-6b60-42fb-818a-40beb61bfb5e"
      },
      "source": [
        "import matplotlib.pyplot as plt\n",
        "import numpy as np\n",
        "x = np.array([0,1,2,3])\n",
        "y = np.array([3,5,2,10])\n",
        "\n",
        "\n",
        "plt.subplot(1,2,1)\n",
        "plt.plot(x,y)"
      ],
      "execution_count": null,
      "outputs": [
        {
          "output_type": "execute_result",
          "data": {
            "text/plain": [
              "[<matplotlib.lines.Line2D at 0x7fdc517c5ac8>]"
            ]
          },
          "metadata": {
            "tags": []
          },
          "execution_count": 47
        },
        {
          "output_type": "display_data",
          "data": {
            "image/png": "[encoded data removed]",
            "text/plain": [
              "<Figure size 432x288 with 1 Axes>"
            ]
          },
          "metadata": {
            "tags": [],
            "needs_background": "light"
          }
        }
      ]
    },
    {
      "cell_type": "code",
      "metadata": {
        "colab": {
          "base_uri": "https://localhost:8080/",
          "height": 265
        },
        "id": "trMAH1YA-kkT",
        "outputId": "96411e9a-d6b3-4cf1-b71b-959d59270de9"
      },
      "source": [
        "import matplotlib.pyplot as plt\n",
        "import numpy as np\n",
        "x = np.array([0,1,2,3])\n",
        "y = np.array([3,5,2,10])\n",
        "\n",
        "\n",
        "plt.subplot(1,2,1)\n",
        "plt.plot(x,y)\n",
        "\n",
        "import matplotlib.pyplot as plt\n",
        "import numpy as np\n",
        "x = np.array([0,1,2,3])\n",
        "y = np.array([13,25,32,40])\n",
        "\n",
        "\n",
        "plt.subplot(1,2,2)\n",
        "plt.plot(x,y)\n",
        "\n",
        "plt.show()"
      ],
      "execution_count": null,
      "outputs": [
        {
          "output_type": "display_data",
          "data": {
            "image/png": "[encoded data removed]",
            "text/plain": [
              "<Figure size 432x288 with 2 Axes>"
            ]
          },
          "metadata": {
            "tags": [],
            "needs_background": "light"
          }
        }
      ]
    },
    {
      "cell_type": "code",
      "metadata": {
        "colab": {
          "base_uri": "https://localhost:8080/",
          "height": 147
        },
        "id": "La2KZIZ6-2Vq",
        "outputId": "637e0c68-a9fa-4efc-a2f9-8e1bd1fddd1a"
      },
      "source": [
        "import matplotlib.pyplot as plt\n",
        "import numpy as np\n",
        "x = np.array([0,1,2,3])\n",
        "y = np.array([3,5,2,10])\n",
        "\n",
        "\n",
        "plt.subplot(2,2,1)\n",
        "plt.plot(x,y)\n",
        "\n",
        "import matplotlib.pyplot as plt\n",
        "import numpy as np\n",
        "x = np.array([0,1,2,3])\n",
        "y = np.array([13,25,32,40])\n",
        "\n",
        "\n",
        "plt.subplot(2,2,2)\n",
        "plt.plot(x,y)\n",
        "\n",
        "plt.show()"
      ],
      "execution_count": null,
      "outputs": [
        {
          "output_type": "display_data",
          "data": {
            "image/png": "[encoded data removed]",
            "text/plain": [
              "<Figure size 432x288 with 2 Axes>"
            ]
          },
          "metadata": {
            "tags": [],
            "needs_background": "light"
          }
        }
      ]
    },
    {
      "cell_type": "code",
      "metadata": {
        "colab": {
          "base_uri": "https://localhost:8080/",
          "height": 265
        },
        "id": "r866bo-K_Sc5",
        "outputId": "e9827e55-57ef-4435-efe8-793eba8e52c0"
      },
      "source": [
        "import matplotlib.pyplot as plt\n",
        "import numpy as np\n",
        "x = np.array([0,1,2,3])\n",
        "y = np.array([3,5,2,10])\n",
        "\n",
        "\n",
        "plt.subplot(2,1,1)\n",
        "plt.plot(x,y)\n",
        "\n",
        "import matplotlib.pyplot as plt\n",
        "import numpy as np\n",
        "x = np.array([0,1,2,3])\n",
        "y = np.array([13,25,32,40])\n",
        "\n",
        "\n",
        "plt.subplot(2,1,2)\n",
        "plt.plot(x,y)\n",
        "\n",
        "plt.show()"
      ],
      "execution_count": null,
      "outputs": [
        {
          "output_type": "display_data",
          "data": {
            "image/png": "[encoded data removed]",
            "text/plain": [
              "<Figure size 432x288 with 2 Axes>"
            ]
          },
          "metadata": {
            "tags": [],
            "needs_background": "light"
          }
        }
      ]
    },
    {
      "cell_type": "code",
      "metadata": {
        "colab": {
          "base_uri": "https://localhost:8080/",
          "height": 147
        },
        "id": "l-2BlwrJ_a9n",
        "outputId": "5aa0b830-b3ed-43d0-8ee9-f9f9467f0de1"
      },
      "source": [
        "import matplotlib.pyplot as plt\n",
        "import numpy as np\n",
        "x = np.array([0,1,2,3])\n",
        "y = np.array([3,5,2,10])\n",
        "\n",
        "\n",
        "plt.subplot(2,3,1)\n",
        "plt.plot(x,y)\n",
        "\n",
        "import matplotlib.pyplot as plt\n",
        "import numpy as np\n",
        "x = np.array([0,1,2,3])\n",
        "y = np.array([13,25,32,40])\n",
        "\n",
        "\n",
        "plt.subplot(2,3,2)\n",
        "plt.plot(x,y)\n",
        "\n",
        "plt.show()"
      ],
      "execution_count": null,
      "outputs": [
        {
          "output_type": "display_data",
          "data": {
            "image/png": "[encoded data removed]",
            "text/plain": [
              "<Figure size 432x288 with 2 Axes>"
            ]
          },
          "metadata": {
            "tags": [],
            "needs_background": "light"
          }
        }
      ]
    },
    {
      "cell_type": "code",
      "metadata": {
        "colab": {
          "base_uri": "https://localhost:8080/",
          "height": 301
        },
        "id": "SpKsYOf_AEVG",
        "outputId": "b5da74fc-6d71-41e9-8106-b2ecb28843a0"
      },
      "source": [
        "import matplotlib.pyplot as plt\n",
        "import numpy as np\n",
        "x = np.array([0,1,2,3])\n",
        "y = np.array([3,5,2,10])\n",
        "plt.subplot(2,3,1)\n",
        "plt.plot(x,y)\n",
        "\n",
        "x = np.array([0,1,2,3])\n",
        "y = np.array([13,25,32,40])\n",
        "plt.subplot(2,3,2)\n",
        "plt.plot(x,y)\n",
        "\n",
        "x = np.array([2,13,2,13])\n",
        "y = np.array([13,5,32,40])\n",
        "plt.subplot(2,3,3)\n",
        "plt.plot(x,y)\n",
        "\n",
        "x = np.array([10,11,12,13])\n",
        "y = np.array([3,5,32,20])\n",
        "plt.subplot(2,3,4)\n",
        "plt.plot(x,y)\n",
        "\n",
        "x = np.array([12,13,2,113])\n",
        "y = np.array([13,15,132,40])\n",
        "plt.subplot(2,3,5)\n",
        "plt.plot(x,y)\n",
        "\n",
        "x = np.array([12,13,2,113])\n",
        "y = np.array([13,15,132,40])\n",
        "plt.subplot(2,3,5)\n",
        "plt.plot(x,y)\n",
        "\n",
        "plt.show()"
      ],
      "execution_count": null,
      "outputs": [
        {
          "output_type": "stream",
          "text": [
            "/usr/local/lib/python3.6/dist-packages/ipykernel_launcher.py:30: MatplotlibDeprecationWarning: Adding an axes using the same arguments as a previous axes currently reuses the earlier instance.  In a future version, a new instance will always be created and returned.  Meanwhile, this warning can be suppressed, and the future behavior ensured, by passing a unique label to each axes instance.\n"
          ],
          "name": "stderr"
        },
        {
          "output_type": "display_data",
          "data": {
            "image/png": "[encoded data removed]",
            "text/plain": [
              "<Figure size 432x288 with 5 Axes>"
            ]
          },
          "metadata": {
            "tags": [],
            "needs_background": "light"
          }
        }
      ]
    },
    {
      "cell_type": "code",
      "metadata": {
        "colab": {
          "base_uri": "https://localhost:8080/",
          "height": 427
        },
        "id": "NbzlWUXBAxCW",
        "outputId": "958fb781-484f-405a-a54b-fa546e6908fd"
      },
      "source": [
        "import matplotlib.pyplot as plt\n",
        "import numpy as np\n",
        "x = np.array([0,1,2,3])\n",
        "y = np.array([3,5,2,10])\n",
        "\n",
        "plt.subplot(2,2,1)\n",
        "plt.plot(x,y)\n",
        "plt.title('SALES')\n",
        "plt.show()\n",
        "\n",
        "x = np.array([0,1,2,3])\n",
        "y = np.array([13,25,32,40])\n",
        "\n",
        "plt.subplot(1,2,1)\n",
        "plt.plot(x,y)\n",
        "plt.title('INCOME')\n",
        "plt.show()\n"
      ],
      "execution_count": null,
      "outputs": [
        {
          "output_type": "display_data",
          "data": {
            "image/png": "[encoded data removed]",
            "text/plain": [
              "<Figure size 432x288 with 1 Axes>"
            ]
          },
          "metadata": {
            "tags": [],
            "needs_background": "light"
          }
        },
        {
          "output_type": "display_data",
          "data": {
            "image/png": "[encoded data removed]",
            "text/plain": [
              "<Figure size 432x288 with 1 Axes>"
            ]
          },
          "metadata": {
            "tags": [],
            "needs_background": "light"
          }
        }
      ]
    },
    {
      "cell_type": "code",
      "metadata": {
        "colab": {
          "base_uri": "https://localhost:8080/",
          "height": 440
        },
        "id": "PIHZ27MdBwCM",
        "outputId": "7092d546-cc54-47ec-f1e5-19da1fb2acc6"
      },
      "source": [
        "import matplotlib.pyplot as plt\n",
        "import numpy as np\n",
        "x = np.array([0,1,2,3])\n",
        "y = np.array([3,5,2,10])\n",
        "\n",
        "plt.subplot(2,2,1)\n",
        "plt.plot(x,y)\n",
        "plt.title('SALES')\n",
        "plt.show()\n",
        "\n",
        "x = np.array([0,1,2,3])\n",
        "y = np.array([13,25,32,40])\n",
        "\n",
        "plt.subplot(1,2,1)\n",
        "plt.plot(x,y)\n",
        "plt.title('INCOME')\n",
        "\n",
        "plt.suptitle(\"Workshop of Acharya college\")\n",
        "plt.show()\n",
        "\n"
      ],
      "execution_count": null,
      "outputs": [
        {
          "output_type": "display_data",
          "data": {
            "image/png": "[encoded data removed]",
            "text/plain": [
              "<Figure size 432x288 with 1 Axes>"
            ]
          },
          "metadata": {
            "tags": [],
            "needs_background": "light"
          }
        },
        {
          "output_type": "display_data",
          "data": {
            "image/png": "[encoded data removed]",
            "text/plain": [
              "<Figure size 432x288 with 1 Axes>"
            ]
          },
          "metadata": {
            "tags": [],
            "needs_background": "light"
          }
        }
      ]
    },
    {
      "cell_type": "code",
      "metadata": {
        "colab": {
          "base_uri": "https://localhost:8080/",
          "height": 281
        },
        "id": "CRmg84UaCIoQ",
        "outputId": "307eb455-621b-494e-a134-54f02ad25bdb"
      },
      "source": [
        "import matplotlib.pyplot as plt\n",
        "import numpy as np\n",
        "\n",
        "x = np.array([0,1,2,3,3,4,6,4,8,2,3,7,8,1,2,8,9,2,2])\n",
        "y = np.array([3,5,2,1,2,1,2,1,2,4,2,3,2,2,3,5,2,5,7])\n",
        "plt.scatter(x,y)\n",
        "plt.title(\"Scatter Plot\")\n",
        "plt.show()"
      ],
      "execution_count": null,
      "outputs": [
        {
          "output_type": "display_data",
          "data": {
            "image/png": "[encoded data removed]",
            "text/plain": [
              "<Figure size 432x288 with 1 Axes>"
            ]
          },
          "metadata": {
            "tags": [],
            "needs_background": "light"
          }
        }
      ]
    },
    {
      "cell_type": "code",
      "metadata": {
        "colab": {
          "base_uri": "https://localhost:8080/",
          "height": 281
        },
        "id": "eqUuGfrRDNpW",
        "outputId": "67097fa2-7463-4cac-cc6c-a8f922cbd2d1"
      },
      "source": [
        "import matplotlib.pyplot as plt\n",
        "import numpy as np\n",
        "\n",
        "x = np.array([0,1,2,3,3,4,6,4,8,2,3,7,8,1,2,8,9,2,2])\n",
        "y = np.array([3,5,2,1,2,1,2,1,2,4,2,3,2,2,3,5,2,5,7])\n",
        "plt.scatter(x,y)\n",
        "\n",
        "x = np.array([10,1,2,3,3,24,6,4,8,2,3,7,84,1,21,8,9,2,2])\n",
        "y = np.array([3,5,2,1,12,1,2,1,52,4,2,3,2,2,3,45,12,5,7])\n",
        "plt.scatter(x,y)\n",
        "\n",
        "plt.title(\"Scatter Plot\")\n",
        "plt.show()"
      ],
      "execution_count": null,
      "outputs": [
        {
          "output_type": "display_data",
          "data": {
            "image/png": "[encoded data removed]",
            "text/plain": [
              "<Figure size 432x288 with 1 Axes>"
            ]
          },
          "metadata": {
            "tags": [],
            "needs_background": "light"
          }
        }
      ]
    },
    {
      "cell_type": "code",
      "metadata": {
        "id": "otSQFlV2EhbU",
        "colab": {
          "base_uri": "https://localhost:8080/",
          "height": 281
        },
        "outputId": "cc8e85c0-533d-4121-c0ae-0c4bae361d93"
      },
      "source": [
        "import matplotlib.pyplot as plt\r\n",
        "import numpy as np\r\n",
        "\r\n",
        "x = np.array([0,1,2,3,3,4,6,4,8,2,3,7,8,1,2,8,9,2,2])\r\n",
        "y = np.array([3,5,2,1,2,1,2,1,2,4,2,3,2,2,3,5,2,5,7])\r\n",
        "plt.scatter(x,y, color = 'brown')\r\n",
        "\r\n",
        "x = np.array([10,1,2,3,3,24,6,4,8,2,3,7,84,1,21,8,9,2,2])\r\n",
        "y = np.array([3,5,2,1,12,1,2,1,52,4,2,3,2,2,3,45,12,5,7])\r\n",
        "plt.scatter(x,y, color = 'hotpink')\r\n",
        "\r\n",
        "plt.title(\"Scatter Plot\")\r\n",
        "plt.show()"
      ],
      "execution_count": null,
      "outputs": [
        {
          "output_type": "display_data",
          "data": {
            "image/png": "[encoded data removed]",
            "text/plain": [
              "<Figure size 432x288 with 1 Axes>"
            ]
          },
          "metadata": {
            "tags": [],
            "needs_background": "light"
          }
        }
      ]
    },
    {
      "cell_type": "code",
      "metadata": {
        "colab": {
          "base_uri": "https://localhost:8080/",
          "height": 281
        },
        "id": "hZvlPgdL-a34",
        "outputId": "738811eb-3012-4720-eb80-aae4cf32f74b"
      },
      "source": [
        "import matplotlib.pyplot as plt\r\n",
        "import numpy as np\r\n",
        "\r\n",
        "x = np.array([0,1,2,3,3,4,6,4,8,2,3,7,8,1,2,8,9,2,2])\r\n",
        "y = np.array([3,5,2,1,2,1,2,1,2,4,2,3,2,2,3,5,2,5,7])\r\n",
        "plt.scatter(x,y, color = '#88c999')\r\n",
        "\r\n",
        "x = np.array([10,1,2,3,3,24,6,4,8,2,3,7,84,1,21,8,9,2,2])\r\n",
        "y = np.array([3,5,2,1,12,1,2,1,52,4,2,3,2,2,3,45,12,5,7])\r\n",
        "plt.scatter(x,y, color = 'hotpink')\r\n",
        "\r\n",
        "plt.title(\"Scatter Plot\")\r\n",
        "plt.show()"
      ],
      "execution_count": null,
      "outputs": [
        {
          "output_type": "display_data",
          "data": {
            "image/png": "[encoded data removed]",
            "text/plain": [
              "<Figure size 432x288 with 1 Axes>"
            ]
          },
          "metadata": {
            "tags": [],
            "needs_background": "light"
          }
        }
      ]
    },
    {
      "cell_type": "code",
      "metadata": {
        "colab": {
          "base_uri": "https://localhost:8080/",
          "height": 265
        },
        "id": "gWlQ7Zl6-jsz",
        "outputId": "6d95e5e5-c6fd-45ef-e920-b4129ce0dfe8"
      },
      "source": [
        "import matplotlib.pyplot as plt\r\n",
        "import numpy as np\r\n",
        "\r\n",
        "x = np.array([5,7,8,7,2,17,2,9,4,11,12,9,6])\r\n",
        "y = np.array([99,86,87,88,111,86,103,87,94,78,77,85,86])\r\n",
        "colors = np.array([0,10,20,30,40,45,50,55,60,70,80,90,100])\r\n",
        "\r\n",
        "plt.scatter(x,y,c=colors,cmap='viridis')\r\n",
        "plt.show()"
      ],
      "execution_count": null,
      "outputs": [
        {
          "output_type": "display_data",
          "data": {
            "image/png": "[encoded data removed]",
            "text/plain": [
              "<Figure size 432x288 with 1 Axes>"
            ]
          },
          "metadata": {
            "tags": [],
            "needs_background": "light"
          }
        }
      ]
    },
    {
      "cell_type": "code",
      "metadata": {
        "colab": {
          "base_uri": "https://localhost:8080/",
          "height": 269
        },
        "id": "vqOAGU1R_WL2",
        "outputId": "c7f36598-b4b2-46f7-80bc-1158bf21db57"
      },
      "source": [
        "import matplotlib.pyplot as plt\r\n",
        "import numpy as np\r\n",
        "\r\n",
        "x = np.array([5,7,8,7,2,17,2,9,4,11,12,9,6])\r\n",
        "y = np.array([99,86,87,88,111,86,103,87,94,78,77,85,86])\r\n",
        "colors = np.array([0,10,20,30,40,45,50,55,60,70,80,90,100])\r\n",
        "\r\n",
        "plt.scatter(x,y,c=colors,cmap='viridis')\r\n",
        "plt.colorbar()\r\n",
        "plt.show()"
      ],
      "execution_count": null,
      "outputs": [
        {
          "output_type": "display_data",
          "data": {
            "image/png": "[encoded data removed]",
            "text/plain": [
              "<Figure size 432x288 with 2 Axes>"
            ]
          },
          "metadata": {
            "tags": [],
            "needs_background": "light"
          }
        }
      ]
    },
    {
      "cell_type": "code",
      "metadata": {
        "colab": {
          "base_uri": "https://localhost:8080/",
          "height": 269
        },
        "id": "r1Lhrwds_qbc",
        "outputId": "8e311ad4-4bc6-479e-c889-821182cd3747"
      },
      "source": [
        "import matplotlib.pyplot as plt\r\n",
        "import numpy as np\r\n",
        "\r\n",
        "x = np.array([5,7,8,7,2,17,2,9,4,11,12,9,6])\r\n",
        "y = np.array([99,86,87,88,111,86,103,87,94,78,77,85,86])\r\n",
        "colors = np.array([0,10,20,30,40,45,50,55,60,70,80,90,100])\r\n",
        "\r\n",
        "plt.scatter(x,y,c=colors,cmap='Accent')\r\n",
        "plt.colorbar()\r\n",
        "plt.show()"
      ],
      "execution_count": null,
      "outputs": [
        {
          "output_type": "display_data",
          "data": {
            "image/png": "[encoded data removed]",
            "text/plain": [
              "<Figure size 432x288 with 2 Axes>"
            ]
          },
          "metadata": {
            "tags": [],
            "needs_background": "light"
          }
        }
      ]
    },
    {
      "cell_type": "code",
      "metadata": {
        "colab": {
          "base_uri": "https://localhost:8080/",
          "height": 269
        },
        "id": "sGgAboAoAK-w",
        "outputId": "3a121379-6579-4df0-dc22-f2371dbbfd77"
      },
      "source": [
        "import matplotlib.pyplot as plt\r\n",
        "import numpy as np\r\n",
        "\r\n",
        "x = np.array([5,7,8,7,2,17,2,9,4,11,12,9,6])\r\n",
        "y = np.array([99,86,87,88,111,86,103,87,94,78,77,85,86])\r\n",
        "colors = np.array([0,10,20,30,40,45,50,55,60,70,80,90,100])\r\n",
        "\r\n",
        "plt.scatter(x,y,c=colors,cmap='GnBu')\r\n",
        "plt.colorbar()\r\n",
        "plt.show()"
      ],
      "execution_count": null,
      "outputs": [
        {
          "output_type": "display_data",
          "data": {
            "image/png": "[encoded data removed]",
            "text/plain": [
              "<Figure size 432x288 with 2 Axes>"
            ]
          },
          "metadata": {
            "tags": [],
            "needs_background": "light"
          }
        }
      ]
    },
    {
      "cell_type": "code",
      "metadata": {
        "colab": {
          "base_uri": "https://localhost:8080/",
          "height": 269
        },
        "id": "nxkX3jEqAhLz",
        "outputId": "7f34195e-05c0-4b72-f885-c0da601ea1f0"
      },
      "source": [
        "import matplotlib.pyplot as plt\r\n",
        "import numpy as np\r\n",
        "\r\n",
        "x = np.array([5,7,8,7,2,17,2,9,4,11,12,9,6])\r\n",
        "y = np.array([99,86,87,88,111,86,103,87,94,78,77,85,86])\r\n",
        "sizes = np.array([0,10,20,30,40,45,50,55,60,70,80,90,100])\r\n",
        "\r\n",
        "plt.scatter(x,y,s=sizes,alpha=0.5)\r\n",
        "plt.colorbar()\r\n",
        "plt.show()"
      ],
      "execution_count": null,
      "outputs": [
        {
          "output_type": "display_data",
          "data": {
            "image/png": "[encoded data removed]",
            "text/plain": [
              "<Figure size 432x288 with 2 Axes>"
            ]
          },
          "metadata": {
            "tags": [],
            "needs_background": "light"
          }
        }
      ]
    },
    {
      "cell_type": "code",
      "metadata": {
        "colab": {
          "base_uri": "https://localhost:8080/",
          "height": 265
        },
        "id": "c2cjyX9JBH4Y",
        "outputId": "e94007ec-880d-4c01-a1e7-abda04a4596f"
      },
      "source": [
        "import matplotlib.pyplot as plt\r\n",
        "import numpy as np\r\n",
        "\r\n",
        "x = np.array([5,7,8,7,2,17,2,9,4,11,12,9,6])\r\n",
        "y = np.array([99,86,87,88,111,86,103,87,94,78,77,85,86])\r\n",
        "sizes = np.array([0,10,20,30,40,45,50,55,60,70,80,90,100])\r\n",
        "\r\n",
        "plt.scatter(x,y,s=sizes,alpha=0.7)\r\n",
        "\r\n",
        "plt.show()"
      ],
      "execution_count": null,
      "outputs": [
        {
          "output_type": "display_data",
          "data": {
            "image/png": "[encoded data removed]",
            "text/plain": [
              "<Figure size 432x288 with 1 Axes>"
            ]
          },
          "metadata": {
            "tags": [],
            "needs_background": "light"
          }
        }
      ]
    },
    {
      "cell_type": "code",
      "metadata": {
        "colab": {
          "base_uri": "https://localhost:8080/",
          "height": 265
        },
        "id": "VXOCO90oB8zD",
        "outputId": "9cb17f95-b7b7-4e86-cc74-c443d99cd4b4"
      },
      "source": [
        "import matplotlib.pyplot as plt\r\n",
        "import numpy as np\r\n",
        "\r\n",
        "x = np.random.randint(100,size=(100))\r\n",
        "y = np.random.randint(100,size=(100))\r\n",
        "colors = np.random.randint(100,size=(100))\r\n",
        "sizes = 10 * np.random.randint(100,size=(100))\r\n",
        "\r\n",
        "plt.scatter(x,y,c=colors,s=sizes,alpha=0.5,cmap='nipy_spectral')\r\n",
        "plt.colorbar()\r\n",
        "\r\n",
        "plt.show()"
      ],
      "execution_count": null,
      "outputs": [
        {
          "output_type": "display_data",
          "data": {
            "image/png": "[encoded data removed]",
            "text/plain": [
              "<Figure size 432x288 with 2 Axes>"
            ]
          },
          "metadata": {
            "tags": [],
            "needs_background": "light"
          }
        }
      ]
    },
    {
      "cell_type": "markdown",
      "metadata": {
        "id": "i8pJ1Z1DCpNA"
      },
      "source": [
        "# **Bar Plots/Charts**"
      ]
    },
    {
      "cell_type": "code",
      "metadata": {
        "colab": {
          "base_uri": "https://localhost:8080/",
          "height": 265
        },
        "id": "zUCuVkbBCa5N",
        "outputId": "2c874b78-7f11-4aed-9687-78f90ccca6ed"
      },
      "source": [
        "import matplotlib.pyplot as plt\r\n",
        "import numpy as np\r\n",
        "\r\n",
        "x = np.array([\"A\",\"B\",\"C\",\"D\"])\r\n",
        "y = np.array([23,15,25,20])\r\n",
        "\r\n",
        "plt.barh(x,y)\r\n",
        "plt.show()"
      ],
      "execution_count": null,
      "outputs": [
        {
          "output_type": "display_data",
          "data": {
            "image/png": "[encoded data removed]",
            "text/plain": [
              "<Figure size 432x288 with 1 Axes>"
            ]
          },
          "metadata": {
            "tags": [],
            "needs_background": "light"
          }
        }
      ]
    },
    {
      "cell_type": "code",
      "metadata": {
        "colab": {
          "base_uri": "https://localhost:8080/",
          "height": 265
        },
        "id": "dyimZhtDD6st",
        "outputId": "0973ebaf-174d-449e-d348-13f17b26a715"
      },
      "source": [
        "import matplotlib.pyplot as plt\r\n",
        "import numpy as np\r\n",
        "\r\n",
        "x = np.array([\"A\",\"B\",\"C\",\"D\"])\r\n",
        "y = np.array([23,15,25,20])\r\n",
        "\r\n",
        "plt.bar(x,y)\r\n",
        "plt.show()"
      ],
      "execution_count": null,
      "outputs": [
        {
          "output_type": "display_data",
          "data": {
            "image/png": "[encoded data removed]",
            "text/plain": [
              "<Figure size 432x288 with 1 Axes>"
            ]
          },
          "metadata": {
            "tags": [],
            "needs_background": "light"
          }
        }
      ]
    },
    {
      "cell_type": "code",
      "metadata": {
        "colab": {
          "base_uri": "https://localhost:8080/",
          "height": 265
        },
        "id": "W_KXBhZbEJ0e",
        "outputId": "4bed2db7-5334-4b74-e3e6-5b9345e6f4de"
      },
      "source": [
        "import matplotlib.pyplot as plt\r\n",
        "import numpy as np\r\n",
        "\r\n",
        "x = np.array([\"A\",\"B\",\"C\",\"D\"])\r\n",
        "y = np.array([23,15,25,20])\r\n",
        "\r\n",
        "plt.bar(x,y,color = 'hotpink')\r\n",
        "plt.show()"
      ],
      "execution_count": null,
      "outputs": [
        {
          "output_type": "display_data",
          "data": {
            "image/png": "[encoded data removed]",
            "text/plain": [
              "<Figure size 432x288 with 1 Axes>"
            ]
          },
          "metadata": {
            "tags": [],
            "needs_background": "light"
          }
        }
      ]
    },
    {
      "cell_type": "code",
      "metadata": {
        "colab": {
          "base_uri": "https://localhost:8080/",
          "height": 265
        },
        "id": "bSlXWkboEXn7",
        "outputId": "bdd9c91b-fcb1-443d-d6c8-2ad10efe2abd"
      },
      "source": [
        "import matplotlib.pyplot as plt\r\n",
        "import numpy as np\r\n",
        "\r\n",
        "x = np.array([\"A\",\"B\",\"C\",\"D\"])\r\n",
        "y = np.array([23,15,25,20])\r\n",
        "\r\n",
        "plt.barh(x,y,color = 'brown')\r\n",
        "plt.show()"
      ],
      "execution_count": null,
      "outputs": [
        {
          "output_type": "display_data",
          "data": {
            "image/png": "[encoded data removed]",
            "text/plain": [
              "<Figure size 432x288 with 1 Axes>"
            ]
          },
          "metadata": {
            "tags": [],
            "needs_background": "light"
          }
        }
      ]
    },
    {
      "cell_type": "code",
      "metadata": {
        "colab": {
          "base_uri": "https://localhost:8080/",
          "height": 265
        },
        "id": "f2ldaX3yEdjB",
        "outputId": "57a1968d-18d9-44a0-a4f3-ce40ed5a24ce"
      },
      "source": [
        "import matplotlib.pyplot as plt\r\n",
        "import numpy as np\r\n",
        "\r\n",
        "x = np.array([\"A\",\"B\",\"C\",\"D\"])\r\n",
        "y = np.array([23,15,25,20])\r\n",
        "\r\n",
        "plt.bar(x,y,width=0.1)\r\n",
        "plt.show()"
      ],
      "execution_count": null,
      "outputs": [
        {
          "output_type": "display_data",
          "data": {
            "image/png": "[encoded data removed]",
            "text/plain": [
              "<Figure size 432x288 with 1 Axes>"
            ]
          },
          "metadata": {
            "tags": [],
            "needs_background": "light"
          }
        }
      ]
    },
    {
      "cell_type": "code",
      "metadata": {
        "colab": {
          "base_uri": "https://localhost:8080/",
          "height": 265
        },
        "id": "CmTJ5WdxEpm4",
        "outputId": "5a5a2679-da52-48ed-ca11-452cde5b60c0"
      },
      "source": [
        "import matplotlib.pyplot as plt\r\n",
        "import numpy as np\r\n",
        "\r\n",
        "x = np.array([\"A\",\"B\",\"C\",\"D\"])\r\n",
        "y = np.array([23,15,25,20])\r\n",
        "\r\n",
        "plt.barh(x,y,height=0.2)\r\n",
        "plt.show()"
      ],
      "execution_count": null,
      "outputs": [
        {
          "output_type": "display_data",
          "data": {
            "image/png": "[encoded data removed]",
            "text/plain": [
              "<Figure size 432x288 with 1 Axes>"
            ]
          },
          "metadata": {
            "tags": [],
            "needs_background": "light"
          }
        }
      ]
    },
    {
      "cell_type": "code",
      "metadata": {
        "colab": {
          "base_uri": "https://localhost:8080/"
        },
        "id": "ypvgjJraE7uA",
        "outputId": "d31f2ef4-db0d-40cf-cde9-635c39bb2c8d"
      },
      "source": [
        "import numpy as np\r\n",
        "x = np.random.normal(170,10,250)\r\n",
        "print(x)"
      ],
      "execution_count": null,
      "outputs": [
        {
          "output_type": "stream",
          "text": [
            "[179.25013038 160.28600018 149.52499405 162.76811629 154.97924262\n",
            " 160.9702992  177.13275689 175.26086809 165.83501965 172.4766769\n",
            " 169.05731269 159.50412059 173.56215015 159.14269935 165.04892587\n",
            " 170.51532651 171.14553741 166.75821011 163.89592808 175.46861888\n",
            " 173.79066888 168.99021916 176.45201386 168.39200842 172.02136547\n",
            " 173.11431656 180.90118481 176.71886709 162.45822865 166.11161305\n",
            " 170.38558764 182.36802445 185.49047754 161.66161669 162.38957823\n",
            " 165.00671625 185.34828913 156.38826453 167.0571136  173.16998838\n",
            " 175.71227245 171.24654117 153.62971145 187.36881623 164.84721303\n",
            " 156.85527447 185.46483273 163.54945605 150.25548942 187.78518026\n",
            " 155.59763994 192.28061888 162.86822877 154.81527742 166.38122685\n",
            " 181.09988145 182.05695305 173.5037476  171.49375548 158.56649448\n",
            " 179.11969747 164.6425378  163.32859484 151.1880981  160.38535706\n",
            " 173.79884308 174.00636549 182.5298151  175.99471604 168.26472014\n",
            " 180.77525486 166.95323416 180.89966418 169.64083695 176.52284584\n",
            " 173.98455216 172.93854837 189.07510162 171.42669862 175.65776208\n",
            " 175.77994258 177.95824993 181.82756256 174.33882264 144.22429236\n",
            " 164.76776822 172.27606012 160.23749274 156.57928477 188.05536986\n",
            " 170.25450608 161.74505388 157.91624304 178.17916534 177.75282801\n",
            " 152.19192549 167.55169292 162.31149043 176.37346823 184.44470428\n",
            " 169.80787544 180.85831309 167.22013127 181.77055231 164.96272414\n",
            " 168.40512411 162.80997687 165.54274593 184.08703431 169.24546045\n",
            " 185.93414312 177.18691085 173.47615057 175.22660391 156.56382652\n",
            " 165.70133707 175.26935521 159.74449849 176.20767241 183.52150505\n",
            " 178.85581855 160.55971785 170.22050414 175.10434457 172.74587839\n",
            " 178.00305742 160.35059997 162.96573063 163.44860355 156.19852356\n",
            " 164.22029447 153.66951766 177.82846572 178.06011608 170.48334069\n",
            " 175.30175014 184.50247014 170.04262772 162.68046357 156.85880831\n",
            " 189.0893995  179.23347693 164.70789633 177.4750326  170.83601528\n",
            " 153.57923582 181.64829571 176.77461553 172.36631085 167.17932182\n",
            " 186.13026201 170.78135302 187.13337248 174.27368079 165.00691674\n",
            " 176.48201224 194.86261086 175.93723763 180.3546014  182.1260846\n",
            " 180.42076457 171.77922552 163.71892093 174.61581803 161.59556356\n",
            " 152.36873336 188.75663061 170.39068397 156.66254983 177.77023847\n",
            " 172.29211786 164.58873425 155.08868309 176.29292352 171.95819409\n",
            " 180.94708051 167.54651313 162.15044509 174.7786122  176.13543846\n",
            " 157.90824304 188.63022394 158.32570253 168.04293229 186.68077174\n",
            " 154.876971   192.81484976 159.47501358 169.38397249 171.64111633\n",
            " 178.26481063 177.31211545 175.45021986 158.27073678 160.40705403\n",
            " 160.01580238 173.62763241 179.51659344 166.19304611 169.61009779\n",
            " 193.97601602 166.24579422 164.34129066 159.99740867 166.98387873\n",
            " 164.1054298  170.21227446 177.70925681 184.21076862 169.70440061\n",
            " 174.07487759 179.41038991 184.28004236 185.36735437 178.62559871\n",
            " 166.97752446 159.36189528 171.60878483 169.64736503 167.91915074\n",
            " 182.58257167 183.4524122  174.89276499 174.89140641 166.41792217\n",
            " 192.63086646 161.14566935 181.61601157 168.76030404 166.69061731\n",
            " 159.32885538 170.69157484 175.42779992 164.4484969  155.14307476\n",
            " 164.34365769 164.19282719 182.30378626 170.3199329  172.20272613\n",
            " 153.02921277 153.37315013 180.99825932 162.07369307 170.99769807\n",
            " 191.23075093 182.7434305  167.65231173 168.8240999  193.66847052]\n"
          ],
          "name": "stdout"
        }
      ]
    },
    {
      "cell_type": "code",
      "metadata": {
        "colab": {
          "base_uri": "https://localhost:8080/",
          "height": 265
        },
        "id": "Yz_41cD5FZUE",
        "outputId": "752e867d-cf00-488d-f880-a0fb6b7eac98"
      },
      "source": [
        "import matplotlib.pyplot as plt\r\n",
        "import numpy as np\r\n",
        "\r\n",
        "x = np.random.normal(170,10,250)\r\n",
        "\r\n",
        "plt.hist(x)\r\n",
        "plt.show()"
      ],
      "execution_count": null,
      "outputs": [
        {
          "output_type": "display_data",
          "data": {
            "image/png": "[encoded data removed]",
            "text/plain": [
              "<Figure size 432x288 with 1 Axes>"
            ]
          },
          "metadata": {
            "tags": [],
            "needs_background": "light"
          }
        }
      ]
    },
    {
      "cell_type": "code",
      "metadata": {
        "colab": {
          "base_uri": "https://localhost:8080/",
          "height": 248
        },
        "id": "RPsDHqn-GB1j",
        "outputId": "424706bc-a50a-4721-f175-71901eda841f"
      },
      "source": [
        "import matplotlib.pyplot as plt\r\n",
        "import numpy as np\r\n",
        "\r\n",
        "y = np.array([35,25,25,15])\r\n",
        "\r\n",
        "plt.pie(y)\r\n",
        "plt.show()"
      ],
      "execution_count": null,
      "outputs": [
        {
          "output_type": "display_data",
          "data": {
            "image/png": "[encoded data removed]",
            "text/plain": [
              "<Figure size 432x288 with 1 Axes>"
            ]
          },
          "metadata": {
            "tags": []
          }
        }
      ]
    },
    {
      "cell_type": "code",
      "metadata": {
        "colab": {
          "base_uri": "https://localhost:8080/",
          "height": 248
        },
        "id": "9IyEJPF9GRKG",
        "outputId": "16ecf36d-37b5-4a94-a4e9-6db33e71a34f"
      },
      "source": [
        "import matplotlib.pyplot as plt\r\n",
        "import numpy as np\r\n",
        "\r\n",
        "y = np.array([35,25,25,15])\r\n",
        "mylables = ['Varsha','Abhi','Dhanush','Thanusha']\r\n",
        "\r\n",
        "plt.pie(y,labels=mylables)\r\n",
        "plt.show()"
      ],
      "execution_count": null,
      "outputs": [
        {
          "output_type": "display_data",
          "data": {
            "image/png": "[encoded data removed]",
            "text/plain": [
              "<Figure size 432x288 with 1 Axes>"
            ]
          },
          "metadata": {
            "tags": []
          }
        }
      ]
    },
    {
      "cell_type": "code",
      "metadata": {
        "colab": {
          "base_uri": "https://localhost:8080/",
          "height": 248
        },
        "id": "tVMdx2ImG2pn",
        "outputId": "edab6002-385f-4535-b327-f9e4fca5a2f9"
      },
      "source": [
        "import matplotlib.pyplot as plt\r\n",
        "import numpy as np\r\n",
        "\r\n",
        "y = np.array([35,25,25,15])\r\n",
        "mylables = ['Varsha','Abhi','Dhanush','Thanusha']\r\n",
        "\r\n",
        "myexplode = [0.2,0,0,0]\r\n",
        "\r\n",
        "plt.pie(y,labels=mylables,explode=myexplode)\r\n",
        "plt.show()"
      ],
      "execution_count": null,
      "outputs": [
        {
          "output_type": "display_data",
          "data": {
            "image/png": "[encoded data removed]",
            "text/plain": [
              "<Figure size 432x288 with 1 Axes>"
            ]
          },
          "metadata": {
            "tags": []
          }
        }
      ]
    },
    {
      "cell_type": "code",
      "metadata": {
        "colab": {
          "base_uri": "https://localhost:8080/",
          "height": 253
        },
        "id": "vOs2N2p4HHMS",
        "outputId": "2d89039f-9c44-42f5-fb0b-7e07e66f9d26"
      },
      "source": [
        "import matplotlib.pyplot as plt\r\n",
        "import numpy as np\r\n",
        "\r\n",
        "y = np.array([35,25,25,15])\r\n",
        "mylables = ['Varsha','Abhi','Dhanush','Thanusha']\r\n",
        "\r\n",
        "myexplode = [0.3,0.1,0,0]\r\n",
        "\r\n",
        "plt.pie(y,labels=mylables,explode=myexplode)\r\n",
        "plt.show()"
      ],
      "execution_count": null,
      "outputs": [
        {
          "output_type": "display_data",
          "data": {
            "image/png": "[encoded data removed]",
            "text/plain": [
              "<Figure size 432x288 with 1 Axes>"
            ]
          },
          "metadata": {
            "tags": []
          }
        }
      ]
    },
    {
      "cell_type": "code",
      "metadata": {
        "colab": {
          "base_uri": "https://localhost:8080/",
          "height": 248
        },
        "id": "PM5irhy9HNIm",
        "outputId": "32190ab8-f2f0-4a26-9f4d-d21aeb831ac0"
      },
      "source": [
        "import matplotlib.pyplot as plt\r\n",
        "import numpy as np\r\n",
        "\r\n",
        "y = np.array([35,25,25,15])\r\n",
        "mylables = ['Varsha','Abhi','Dhanush','Thanusha']\r\n",
        "\r\n",
        "myexplode = [0.2,0,0,0]\r\n",
        "\r\n",
        "plt.pie(y,labels=mylables,explode=myexplode,shadow=True)\r\n",
        "plt.show()"
      ],
      "execution_count": null,
      "outputs": [
        {
          "output_type": "display_data",
          "data": {
            "image/png": "[encoded data removed]",
            "text/plain": [
              "<Figure size 432x288 with 1 Axes>"
            ]
          },
          "metadata": {
            "tags": []
          }
        }
      ]
    },
    {
      "cell_type": "code",
      "metadata": {
        "colab": {
          "base_uri": "https://localhost:8080/",
          "height": 248
        },
        "id": "9rT26DZmHr6D",
        "outputId": "90671d17-9439-4c25-a3d6-f1cd5a4f136e"
      },
      "source": [
        "import matplotlib.pyplot as plt\r\n",
        "import numpy as np\r\n",
        "\r\n",
        "y = np.array([35,25,25,15])\r\n",
        "mylables = ['Varsha','Abhi','Dhanush','Thanusha']\r\n",
        "\r\n",
        "myexplode = [0.2,0,0,0]\r\n",
        "\r\n",
        "plt.pie(y,labels=mylables,explode=myexplode)\r\n",
        "plt.legend()\r\n",
        "plt.show()"
      ],
      "execution_count": null,
      "outputs": [
        {
          "output_type": "display_data",
          "data": {
            "image/png": "[encoded data removed]",
            "text/plain": [
              "<Figure size 432x288 with 1 Axes>"
            ]
          },
          "metadata": {
            "tags": []
          }
        }
      ]
    },
    {
      "cell_type": "code",
      "metadata": {
        "colab": {
          "base_uri": "https://localhost:8080/",
          "height": 248
        },
        "id": "SRb-dL3CIC4G",
        "outputId": "341c0d5e-7a19-4fc3-c52c-efe3742e81aa"
      },
      "source": [
        "import matplotlib.pyplot as plt\r\n",
        "import numpy as np\r\n",
        "\r\n",
        "y = np.array([35,25,25,15])\r\n",
        "mylables = ['Varsha','Abhi','Dhanush','Thanusha']\r\n",
        "\r\n",
        "myexplode = [0.2,0,0,0]\r\n",
        "\r\n",
        "plt.pie(y,labels=mylables,explode=myexplode)\r\n",
        "plt.legend(title='Student Names :')\r\n",
        "plt.show()"
      ],
      "execution_count": null,
      "outputs": [
        {
          "output_type": "display_data",
          "data": {
            "image/png": "[encoded data removed]",
            "text/plain": [
              "<Figure size 432x288 with 1 Axes>"
            ]
          },
          "metadata": {
            "tags": []
          }
        }
      ]
    },
    {
      "cell_type": "code",
      "metadata": {
        "colab": {
          "base_uri": "https://localhost:8080/",
          "height": 248
        },
        "id": "vXdacIyNIguk",
        "outputId": "8ce138a5-73e0-4d06-9361-3c01b53322c7"
      },
      "source": [
        "import matplotlib.pyplot as plt\r\n",
        "import numpy as np\r\n",
        "\r\n",
        "y = np.array([35,25,25,15])\r\n",
        "mylables = ['Varsha','Abhi','Dhanush','Thanusha']\r\n",
        "\r\n",
        "plt.pie(y,labels=mylables)\r\n",
        "plt.legend(title='Student Names :')\r\n",
        "plt.show()"
      ],
      "execution_count": null,
      "outputs": [
        {
          "output_type": "display_data",
          "data": {
            "image/png": "[encoded data removed]",
            "text/plain": [
              "<Figure size 432x288 with 1 Axes>"
            ]
          },
          "metadata": {
            "tags": []
          }
        }
      ]
    },
    {
      "cell_type": "code",
      "metadata": {
        "colab": {
          "base_uri": "https://localhost:8080/",
          "height": 248
        },
        "id": "u_zp79C8I1cj",
        "outputId": "f4da543c-fb83-422d-af83-b757e079284b"
      },
      "source": [
        "import matplotlib.pyplot as plt\r\n",
        "import numpy as np\r\n",
        "\r\n",
        "y = np.array([35,25,25,15])\r\n",
        "mylables = ['Varsha','Abhi','Dhanush','Thanusha']\r\n",
        "\r\n",
        "myexplode = [0.2,0,0,0]\r\n",
        "\r\n",
        "plt.pie(y,labels=mylables,explode=myexplode,shadow=True)\r\n",
        "plt.legend(title='Student Names :')\r\n",
        "plt.show()"
      ],
      "execution_count": null,
      "outputs": [
        {
          "output_type": "display_data",
          "data": {
            "image/png": "[encoded data removed]",
            "text/plain": [
              "<Figure size 432x288 with 1 Axes>"
            ]
          },
          "metadata": {
            "tags": []
          }
        }
      ]
    },
    {
      "cell_type": "code",
      "metadata": {
        "id": "2u0hDxDFI9wY"
      },
      "source": [
        ""
      ],
      "execution_count": null,
      "outputs": []
    }
  ]
}