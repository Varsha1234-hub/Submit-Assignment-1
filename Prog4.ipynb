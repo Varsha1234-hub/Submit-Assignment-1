{
  "nbformat": 4,
  "nbformat_minor": 0,
  "metadata": {
    "colab": {
      "name": "Prog4.ipynb",
      "provenance": [],
      "collapsed_sections": []
    },
    "kernelspec": {
      "name": "python3",
      "display_name": "Python 3"
    }
  },
  "cells": [
    {
      "cell_type": "code",
      "metadata": {
        "id": "iyFPSZ2Y7HFs",
        "colab": {
          "base_uri": "https://localhost:8080/"
        },
        "outputId": "43eae518-bb3d-455b-c382-960af57c7ef5"
      },
      "source": [
        "a=45\n",
        "print(a)"
      ],
      "execution_count": null,
      "outputs": [
        {
          "output_type": "stream",
          "text": [
            "45\n"
          ],
          "name": "stdout"
        }
      ]
    },
    {
      "cell_type": "code",
      "metadata": {
        "id": "Lwxq9e4aDv6y",
        "colab": {
          "base_uri": "https://localhost:8080/"
        },
        "outputId": "ca80148c-8581-4b43-8e1e-774a29e2490b"
      },
      "source": [
        "a=\"Hello world\"\n",
        "print(a)"
      ],
      "execution_count": null,
      "outputs": [
        {
          "output_type": "stream",
          "text": [
            "Hello world\n"
          ],
          "name": "stdout"
        }
      ]
    },
    {
      "cell_type": "code",
      "metadata": {
        "id": "0afrYGWvD4__"
      },
      "source": [
        "b=a"
      ],
      "execution_count": null,
      "outputs": []
    },
    {
      "cell_type": "code",
      "metadata": {
        "id": "svMG7t65D6i8",
        "colab": {
          "base_uri": "https://localhost:8080/",
          "height": 35
        },
        "outputId": "541b28e1-c4e0-4066-8c05-2b0747333aa8"
      },
      "source": [
        "b"
      ],
      "execution_count": null,
      "outputs": [
        {
          "output_type": "execute_result",
          "data": {
            "application/vnd.google.colaboratory.intrinsic+json": {
              "type": "string"
            },
            "text/plain": [
              "'Hello world'"
            ]
          },
          "metadata": {
            "tags": []
          },
          "execution_count": 4
        }
      ]
    },
    {
      "cell_type": "markdown",
      "metadata": {
        "id": "xcQSnWrqD8xz"
      },
      "source": [
        "DICTIONARIES"
      ]
    },
    {
      "cell_type": "code",
      "metadata": {
        "id": "_h5JUo4XD_7a",
        "colab": {
          "base_uri": "https://localhost:8080/"
        },
        "outputId": "a2f204ea-7fb5-4825-f08b-e0d2c3ba3853"
      },
      "source": [
        "# Creating a dictionary\n",
        "country_info={\"name\":\"India\",\"capital\":\"Delhi\"}\n",
        "print(country_info)"
      ],
      "execution_count": null,
      "outputs": [
        {
          "output_type": "stream",
          "text": [
            "{'name': 'India', 'capital': 'Delhi'}\n"
          ],
          "name": "stdout"
        }
      ]
    },
    {
      "cell_type": "code",
      "metadata": {
        "id": "ysM52eFbE1iw",
        "colab": {
          "base_uri": "https://localhost:8080/"
        },
        "outputId": "58905da1-41af-4bee-ab1d-fbe6ef0a995e"
      },
      "source": [
        "country_info={\"name\":\"India\",\"capital\":\"Delhi\"}\n",
        "print(country_info[\"name\"])"
      ],
      "execution_count": null,
      "outputs": [
        {
          "output_type": "stream",
          "text": [
            "India\n"
          ],
          "name": "stdout"
        }
      ]
    },
    {
      "cell_type": "code",
      "metadata": {
        "id": "kTNueQaDFHRh",
        "colab": {
          "base_uri": "https://localhost:8080/"
        },
        "outputId": "8144afe9-9a84-42e7-857e-a0449493cce2"
      },
      "source": [
        "country_info={\"name\":\"India\",\"capital\":\"Delhi\"}\n",
        "print(country_info[\"capital\"])"
      ],
      "execution_count": null,
      "outputs": [
        {
          "output_type": "stream",
          "text": [
            "Delhi\n"
          ],
          "name": "stdout"
        }
      ]
    },
    {
      "cell_type": "code",
      "metadata": {
        "id": "oqDWAlLEFREl",
        "colab": {
          "base_uri": "https://localhost:8080/"
        },
        "outputId": "5ec313e4-8ebb-4dae-e592-69c06418dfd0"
      },
      "source": [
        "# Creating a dictionary\n",
        "country_info={\"name\":\"Japan\",\"capital\":\"Tokyo\"}\n",
        "print(country_info)\n",
        "print(country_info[\"name\"])\n",
        "print(country_info[\"capital\"])"
      ],
      "execution_count": null,
      "outputs": [
        {
          "output_type": "stream",
          "text": [
            "{'name': 'Japan', 'capital': 'Tokyo'}\n",
            "Japan\n",
            "Tokyo\n"
          ],
          "name": "stdout"
        }
      ]
    },
    {
      "cell_type": "code",
      "metadata": {
        "id": "_qb5a2e0F1ae",
        "colab": {
          "base_uri": "https://localhost:8080/"
        },
        "outputId": "95dd5069-1801-4619-b02a-93f1bfe84f69"
      },
      "source": [
        "country_info['population']='139.67M'\n",
        "print(country_info)"
      ],
      "execution_count": null,
      "outputs": [
        {
          "output_type": "stream",
          "text": [
            "{'name': 'Japan', 'capital': 'Tokyo', 'population': '139.67M'}\n"
          ],
          "name": "stdout"
        }
      ]
    },
    {
      "cell_type": "code",
      "metadata": {
        "id": "m73CvPLXGvVQ",
        "colab": {
          "base_uri": "https://localhost:8080/"
        },
        "outputId": "efe2a549-1d3a-4e6c-fcfe-d6f3dd91eefe"
      },
      "source": [
        "country_info['region']=['hokkaido','tohoku','kanto','chubu','kinki','chugoku']\r\n",
        "print(country_info)"
      ],
      "execution_count": null,
      "outputs": [
        {
          "output_type": "stream",
          "text": [
            "{'name': 'Japan', 'capital': 'Tokyo', 'population': '139.67M', 'region': ['hokkaido', 'tohoku', 'kanto', 'chubu', 'kinki', 'chugoku']}\n"
          ],
          "name": "stdout"
        }
      ]
    },
    {
      "cell_type": "code",
      "metadata": {
        "id": "qw__jwKICRcb"
      },
      "source": [
        ""
      ],
      "execution_count": null,
      "outputs": []
    }
  ]
}