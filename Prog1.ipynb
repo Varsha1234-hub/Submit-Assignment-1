{
 "cells": [
  {
   "cell_type": "code",
   "execution_count": 2,
   "metadata": {},
   "outputs": [
    {
     "name": "stdout",
     "output_type": "stream",
     "text": [
      "Hello , Varshitha !\n"
     ]
    }
   ],
   "source": [
    "print( \"Hello , Varshitha !\") "
   ]
  },
  {
   "cell_type": "code",
   "execution_count": 4,
   "metadata": {},
   "outputs": [
    {
     "name": "stdout",
     "output_type": "stream",
     "text": [
      "Programming is the important skill for data science\n"
     ]
    }
   ],
   "source": [
    "print(\"Programming is the important skill for data science\")"
   ]
  },
  {
   "cell_type": "code",
   "execution_count": 5,
   "metadata": {},
   "outputs": [
    {
     "name": "stdout",
     "output_type": "stream",
     "text": [
      "Programming is the important skill for data science\n",
      "Statistics is the important skill for data science\n",
      "Business domain is the important skill for data science\n"
     ]
    }
   ],
   "source": [
    "print(\"Programming is the important skill for data science\")\n",
    "print(\"Statistics is the important skill for data science\")\n",
    "print(\"Business domain is the important skill for data science\")"
   ]
  },
  {
   "cell_type": "code",
   "execution_count": 8,
   "metadata": {},
   "outputs": [
    {
     "name": "stdout",
     "output_type": "stream",
     "text": [
      "Statistics is the important skill for data science\n"
     ]
    }
   ],
   "source": [
    "X=0\n",
    "if X==1:\n",
    "        print(\"Programming is the important skill for data science\")\n",
    "else:\n",
    "        print(\"Statistics is the important skill for data science\")"
   ]
  },
  {
   "cell_type": "code",
   "execution_count": 9,
   "metadata": {},
   "outputs": [
    {
     "name": "stdout",
     "output_type": "stream",
     "text": [
      "Programming is the important skill for data science\n"
     ]
    }
   ],
   "source": [
    "X=1\n",
    "if X==1:\n",
    "        print(\"Programming is the important skill for data science\")\n",
    "else:\n",
    "        print(\"Statistics is the important skill for data science\")"
   ]
  },
  {
   "cell_type": "code",
   "execution_count": null,
   "metadata": {},
   "outputs": [],
   "source": []
  }
 ],
 "metadata": {
  "kernelspec": {
   "display_name": "Python 3",
   "language": "python",
   "name": "python3"
  },
  "language_info": {
   "codemirror_mode": {
    "name": "ipython",
    "version": 3
   },
   "file_extension": ".py",
   "mimetype": "text/x-python",
   "name": "python",
   "nbconvert_exporter": "python",
   "pygments_lexer": "ipython3",
   "version": "3.8.3"
  }
 },
 "nbformat": 4,
 "nbformat_minor": 4
}
