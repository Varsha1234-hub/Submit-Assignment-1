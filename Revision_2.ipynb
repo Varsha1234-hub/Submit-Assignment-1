{
  "nbformat": 4,
  "nbformat_minor": 0,
  "metadata": {
    "colab": {
      "name": "Revision 2.ipynb",
      "provenance": [],
      "collapsed_sections": []
    },
    "kernelspec": {
      "name": "python3",
      "display_name": "Python 3"
    }
  },
  "cells": [
    {
      "cell_type": "code",
      "metadata": {
        "colab": {
          "base_uri": "https://localhost:8080/"
        },
        "id": "eAjG8WR1Rfdg",
        "outputId": "aab76d3d-498a-4311-88e1-b075e0f3ada2"
      },
      "source": [
        "thislist=[\"orange\",\"mango\",\"kiwi\",\"pineapple\",\"banana\"]\n",
        "print(thislist)"
      ],
      "execution_count": null,
      "outputs": [
        {
          "output_type": "stream",
          "text": [
            "['orange', 'mango', 'kiwi', 'pineapple', 'banana']\n"
          ],
          "name": "stdout"
        }
      ]
    },
    {
      "cell_type": "code",
      "metadata": {
        "id": "mryYeXSTR5Yg",
        "colab": {
          "base_uri": "https://localhost:8080/"
        },
        "outputId": "10df19c1-70b2-4df9-9c86-bb8a5e11e9ca"
      },
      "source": [
        "thislist=[\"orange\",\"mango\",\"kiwi\",\"pineapple\",\"banana\"]\n",
        "thislist.sort()\n",
        "print(thislist)"
      ],
      "execution_count": null,
      "outputs": [
        {
          "output_type": "stream",
          "text": [
            "['banana', 'kiwi', 'mango', 'orange', 'pineapple']\n"
          ],
          "name": "stdout"
        }
      ]
    },
    {
      "cell_type": "code",
      "metadata": {
        "colab": {
          "base_uri": "https://localhost:8080/"
        },
        "id": "TyrIk1r-SuWy",
        "outputId": "a1e3feca-2363-4bac-dd76-f16ba1d5c6a4"
      },
      "source": [
        "thislist=[100,40,50,2,22,83,78]\n",
        "thislist.sort()\n",
        "print(thislist)"
      ],
      "execution_count": null,
      "outputs": [
        {
          "output_type": "stream",
          "text": [
            "[2, 22, 40, 50, 78, 83, 100]\n"
          ],
          "name": "stdout"
        }
      ]
    },
    {
      "cell_type": "code",
      "metadata": {
        "colab": {
          "base_uri": "https://localhost:8080/"
        },
        "id": "nfON8ouRS6UP",
        "outputId": "e7298f8f-70ab-4780-8e22-069e5a245073"
      },
      "source": [
        "thislist=[\"orange\",\"mango\",\"kiwi\",\"pineapple\",\"banana\"]\n",
        "thislist.sort(reverse=True)\n",
        "print(thislist)"
      ],
      "execution_count": null,
      "outputs": [
        {
          "output_type": "stream",
          "text": [
            "['pineapple', 'orange', 'mango', 'kiwi', 'banana']\n"
          ],
          "name": "stdout"
        }
      ]
    },
    {
      "cell_type": "code",
      "metadata": {
        "colab": {
          "base_uri": "https://localhost:8080/"
        },
        "id": "6qYVAl9-TEAO",
        "outputId": "334c028f-eec9-49bd-de4c-60d84b3485ec"
      },
      "source": [
        "thislist=[100,40,50,2,22,83,78]\n",
        "thislist.sort(reverse=True)\n",
        "print(thislist)"
      ],
      "execution_count": null,
      "outputs": [
        {
          "output_type": "stream",
          "text": [
            "[100, 83, 78, 50, 40, 22, 2]\n"
          ],
          "name": "stdout"
        }
      ]
    },
    {
      "cell_type": "code",
      "metadata": {
        "colab": {
          "base_uri": "https://localhost:8080/"
        },
        "id": "anzHBI0RTJby",
        "outputId": "79e218ae-cee1-4517-9f2e-482cb8189195"
      },
      "source": [
        "thislist=[\"orange\",\"mango\",\"kiwi\",\"pineapple\",\"banana\"]\n",
        "newlist=thislist.copy()\n",
        "print(newlist)"
      ],
      "execution_count": null,
      "outputs": [
        {
          "output_type": "stream",
          "text": [
            "['orange', 'mango', 'kiwi', 'pineapple', 'banana']\n"
          ],
          "name": "stdout"
        }
      ]
    },
    {
      "cell_type": "code",
      "metadata": {
        "colab": {
          "base_uri": "https://localhost:8080/"
        },
        "id": "MsmEpjT5TcNy",
        "outputId": "ea2b3853-7bc8-4b4f-98de-f31f77d7ab6c"
      },
      "source": [
        "thislist=[100,40,50,2,22,83,78]\n",
        "newlist=thislist.copy()\n",
        "print(newlist)"
      ],
      "execution_count": null,
      "outputs": [
        {
          "output_type": "stream",
          "text": [
            "[100, 40, 50, 2, 22, 83, 78]\n"
          ],
          "name": "stdout"
        }
      ]
    },
    {
      "cell_type": "code",
      "metadata": {
        "colab": {
          "base_uri": "https://localhost:8080/"
        },
        "id": "bDqs_3-bTk55",
        "outputId": "6956d092-b059-4b8a-f3d6-eb4a7fdb82a7"
      },
      "source": [
        "list1=[\"orange\",\"mango\",\"kiwi\",\"pineapple\",\"banana\"]\n",
        "list2=[100,40,50,2,22,83,78]\n",
        "list3=list1+list2\n",
        "print(list3)"
      ],
      "execution_count": null,
      "outputs": [
        {
          "output_type": "stream",
          "text": [
            "['orange', 'mango', 'kiwi', 'pineapple', 'banana', 100, 40, 50, 2, 22, 83, 78]\n"
          ],
          "name": "stdout"
        }
      ]
    },
    {
      "cell_type": "code",
      "metadata": {
        "colab": {
          "base_uri": "https://localhost:8080/"
        },
        "id": "eiLlDgO1T_Nh",
        "outputId": "65ac591a-3e59-45e2-9e65-d861f849e3d1"
      },
      "source": [
        "list1=[\"orange\",\"mango\",\"kiwi\",\"pineapple\",\"banana\"]\n",
        "list2=[100,40,50,2,22,83,78]\n",
        "for x in list2:\n",
        "  list1.append(x)\n",
        "print(list1)"
      ],
      "execution_count": null,
      "outputs": [
        {
          "output_type": "stream",
          "text": [
            "['orange', 'mango', 'kiwi', 'pineapple', 'banana', 100, 40, 50, 2, 22, 83, 78]\n"
          ],
          "name": "stdout"
        }
      ]
    },
    {
      "cell_type": "code",
      "metadata": {
        "colab": {
          "base_uri": "https://localhost:8080/"
        },
        "id": "yhdy56v5UYe-",
        "outputId": "10c7344c-b925-4298-9d24-2273d6a181e9"
      },
      "source": [
        "list1=[\"orange\",\"mango\",\"kiwi\",\"pineapple\",\"banana\"]\n",
        "list2=[100,40,50,2,22,83,78]\n",
        "list1.extend(list2)\n",
        "print(list1)"
      ],
      "execution_count": null,
      "outputs": [
        {
          "output_type": "stream",
          "text": [
            "['orange', 'mango', 'kiwi', 'pineapple', 'banana', 100, 40, 50, 2, 22, 83, 78]\n"
          ],
          "name": "stdout"
        }
      ]
    },
    {
      "cell_type": "code",
      "metadata": {
        "id": "GsOMu_VGUinE"
      },
      "source": [
        "list1=[\"orange\",\"mango\",\"kiwi\",\"pineapple\",\"banana\"]\n",
        "#******"
      ],
      "execution_count": null,
      "outputs": []
    },
    {
      "cell_type": "code",
      "metadata": {
        "colab": {
          "base_uri": "https://localhost:8080/"
        },
        "id": "Q83LEH-yVDnr",
        "outputId": "a3333f23-d92d-4af6-8e3f-f90f3fb56337"
      },
      "source": [
        "thistuple=(\"apple\",\"banana\",\"cherry\")\n",
        "print(thistuple)"
      ],
      "execution_count": null,
      "outputs": [
        {
          "output_type": "stream",
          "text": [
            "('apple', 'banana', 'cherry')\n"
          ],
          "name": "stdout"
        }
      ]
    },
    {
      "cell_type": "code",
      "metadata": {
        "colab": {
          "base_uri": "https://localhost:8080/"
        },
        "id": "ypaVjiPRVZ4f",
        "outputId": "83bf05cd-7a4d-4f40-918d-fc3782e50bfa"
      },
      "source": [
        "thistuple=(\"apple\",\"banana\",\"cherry\",\"apple\",\"banana\",\"cherry\")\n",
        "print(thistuple)"
      ],
      "execution_count": null,
      "outputs": [
        {
          "output_type": "stream",
          "text": [
            "('apple', 'banana', 'cherry', 'apple', 'banana', 'cherry')\n"
          ],
          "name": "stdout"
        }
      ]
    },
    {
      "cell_type": "code",
      "metadata": {
        "colab": {
          "base_uri": "https://localhost:8080/"
        },
        "id": "5CM4aK-dVqf5",
        "outputId": "be80ff27-ec23-4ba2-967a-045dfd1049c1"
      },
      "source": [
        "thistuple=(\"apple\",\"banana\",\"cherry\",\"apple\",\"banana\",\"cherry\")\n",
        "print(len(thistuple))"
      ],
      "execution_count": null,
      "outputs": [
        {
          "output_type": "stream",
          "text": [
            "6\n"
          ],
          "name": "stdout"
        }
      ]
    },
    {
      "cell_type": "code",
      "metadata": {
        "colab": {
          "base_uri": "https://localhost:8080/"
        },
        "id": "VpmxEPeFVzzW",
        "outputId": "e10c82bc-2ab0-41d2-f3c6-8f79ea7c07d7"
      },
      "source": [
        "tuple1=[\"orange\",\"mango\",\"kiwi\",\"pineapple\",\"banana\"]\n",
        "tuple2=[100,40,50,2,22,83,78]\n",
        "tuple3=(True,False,False)\n",
        "print(tuple1)\n",
        "print(tuple2)\n",
        "print(tuple3)"
      ],
      "execution_count": null,
      "outputs": [
        {
          "output_type": "stream",
          "text": [
            "['orange', 'mango', 'kiwi', 'pineapple', 'banana']\n",
            "[100, 40, 50, 2, 22, 83, 78]\n",
            "(True, False, False)\n"
          ],
          "name": "stdout"
        }
      ]
    },
    {
      "cell_type": "code",
      "metadata": {
        "colab": {
          "base_uri": "https://localhost:8080/"
        },
        "id": "XF5xvygPWbJw",
        "outputId": "e8d11313-51a2-4f37-c86c-a9a5132d0210"
      },
      "source": [
        "tuple1=(\"orange\",23,\"pineapple\",\"banana\",True,\"34\")\n",
        "print(tuple3)"
      ],
      "execution_count": null,
      "outputs": [
        {
          "output_type": "stream",
          "text": [
            "(True, False, False)\n"
          ],
          "name": "stdout"
        }
      ]
    },
    {
      "cell_type": "code",
      "metadata": {
        "colab": {
          "base_uri": "https://localhost:8080/"
        },
        "id": "vbuaVK8yXAst",
        "outputId": "df11c28b-573f-4149-e124-e0b6b5f44e2f"
      },
      "source": [
        "tuple1=(\"orange\",23,\"pineapple\",\"banana\",True,\"34\")\n",
        "print(tuple1)"
      ],
      "execution_count": null,
      "outputs": [
        {
          "output_type": "stream",
          "text": [
            "('orange', 23, 'pineapple', 'banana', True, '34')\n"
          ],
          "name": "stdout"
        }
      ]
    },
    {
      "cell_type": "code",
      "metadata": {
        "colab": {
          "base_uri": "https://localhost:8080/"
        },
        "id": "CDsRDCxKXKtG",
        "outputId": "3cd6176f-73a5-4afa-fd86-d8724694f602"
      },
      "source": [
        "tuple1=(\"orange\",23,\"pineapple\",\"banana\",True,\"34\")\n",
        "print(tuple1)\n",
        "print(type(tuple1))"
      ],
      "execution_count": null,
      "outputs": [
        {
          "output_type": "stream",
          "text": [
            "('orange', 23, 'pineapple', 'banana', True, '34')\n",
            "<class 'tuple'>\n"
          ],
          "name": "stdout"
        }
      ]
    },
    {
      "cell_type": "code",
      "metadata": {
        "colab": {
          "base_uri": "https://localhost:8080/"
        },
        "id": "hnm_7nqhXsbn",
        "outputId": "e25d97d0-335d-422d-f5fb-d8b2d49d9d6b"
      },
      "source": [
        "tuple1=(\"orange\",23,\"pineapple\",\"banana\",True,\"34\")\n",
        "print(tuple1[4])"
      ],
      "execution_count": null,
      "outputs": [
        {
          "output_type": "stream",
          "text": [
            "True\n"
          ],
          "name": "stdout"
        }
      ]
    },
    {
      "cell_type": "code",
      "metadata": {
        "colab": {
          "base_uri": "https://localhost:8080/"
        },
        "id": "CuRQXP5aXwBm",
        "outputId": "e3c011a2-bb1f-45ee-b3bb-267b041146e2"
      },
      "source": [
        "tuple2=(\"orange\",23,\"pineapple\",\"banana\",True,\"34\")\n",
        "print(tuple1[-2])"
      ],
      "execution_count": null,
      "outputs": [
        {
          "output_type": "stream",
          "text": [
            "True\n"
          ],
          "name": "stdout"
        }
      ]
    },
    {
      "cell_type": "code",
      "metadata": {
        "colab": {
          "base_uri": "https://localhost:8080/"
        },
        "id": "hhaiWtokX401",
        "outputId": "706cf3c9-8aa8-4aef-bde2-7f241d00586e"
      },
      "source": [
        "tuple2=(\"orange\",23,\"pineapple\",\"banana\",True,\"34\")\n",
        "print(tuple1[:4])"
      ],
      "execution_count": null,
      "outputs": [
        {
          "output_type": "stream",
          "text": [
            "('orange', 23, 'pineapple', 'banana')\n"
          ],
          "name": "stdout"
        }
      ]
    },
    {
      "cell_type": "code",
      "metadata": {
        "colab": {
          "base_uri": "https://localhost:8080/"
        },
        "id": "_KwTtB0pYCKU",
        "outputId": "976d4153-c07a-44cc-d986-8cc3dda25daf"
      },
      "source": [
        "tuple2=(\"orange\",23,\"pineapple\",\"banana\",True,\"34\")\n",
        "print(tuple1[2:])"
      ],
      "execution_count": null,
      "outputs": [
        {
          "output_type": "stream",
          "text": [
            "('pineapple', 'banana', True, '34')\n"
          ],
          "name": "stdout"
        }
      ]
    },
    {
      "cell_type": "code",
      "metadata": {
        "colab": {
          "base_uri": "https://localhost:8080/"
        },
        "id": "BB3zHhgYYHWl",
        "outputId": "deb1c1c3-06a7-4605-9e64-bd154d537425"
      },
      "source": [
        "x=(\"apple\",\"banana\",\"cherry\")\n",
        "y=list(x)\n",
        "y[1]=\"kiwi\"\n",
        "x=tuple(y)\n",
        "print(x)"
      ],
      "execution_count": null,
      "outputs": [
        {
          "output_type": "stream",
          "text": [
            "('apple', 'kiwi', 'cherry')\n"
          ],
          "name": "stdout"
        }
      ]
    },
    {
      "cell_type": "code",
      "metadata": {
        "colab": {
          "base_uri": "https://localhost:8080/"
        },
        "id": "Vbiddpz-Ye7z",
        "outputId": "89ab6731-1bb0-4d56-fb0f-a4cd0d176964"
      },
      "source": [
        "thistuple=(\"apple\",\"banana\",\"cherry\")\n",
        "y=list(thistuple)\n",
        "y.append(\"orange\")\n",
        "thistuple=tuple(y)\n",
        "print(thistuple)"
      ],
      "execution_count": null,
      "outputs": [
        {
          "output_type": "stream",
          "text": [
            "('apple', 'banana', 'cherry', 'orange')\n"
          ],
          "name": "stdout"
        }
      ]
    },
    {
      "cell_type": "code",
      "metadata": {
        "colab": {
          "base_uri": "https://localhost:8080/"
        },
        "id": "zcRHGMngZudT",
        "outputId": "8aff546b-127f-4741-8775-87f7345ae4fd"
      },
      "source": [
        "thistuple=(\"apple\",\"banana\",\"cherry\")\n",
        "y=list(thistuple)\n",
        "y.remove(\"banana\")\n",
        "thistuple=tuple(y)\n",
        "print(thistuple)"
      ],
      "execution_count": null,
      "outputs": [
        {
          "output_type": "stream",
          "text": [
            "('apple', 'cherry')\n"
          ],
          "name": "stdout"
        }
      ]
    },
    {
      "cell_type": "code",
      "metadata": {
        "id": "kOoBiJWMZ9b5"
      },
      "source": [
        "thistuple=(\"apple\",\"banana\",\"cherry\")"
      ],
      "execution_count": null,
      "outputs": []
    },
    {
      "cell_type": "code",
      "metadata": {
        "colab": {
          "base_uri": "https://localhost:8080/"
        },
        "id": "nqULv_RaaGSL",
        "outputId": "c491dab9-d94a-436f-da60-2bfc89a04db5"
      },
      "source": [
        "fruits=(\"apple\",\"banana\",\"cherry\")\n",
        "(green,yellow,red)=fruits\n",
        "print(green)\n",
        "print(yellow)\n",
        "print(red)"
      ],
      "execution_count": null,
      "outputs": [
        {
          "output_type": "stream",
          "text": [
            "apple\n",
            "banana\n",
            "cherry\n"
          ],
          "name": "stdout"
        }
      ]
    },
    {
      "cell_type": "code",
      "metadata": {
        "colab": {
          "base_uri": "https://localhost:8080/"
        },
        "id": "-_KPOCe1aWFv",
        "outputId": "2c546933-ced3-4397-d233-d0a378b13ab0"
      },
      "source": [
        "fruits=(\"apple\",\"banana\",\"cherry\",\"orange\",\"mango\")\n",
        "(green,yellow,*red)=fruits\n",
        "print(green)\n",
        "print(yellow)\n",
        "print(red)"
      ],
      "execution_count": null,
      "outputs": [
        {
          "output_type": "stream",
          "text": [
            "apple\n",
            "banana\n",
            "['cherry', 'orange', 'mango']\n"
          ],
          "name": "stdout"
        }
      ]
    },
    {
      "cell_type": "code",
      "metadata": {
        "colab": {
          "base_uri": "https://localhost:8080/"
        },
        "id": "VJXbTbtIaqkD",
        "outputId": "298ac33c-6723-4641-a746-160e68d3bb52"
      },
      "source": [
        "fruits=(\"apple\",\"banana\",\"cherry\",\"orange\",\"mango\")\n",
        "for x in fruits:\n",
        "  print(x)"
      ],
      "execution_count": null,
      "outputs": [
        {
          "output_type": "stream",
          "text": [
            "apple\n",
            "banana\n",
            "cherry\n",
            "orange\n",
            "mango\n"
          ],
          "name": "stdout"
        }
      ]
    },
    {
      "cell_type": "code",
      "metadata": {
        "colab": {
          "base_uri": "https://localhost:8080/"
        },
        "id": "_lB_79jvayc4",
        "outputId": "4f0a6326-f16a-4411-fa56-9daaf3dcf60c"
      },
      "source": [
        "fruits=(\"apple\",\"banana\",\"cherry\",\"orange\",\"mango\")\n",
        "for i in range(len(fruits)):\n",
        "  print(fruits[i])"
      ],
      "execution_count": null,
      "outputs": [
        {
          "output_type": "stream",
          "text": [
            "apple\n",
            "banana\n",
            "cherry\n",
            "orange\n",
            "mango\n"
          ],
          "name": "stdout"
        }
      ]
    },
    {
      "cell_type": "markdown",
      "metadata": {
        "id": "4Oqq3HfWbc6A"
      },
      "source": [
        "concatenation , merge and joning Data Frames in Pandas"
      ]
    },
    {
      "cell_type": "code",
      "metadata": {
        "colab": {
          "base_uri": "https://localhost:8080/"
        },
        "id": "UOx8sfDKa74b",
        "outputId": "49da6c29-9d44-4e5a-f60f-ad835242d30c"
      },
      "source": [
        "import pandas as pd\n",
        "df1=pd.DataFrame({'Item':['A','B','C','D'],\n",
        "                  'value':[1,2,3,5]})\n",
        "df2=pd.DataFrame({'Item':['E','F','G','H'],\n",
        "                  'value':[6,7,8,9]})\n",
        "print(df1)\n",
        "print(df2)"
      ],
      "execution_count": null,
      "outputs": [
        {
          "output_type": "stream",
          "text": [
            "  Item  value\n",
            "0    A      1\n",
            "1    B      2\n",
            "2    C      3\n",
            "3    D      5\n",
            "  Item  value\n",
            "0    E      6\n",
            "1    F      7\n",
            "2    G      8\n",
            "3    H      9\n"
          ],
          "name": "stdout"
        }
      ]
    },
    {
      "cell_type": "code",
      "metadata": {
        "colab": {
          "base_uri": "https://localhost:8080/",
          "height": 171
        },
        "id": "hXqs6WRrrnIV",
        "outputId": "91d996be-d87f-443a-aa08-c0d6811d194a"
      },
      "source": [
        "df1"
      ],
      "execution_count": null,
      "outputs": [
        {
          "output_type": "execute_result",
          "data": {
            "text/html": [
              "<div>\n",
              "<style scoped>\n",
              "    .dataframe tbody tr th:only-of-type {\n",
              "        vertical-align: middle;\n",
              "    }\n",
              "\n",
              "    .dataframe tbody tr th {\n",
              "        vertical-align: top;\n",
              "    }\n",
              "\n",
              "    .dataframe thead th {\n",
              "        text-align: right;\n",
              "    }\n",
              "</style>\n",
              "<table border=\"1\" class=\"dataframe\">\n",
              "  <thead>\n",
              "    <tr style=\"text-align: right;\">\n",
              "      <th></th>\n",
              "      <th>Item</th>\n",
              "      <th>value</th>\n",
              "    </tr>\n",
              "  </thead>\n",
              "  <tbody>\n",
              "    <tr>\n",
              "      <th>0</th>\n",
              "      <td>A</td>\n",
              "      <td>1</td>\n",
              "    </tr>\n",
              "    <tr>\n",
              "      <th>1</th>\n",
              "      <td>B</td>\n",
              "      <td>2</td>\n",
              "    </tr>\n",
              "    <tr>\n",
              "      <th>2</th>\n",
              "      <td>C</td>\n",
              "      <td>3</td>\n",
              "    </tr>\n",
              "    <tr>\n",
              "      <th>3</th>\n",
              "      <td>D</td>\n",
              "      <td>5</td>\n",
              "    </tr>\n",
              "  </tbody>\n",
              "</table>\n",
              "</div>"
            ],
            "text/plain": [
              "  Item  value\n",
              "0    A      1\n",
              "1    B      2\n",
              "2    C      3\n",
              "3    D      5"
            ]
          },
          "metadata": {
            "tags": []
          },
          "execution_count": 2
        }
      ]
    },
    {
      "cell_type": "code",
      "metadata": {
        "colab": {
          "base_uri": "https://localhost:8080/",
          "height": 171
        },
        "id": "d8RTz-pet_0u",
        "outputId": "3d69adc6-2592-4237-8217-5c49729920e9"
      },
      "source": [
        "df2"
      ],
      "execution_count": null,
      "outputs": [
        {
          "output_type": "execute_result",
          "data": {
            "text/html": [
              "<div>\n",
              "<style scoped>\n",
              "    .dataframe tbody tr th:only-of-type {\n",
              "        vertical-align: middle;\n",
              "    }\n",
              "\n",
              "    .dataframe tbody tr th {\n",
              "        vertical-align: top;\n",
              "    }\n",
              "\n",
              "    .dataframe thead th {\n",
              "        text-align: right;\n",
              "    }\n",
              "</style>\n",
              "<table border=\"1\" class=\"dataframe\">\n",
              "  <thead>\n",
              "    <tr style=\"text-align: right;\">\n",
              "      <th></th>\n",
              "      <th>Item</th>\n",
              "      <th>value</th>\n",
              "    </tr>\n",
              "  </thead>\n",
              "  <tbody>\n",
              "    <tr>\n",
              "      <th>0</th>\n",
              "      <td>E</td>\n",
              "      <td>6</td>\n",
              "    </tr>\n",
              "    <tr>\n",
              "      <th>1</th>\n",
              "      <td>F</td>\n",
              "      <td>7</td>\n",
              "    </tr>\n",
              "    <tr>\n",
              "      <th>2</th>\n",
              "      <td>G</td>\n",
              "      <td>8</td>\n",
              "    </tr>\n",
              "    <tr>\n",
              "      <th>3</th>\n",
              "      <td>H</td>\n",
              "      <td>9</td>\n",
              "    </tr>\n",
              "  </tbody>\n",
              "</table>\n",
              "</div>"
            ],
            "text/plain": [
              "  Item  value\n",
              "0    E      6\n",
              "1    F      7\n",
              "2    G      8\n",
              "3    H      9"
            ]
          },
          "metadata": {
            "tags": []
          },
          "execution_count": 3
        }
      ]
    },
    {
      "cell_type": "code",
      "metadata": {
        "colab": {
          "base_uri": "https://localhost:8080/",
          "height": 295
        },
        "id": "sqtg5YkRuW1L",
        "outputId": "3158c52a-5c49-436a-c9c6-149e14c05c32"
      },
      "source": [
        "pd.concat([df1,df2])"
      ],
      "execution_count": null,
      "outputs": [
        {
          "output_type": "execute_result",
          "data": {
            "text/html": [
              "<div>\n",
              "<style scoped>\n",
              "    .dataframe tbody tr th:only-of-type {\n",
              "        vertical-align: middle;\n",
              "    }\n",
              "\n",
              "    .dataframe tbody tr th {\n",
              "        vertical-align: top;\n",
              "    }\n",
              "\n",
              "    .dataframe thead th {\n",
              "        text-align: right;\n",
              "    }\n",
              "</style>\n",
              "<table border=\"1\" class=\"dataframe\">\n",
              "  <thead>\n",
              "    <tr style=\"text-align: right;\">\n",
              "      <th></th>\n",
              "      <th>Item</th>\n",
              "      <th>value</th>\n",
              "    </tr>\n",
              "  </thead>\n",
              "  <tbody>\n",
              "    <tr>\n",
              "      <th>0</th>\n",
              "      <td>A</td>\n",
              "      <td>1</td>\n",
              "    </tr>\n",
              "    <tr>\n",
              "      <th>1</th>\n",
              "      <td>B</td>\n",
              "      <td>2</td>\n",
              "    </tr>\n",
              "    <tr>\n",
              "      <th>2</th>\n",
              "      <td>C</td>\n",
              "      <td>3</td>\n",
              "    </tr>\n",
              "    <tr>\n",
              "      <th>3</th>\n",
              "      <td>D</td>\n",
              "      <td>5</td>\n",
              "    </tr>\n",
              "    <tr>\n",
              "      <th>0</th>\n",
              "      <td>E</td>\n",
              "      <td>6</td>\n",
              "    </tr>\n",
              "    <tr>\n",
              "      <th>1</th>\n",
              "      <td>F</td>\n",
              "      <td>7</td>\n",
              "    </tr>\n",
              "    <tr>\n",
              "      <th>2</th>\n",
              "      <td>G</td>\n",
              "      <td>8</td>\n",
              "    </tr>\n",
              "    <tr>\n",
              "      <th>3</th>\n",
              "      <td>H</td>\n",
              "      <td>9</td>\n",
              "    </tr>\n",
              "  </tbody>\n",
              "</table>\n",
              "</div>"
            ],
            "text/plain": [
              "  Item  value\n",
              "0    A      1\n",
              "1    B      2\n",
              "2    C      3\n",
              "3    D      5\n",
              "0    E      6\n",
              "1    F      7\n",
              "2    G      8\n",
              "3    H      9"
            ]
          },
          "metadata": {
            "tags": []
          },
          "execution_count": 4
        }
      ]
    },
    {
      "cell_type": "code",
      "metadata": {
        "colab": {
          "base_uri": "https://localhost:8080/",
          "height": 295
        },
        "id": "td0U6dCvucsJ",
        "outputId": "48f6e9fb-da61-4a9f-c626-e4777c3fae8a"
      },
      "source": [
        "import pandas as pd\n",
        "df1=pd.DataFrame({'Item':['A','B','C','D'],\n",
        "                  'value':[1,2,3,5]})\n",
        "df2=pd.DataFrame({'Item':['E','F','G','H'],\n",
        "                  'value':[5,6,7,8]})\n",
        "pd.concat([df1,df2])"
      ],
      "execution_count": null,
      "outputs": [
        {
          "output_type": "execute_result",
          "data": {
            "text/html": [
              "<div>\n",
              "<style scoped>\n",
              "    .dataframe tbody tr th:only-of-type {\n",
              "        vertical-align: middle;\n",
              "    }\n",
              "\n",
              "    .dataframe tbody tr th {\n",
              "        vertical-align: top;\n",
              "    }\n",
              "\n",
              "    .dataframe thead th {\n",
              "        text-align: right;\n",
              "    }\n",
              "</style>\n",
              "<table border=\"1\" class=\"dataframe\">\n",
              "  <thead>\n",
              "    <tr style=\"text-align: right;\">\n",
              "      <th></th>\n",
              "      <th>Item</th>\n",
              "      <th>value</th>\n",
              "    </tr>\n",
              "  </thead>\n",
              "  <tbody>\n",
              "    <tr>\n",
              "      <th>0</th>\n",
              "      <td>A</td>\n",
              "      <td>1</td>\n",
              "    </tr>\n",
              "    <tr>\n",
              "      <th>1</th>\n",
              "      <td>B</td>\n",
              "      <td>2</td>\n",
              "    </tr>\n",
              "    <tr>\n",
              "      <th>2</th>\n",
              "      <td>C</td>\n",
              "      <td>3</td>\n",
              "    </tr>\n",
              "    <tr>\n",
              "      <th>3</th>\n",
              "      <td>D</td>\n",
              "      <td>5</td>\n",
              "    </tr>\n",
              "    <tr>\n",
              "      <th>0</th>\n",
              "      <td>E</td>\n",
              "      <td>5</td>\n",
              "    </tr>\n",
              "    <tr>\n",
              "      <th>1</th>\n",
              "      <td>F</td>\n",
              "      <td>6</td>\n",
              "    </tr>\n",
              "    <tr>\n",
              "      <th>2</th>\n",
              "      <td>G</td>\n",
              "      <td>7</td>\n",
              "    </tr>\n",
              "    <tr>\n",
              "      <th>3</th>\n",
              "      <td>H</td>\n",
              "      <td>8</td>\n",
              "    </tr>\n",
              "  </tbody>\n",
              "</table>\n",
              "</div>"
            ],
            "text/plain": [
              "  Item  value\n",
              "0    A      1\n",
              "1    B      2\n",
              "2    C      3\n",
              "3    D      5\n",
              "0    E      5\n",
              "1    F      6\n",
              "2    G      7\n",
              "3    H      8"
            ]
          },
          "metadata": {
            "tags": []
          },
          "execution_count": 5
        }
      ]
    },
    {
      "cell_type": "code",
      "metadata": {
        "id": "PKYDfLeXvpoa",
        "colab": {
          "base_uri": "https://localhost:8080/",
          "height": 295
        },
        "outputId": "d31d0867-4960-4fa9-9f5f-354b03ec47bf"
      },
      "source": [
        "import pandas as pd\n",
        "df1=pd.DataFrame({'Item':['A','B','C','D'],\n",
        "                  'value':[1,2,3,5]})\n",
        "df2=pd.DataFrame({'Item':['E','F','G','H'],\n",
        "                  'Quantity':[5,6,7,8]})\n",
        "pd.concat([df1,df2])"
      ],
      "execution_count": null,
      "outputs": [
        {
          "output_type": "execute_result",
          "data": {
            "text/html": [
              "<div>\n",
              "<style scoped>\n",
              "    .dataframe tbody tr th:only-of-type {\n",
              "        vertical-align: middle;\n",
              "    }\n",
              "\n",
              "    .dataframe tbody tr th {\n",
              "        vertical-align: top;\n",
              "    }\n",
              "\n",
              "    .dataframe thead th {\n",
              "        text-align: right;\n",
              "    }\n",
              "</style>\n",
              "<table border=\"1\" class=\"dataframe\">\n",
              "  <thead>\n",
              "    <tr style=\"text-align: right;\">\n",
              "      <th></th>\n",
              "      <th>Item</th>\n",
              "      <th>value</th>\n",
              "      <th>Quantity</th>\n",
              "    </tr>\n",
              "  </thead>\n",
              "  <tbody>\n",
              "    <tr>\n",
              "      <th>0</th>\n",
              "      <td>A</td>\n",
              "      <td>1.0</td>\n",
              "      <td>NaN</td>\n",
              "    </tr>\n",
              "    <tr>\n",
              "      <th>1</th>\n",
              "      <td>B</td>\n",
              "      <td>2.0</td>\n",
              "      <td>NaN</td>\n",
              "    </tr>\n",
              "    <tr>\n",
              "      <th>2</th>\n",
              "      <td>C</td>\n",
              "      <td>3.0</td>\n",
              "      <td>NaN</td>\n",
              "    </tr>\n",
              "    <tr>\n",
              "      <th>3</th>\n",
              "      <td>D</td>\n",
              "      <td>5.0</td>\n",
              "      <td>NaN</td>\n",
              "    </tr>\n",
              "    <tr>\n",
              "      <th>0</th>\n",
              "      <td>E</td>\n",
              "      <td>NaN</td>\n",
              "      <td>5.0</td>\n",
              "    </tr>\n",
              "    <tr>\n",
              "      <th>1</th>\n",
              "      <td>F</td>\n",
              "      <td>NaN</td>\n",
              "      <td>6.0</td>\n",
              "    </tr>\n",
              "    <tr>\n",
              "      <th>2</th>\n",
              "      <td>G</td>\n",
              "      <td>NaN</td>\n",
              "      <td>7.0</td>\n",
              "    </tr>\n",
              "    <tr>\n",
              "      <th>3</th>\n",
              "      <td>H</td>\n",
              "      <td>NaN</td>\n",
              "      <td>8.0</td>\n",
              "    </tr>\n",
              "  </tbody>\n",
              "</table>\n",
              "</div>"
            ],
            "text/plain": [
              "  Item  value  Quantity\n",
              "0    A    1.0       NaN\n",
              "1    B    2.0       NaN\n",
              "2    C    3.0       NaN\n",
              "3    D    5.0       NaN\n",
              "0    E    NaN       5.0\n",
              "1    F    NaN       6.0\n",
              "2    G    NaN       7.0\n",
              "3    H    NaN       8.0"
            ]
          },
          "metadata": {
            "tags": []
          },
          "execution_count": 6
        }
      ]
    },
    {
      "cell_type": "code",
      "metadata": {
        "colab": {
          "base_uri": "https://localhost:8080/",
          "height": 295
        },
        "id": "uY-cUhHD6GRC",
        "outputId": "ba7e78d3-1f63-4f58-e40a-ea22a7daf81d"
      },
      "source": [
        "import pandas as pd\n",
        "df1=pd.DataFrame({'Item':['A','B','C','D'],\n",
        "                  'value':[1,2,3,5]})\n",
        "df2=pd.DataFrame({'Item':['E','F','G','H'],\n",
        "                  'Quantity':[5,6,7,8]})\n",
        "pd.concat([df1,df2]).reset_index()"
      ],
      "execution_count": null,
      "outputs": [
        {
          "output_type": "execute_result",
          "data": {
            "text/html": [
              "<div>\n",
              "<style scoped>\n",
              "    .dataframe tbody tr th:only-of-type {\n",
              "        vertical-align: middle;\n",
              "    }\n",
              "\n",
              "    .dataframe tbody tr th {\n",
              "        vertical-align: top;\n",
              "    }\n",
              "\n",
              "    .dataframe thead th {\n",
              "        text-align: right;\n",
              "    }\n",
              "</style>\n",
              "<table border=\"1\" class=\"dataframe\">\n",
              "  <thead>\n",
              "    <tr style=\"text-align: right;\">\n",
              "      <th></th>\n",
              "      <th>index</th>\n",
              "      <th>Item</th>\n",
              "      <th>value</th>\n",
              "      <th>Quantity</th>\n",
              "    </tr>\n",
              "  </thead>\n",
              "  <tbody>\n",
              "    <tr>\n",
              "      <th>0</th>\n",
              "      <td>0</td>\n",
              "      <td>A</td>\n",
              "      <td>1.0</td>\n",
              "      <td>NaN</td>\n",
              "    </tr>\n",
              "    <tr>\n",
              "      <th>1</th>\n",
              "      <td>1</td>\n",
              "      <td>B</td>\n",
              "      <td>2.0</td>\n",
              "      <td>NaN</td>\n",
              "    </tr>\n",
              "    <tr>\n",
              "      <th>2</th>\n",
              "      <td>2</td>\n",
              "      <td>C</td>\n",
              "      <td>3.0</td>\n",
              "      <td>NaN</td>\n",
              "    </tr>\n",
              "    <tr>\n",
              "      <th>3</th>\n",
              "      <td>3</td>\n",
              "      <td>D</td>\n",
              "      <td>5.0</td>\n",
              "      <td>NaN</td>\n",
              "    </tr>\n",
              "    <tr>\n",
              "      <th>4</th>\n",
              "      <td>0</td>\n",
              "      <td>E</td>\n",
              "      <td>NaN</td>\n",
              "      <td>5.0</td>\n",
              "    </tr>\n",
              "    <tr>\n",
              "      <th>5</th>\n",
              "      <td>1</td>\n",
              "      <td>F</td>\n",
              "      <td>NaN</td>\n",
              "      <td>6.0</td>\n",
              "    </tr>\n",
              "    <tr>\n",
              "      <th>6</th>\n",
              "      <td>2</td>\n",
              "      <td>G</td>\n",
              "      <td>NaN</td>\n",
              "      <td>7.0</td>\n",
              "    </tr>\n",
              "    <tr>\n",
              "      <th>7</th>\n",
              "      <td>3</td>\n",
              "      <td>H</td>\n",
              "      <td>NaN</td>\n",
              "      <td>8.0</td>\n",
              "    </tr>\n",
              "  </tbody>\n",
              "</table>\n",
              "</div>"
            ],
            "text/plain": [
              "   index Item  value  Quantity\n",
              "0      0    A    1.0       NaN\n",
              "1      1    B    2.0       NaN\n",
              "2      2    C    3.0       NaN\n",
              "3      3    D    5.0       NaN\n",
              "4      0    E    NaN       5.0\n",
              "5      1    F    NaN       6.0\n",
              "6      2    G    NaN       7.0\n",
              "7      3    H    NaN       8.0"
            ]
          },
          "metadata": {
            "tags": []
          },
          "execution_count": 8
        }
      ]
    },
    {
      "cell_type": "code",
      "metadata": {
        "colab": {
          "base_uri": "https://localhost:8080/",
          "height": 171
        },
        "id": "MfJwUnjE6UZL",
        "outputId": "85a10b23-2fb4-4f79-f178-05492efac4a8"
      },
      "source": [
        "pd.concat([df1,df2],axis=1)"
      ],
      "execution_count": null,
      "outputs": [
        {
          "output_type": "execute_result",
          "data": {
            "text/html": [
              "<div>\n",
              "<style scoped>\n",
              "    .dataframe tbody tr th:only-of-type {\n",
              "        vertical-align: middle;\n",
              "    }\n",
              "\n",
              "    .dataframe tbody tr th {\n",
              "        vertical-align: top;\n",
              "    }\n",
              "\n",
              "    .dataframe thead th {\n",
              "        text-align: right;\n",
              "    }\n",
              "</style>\n",
              "<table border=\"1\" class=\"dataframe\">\n",
              "  <thead>\n",
              "    <tr style=\"text-align: right;\">\n",
              "      <th></th>\n",
              "      <th>Item</th>\n",
              "      <th>value</th>\n",
              "      <th>Item</th>\n",
              "      <th>Quantity</th>\n",
              "    </tr>\n",
              "  </thead>\n",
              "  <tbody>\n",
              "    <tr>\n",
              "      <th>0</th>\n",
              "      <td>A</td>\n",
              "      <td>1</td>\n",
              "      <td>E</td>\n",
              "      <td>5</td>\n",
              "    </tr>\n",
              "    <tr>\n",
              "      <th>1</th>\n",
              "      <td>B</td>\n",
              "      <td>2</td>\n",
              "      <td>F</td>\n",
              "      <td>6</td>\n",
              "    </tr>\n",
              "    <tr>\n",
              "      <th>2</th>\n",
              "      <td>C</td>\n",
              "      <td>3</td>\n",
              "      <td>G</td>\n",
              "      <td>7</td>\n",
              "    </tr>\n",
              "    <tr>\n",
              "      <th>3</th>\n",
              "      <td>D</td>\n",
              "      <td>5</td>\n",
              "      <td>H</td>\n",
              "      <td>8</td>\n",
              "    </tr>\n",
              "  </tbody>\n",
              "</table>\n",
              "</div>"
            ],
            "text/plain": [
              "  Item  value Item  Quantity\n",
              "0    A      1    E         5\n",
              "1    B      2    F         6\n",
              "2    C      3    G         7\n",
              "3    D      5    H         8"
            ]
          },
          "metadata": {
            "tags": []
          },
          "execution_count": 9
        }
      ]
    },
    {
      "cell_type": "markdown",
      "metadata": {
        "id": "rV3iqXxp6x6L"
      },
      "source": [
        "**Use Append to add multiple DataFrames to another**"
      ]
    },
    {
      "cell_type": "code",
      "metadata": {
        "colab": {
          "base_uri": "https://localhost:8080/",
          "height": 418
        },
        "id": "8dvcYLXd6lJp",
        "outputId": "01d9f53c-02d5-460c-87ef-0e80471c3855"
      },
      "source": [
        "import pandas as pd\n",
        "df1=pd.DataFrame({'Item':['A','B','C','D'],\n",
        "                  'value':[1,2,3,5]})\n",
        "df2=pd.DataFrame({'Item':['E','F','G','H'],\n",
        "                  'Quantity':[5,6,7,8]})\n",
        "df3=pd.DataFrame({'Item':['I','J','K','L'],\n",
        "                  'Quantity':[3,7,4,25]})\n",
        "df1.append([df2,df3])"
      ],
      "execution_count": null,
      "outputs": [
        {
          "output_type": "execute_result",
          "data": {
            "text/html": [
              "<div>\n",
              "<style scoped>\n",
              "    .dataframe tbody tr th:only-of-type {\n",
              "        vertical-align: middle;\n",
              "    }\n",
              "\n",
              "    .dataframe tbody tr th {\n",
              "        vertical-align: top;\n",
              "    }\n",
              "\n",
              "    .dataframe thead th {\n",
              "        text-align: right;\n",
              "    }\n",
              "</style>\n",
              "<table border=\"1\" class=\"dataframe\">\n",
              "  <thead>\n",
              "    <tr style=\"text-align: right;\">\n",
              "      <th></th>\n",
              "      <th>Item</th>\n",
              "      <th>value</th>\n",
              "      <th>Quantity</th>\n",
              "    </tr>\n",
              "  </thead>\n",
              "  <tbody>\n",
              "    <tr>\n",
              "      <th>0</th>\n",
              "      <td>A</td>\n",
              "      <td>1.0</td>\n",
              "      <td>NaN</td>\n",
              "    </tr>\n",
              "    <tr>\n",
              "      <th>1</th>\n",
              "      <td>B</td>\n",
              "      <td>2.0</td>\n",
              "      <td>NaN</td>\n",
              "    </tr>\n",
              "    <tr>\n",
              "      <th>2</th>\n",
              "      <td>C</td>\n",
              "      <td>3.0</td>\n",
              "      <td>NaN</td>\n",
              "    </tr>\n",
              "    <tr>\n",
              "      <th>3</th>\n",
              "      <td>D</td>\n",
              "      <td>5.0</td>\n",
              "      <td>NaN</td>\n",
              "    </tr>\n",
              "    <tr>\n",
              "      <th>0</th>\n",
              "      <td>E</td>\n",
              "      <td>NaN</td>\n",
              "      <td>5.0</td>\n",
              "    </tr>\n",
              "    <tr>\n",
              "      <th>1</th>\n",
              "      <td>F</td>\n",
              "      <td>NaN</td>\n",
              "      <td>6.0</td>\n",
              "    </tr>\n",
              "    <tr>\n",
              "      <th>2</th>\n",
              "      <td>G</td>\n",
              "      <td>NaN</td>\n",
              "      <td>7.0</td>\n",
              "    </tr>\n",
              "    <tr>\n",
              "      <th>3</th>\n",
              "      <td>H</td>\n",
              "      <td>NaN</td>\n",
              "      <td>8.0</td>\n",
              "    </tr>\n",
              "    <tr>\n",
              "      <th>0</th>\n",
              "      <td>I</td>\n",
              "      <td>NaN</td>\n",
              "      <td>3.0</td>\n",
              "    </tr>\n",
              "    <tr>\n",
              "      <th>1</th>\n",
              "      <td>J</td>\n",
              "      <td>NaN</td>\n",
              "      <td>7.0</td>\n",
              "    </tr>\n",
              "    <tr>\n",
              "      <th>2</th>\n",
              "      <td>K</td>\n",
              "      <td>NaN</td>\n",
              "      <td>4.0</td>\n",
              "    </tr>\n",
              "    <tr>\n",
              "      <th>3</th>\n",
              "      <td>L</td>\n",
              "      <td>NaN</td>\n",
              "      <td>25.0</td>\n",
              "    </tr>\n",
              "  </tbody>\n",
              "</table>\n",
              "</div>"
            ],
            "text/plain": [
              "  Item  value  Quantity\n",
              "0    A    1.0       NaN\n",
              "1    B    2.0       NaN\n",
              "2    C    3.0       NaN\n",
              "3    D    5.0       NaN\n",
              "0    E    NaN       5.0\n",
              "1    F    NaN       6.0\n",
              "2    G    NaN       7.0\n",
              "3    H    NaN       8.0\n",
              "0    I    NaN       3.0\n",
              "1    J    NaN       7.0\n",
              "2    K    NaN       4.0\n",
              "3    L    NaN      25.0"
            ]
          },
          "metadata": {
            "tags": []
          },
          "execution_count": 10
        }
      ]
    },
    {
      "cell_type": "code",
      "metadata": {
        "colab": {
          "base_uri": "https://localhost:8080/",
          "height": 48
        },
        "id": "QSQMTXuy75sH",
        "outputId": "9ae0c143-dd12-4c05-907f-d4e763067188"
      },
      "source": [
        "import pandas as pd\n",
        "dfA=pd.DataFrame({'Key':['A','B','C','D'],\n",
        "                  'A':[1,2,3,5]})\n",
        "dfB=pd.DataFrame({'Key':['E','F','G','H'],\n",
        "                  'B':[5,6,7,8]})\n",
        "pd.merge(dfA,dfB, on='Key')"
      ],
      "execution_count": null,
      "outputs": [
        {
          "output_type": "execute_result",
          "data": {
            "text/html": [
              "<div>\n",
              "<style scoped>\n",
              "    .dataframe tbody tr th:only-of-type {\n",
              "        vertical-align: middle;\n",
              "    }\n",
              "\n",
              "    .dataframe tbody tr th {\n",
              "        vertical-align: top;\n",
              "    }\n",
              "\n",
              "    .dataframe thead th {\n",
              "        text-align: right;\n",
              "    }\n",
              "</style>\n",
              "<table border=\"1\" class=\"dataframe\">\n",
              "  <thead>\n",
              "    <tr style=\"text-align: right;\">\n",
              "      <th></th>\n",
              "      <th>Key</th>\n",
              "      <th>A</th>\n",
              "      <th>B</th>\n",
              "    </tr>\n",
              "  </thead>\n",
              "  <tbody>\n",
              "  </tbody>\n",
              "</table>\n",
              "</div>"
            ],
            "text/plain": [
              "Empty DataFrame\n",
              "Columns: [Key, A, B]\n",
              "Index: []"
            ]
          },
          "metadata": {
            "tags": []
          },
          "execution_count": 11
        }
      ]
    },
    {
      "cell_type": "code",
      "metadata": {
        "colab": {
          "base_uri": "https://localhost:8080/",
          "height": 171
        },
        "id": "w5bvx5c89FfH",
        "outputId": "9d21b594-5413-4717-887e-f3760e50db24"
      },
      "source": [
        "import pandas as pd\n",
        "dfA=pd.DataFrame({'Key':['K0','K1','K2','K3'],\n",
        "                  'A':  ['A0','A1','A2','A3'],\n",
        "                  'B':  ['B0','B1','B2','B3']})\n",
        "dfB=pd.DataFrame({'Key':['K0','K1','K2','K3'],\n",
        "                  'C':  ['C0','C1','C2','C3'],\n",
        "                  'D':  ['D0','D1','D2','D3']})\n",
        "pd.merge(dfA,dfB, on='Key')"
      ],
      "execution_count": null,
      "outputs": [
        {
          "output_type": "execute_result",
          "data": {
            "text/html": [
              "<div>\n",
              "<style scoped>\n",
              "    .dataframe tbody tr th:only-of-type {\n",
              "        vertical-align: middle;\n",
              "    }\n",
              "\n",
              "    .dataframe tbody tr th {\n",
              "        vertical-align: top;\n",
              "    }\n",
              "\n",
              "    .dataframe thead th {\n",
              "        text-align: right;\n",
              "    }\n",
              "</style>\n",
              "<table border=\"1\" class=\"dataframe\">\n",
              "  <thead>\n",
              "    <tr style=\"text-align: right;\">\n",
              "      <th></th>\n",
              "      <th>Key</th>\n",
              "      <th>A</th>\n",
              "      <th>B</th>\n",
              "      <th>C</th>\n",
              "      <th>D</th>\n",
              "    </tr>\n",
              "  </thead>\n",
              "  <tbody>\n",
              "    <tr>\n",
              "      <th>0</th>\n",
              "      <td>K0</td>\n",
              "      <td>A0</td>\n",
              "      <td>B0</td>\n",
              "      <td>C0</td>\n",
              "      <td>D0</td>\n",
              "    </tr>\n",
              "    <tr>\n",
              "      <th>1</th>\n",
              "      <td>K1</td>\n",
              "      <td>A1</td>\n",
              "      <td>B1</td>\n",
              "      <td>C1</td>\n",
              "      <td>D1</td>\n",
              "    </tr>\n",
              "    <tr>\n",
              "      <th>2</th>\n",
              "      <td>K2</td>\n",
              "      <td>A2</td>\n",
              "      <td>B2</td>\n",
              "      <td>C2</td>\n",
              "      <td>D2</td>\n",
              "    </tr>\n",
              "    <tr>\n",
              "      <th>3</th>\n",
              "      <td>K3</td>\n",
              "      <td>A3</td>\n",
              "      <td>B3</td>\n",
              "      <td>C3</td>\n",
              "      <td>D3</td>\n",
              "    </tr>\n",
              "  </tbody>\n",
              "</table>\n",
              "</div>"
            ],
            "text/plain": [
              "  Key   A   B   C   D\n",
              "0  K0  A0  B0  C0  D0\n",
              "1  K1  A1  B1  C1  D1\n",
              "2  K2  A2  B2  C2  D2\n",
              "3  K3  A3  B3  C3  D3"
            ]
          },
          "metadata": {
            "tags": []
          },
          "execution_count": 12
        }
      ]
    },
    {
      "cell_type": "code",
      "metadata": {
        "colab": {
          "base_uri": "https://localhost:8080/",
          "height": 171
        },
        "id": "vsAoZzQA_SLU",
        "outputId": "396e04ff-b229-4903-d5a4-c7c99f4eec8e"
      },
      "source": [
        "import pandas as pd\n",
        "dfA=pd.DataFrame({'Key':['K0','K1','K2','K3'],\n",
        "                  'A':  ['A0','A1','A2','A3'],\n",
        "                  'B':  ['B0','B1','B2','B3']})\n",
        "dfB=pd.DataFrame({'Key':['K0','K1','K2','K3'],\n",
        "                  'C':  ['C0','C1','C2','C3'],\n",
        "                  'D':  ['D0','D1','D2','D3']})\n",
        "pd.merge(dfA,dfB, how='left', on='Key')"
      ],
      "execution_count": null,
      "outputs": [
        {
          "output_type": "execute_result",
          "data": {
            "text/html": [
              "<div>\n",
              "<style scoped>\n",
              "    .dataframe tbody tr th:only-of-type {\n",
              "        vertical-align: middle;\n",
              "    }\n",
              "\n",
              "    .dataframe tbody tr th {\n",
              "        vertical-align: top;\n",
              "    }\n",
              "\n",
              "    .dataframe thead th {\n",
              "        text-align: right;\n",
              "    }\n",
              "</style>\n",
              "<table border=\"1\" class=\"dataframe\">\n",
              "  <thead>\n",
              "    <tr style=\"text-align: right;\">\n",
              "      <th></th>\n",
              "      <th>Key</th>\n",
              "      <th>A</th>\n",
              "      <th>B</th>\n",
              "      <th>C</th>\n",
              "      <th>D</th>\n",
              "    </tr>\n",
              "  </thead>\n",
              "  <tbody>\n",
              "    <tr>\n",
              "      <th>0</th>\n",
              "      <td>K0</td>\n",
              "      <td>A0</td>\n",
              "      <td>B0</td>\n",
              "      <td>C0</td>\n",
              "      <td>D0</td>\n",
              "    </tr>\n",
              "    <tr>\n",
              "      <th>1</th>\n",
              "      <td>K1</td>\n",
              "      <td>A1</td>\n",
              "      <td>B1</td>\n",
              "      <td>C1</td>\n",
              "      <td>D1</td>\n",
              "    </tr>\n",
              "    <tr>\n",
              "      <th>2</th>\n",
              "      <td>K2</td>\n",
              "      <td>A2</td>\n",
              "      <td>B2</td>\n",
              "      <td>C2</td>\n",
              "      <td>D2</td>\n",
              "    </tr>\n",
              "    <tr>\n",
              "      <th>3</th>\n",
              "      <td>K3</td>\n",
              "      <td>A3</td>\n",
              "      <td>B3</td>\n",
              "      <td>C3</td>\n",
              "      <td>D3</td>\n",
              "    </tr>\n",
              "  </tbody>\n",
              "</table>\n",
              "</div>"
            ],
            "text/plain": [
              "  Key   A   B   C   D\n",
              "0  K0  A0  B0  C0  D0\n",
              "1  K1  A1  B1  C1  D1\n",
              "2  K2  A2  B2  C2  D2\n",
              "3  K3  A3  B3  C3  D3"
            ]
          },
          "metadata": {
            "tags": []
          },
          "execution_count": 13
        }
      ]
    },
    {
      "cell_type": "code",
      "metadata": {
        "colab": {
          "base_uri": "https://localhost:8080/",
          "height": 171
        },
        "id": "hGsKEnTt_c5m",
        "outputId": "0c063b50-76c8-41b4-a833-b285dacccce5"
      },
      "source": [
        "import pandas as pd\n",
        "dfA=pd.DataFrame({'Key':['K0','K1','K2','K3'],\n",
        "                  'A':  ['A0','A1','A2','A3'],\n",
        "                  'B':  ['B0','B1','B2','B3']})\n",
        "dfB=pd.DataFrame({'Key':['K0','K1','K2','K3'],\n",
        "                  'C':  ['C0','C1','C2','C3'],\n",
        "                  'D':  ['D0','D1','D2','D3']})\n",
        "pd.merge(dfA,dfB,how='right', on='Key')"
      ],
      "execution_count": null,
      "outputs": [
        {
          "output_type": "execute_result",
          "data": {
            "text/html": [
              "<div>\n",
              "<style scoped>\n",
              "    .dataframe tbody tr th:only-of-type {\n",
              "        vertical-align: middle;\n",
              "    }\n",
              "\n",
              "    .dataframe tbody tr th {\n",
              "        vertical-align: top;\n",
              "    }\n",
              "\n",
              "    .dataframe thead th {\n",
              "        text-align: right;\n",
              "    }\n",
              "</style>\n",
              "<table border=\"1\" class=\"dataframe\">\n",
              "  <thead>\n",
              "    <tr style=\"text-align: right;\">\n",
              "      <th></th>\n",
              "      <th>Key</th>\n",
              "      <th>A</th>\n",
              "      <th>B</th>\n",
              "      <th>C</th>\n",
              "      <th>D</th>\n",
              "    </tr>\n",
              "  </thead>\n",
              "  <tbody>\n",
              "    <tr>\n",
              "      <th>0</th>\n",
              "      <td>K0</td>\n",
              "      <td>A0</td>\n",
              "      <td>B0</td>\n",
              "      <td>C0</td>\n",
              "      <td>D0</td>\n",
              "    </tr>\n",
              "    <tr>\n",
              "      <th>1</th>\n",
              "      <td>K1</td>\n",
              "      <td>A1</td>\n",
              "      <td>B1</td>\n",
              "      <td>C1</td>\n",
              "      <td>D1</td>\n",
              "    </tr>\n",
              "    <tr>\n",
              "      <th>2</th>\n",
              "      <td>K2</td>\n",
              "      <td>A2</td>\n",
              "      <td>B2</td>\n",
              "      <td>C2</td>\n",
              "      <td>D2</td>\n",
              "    </tr>\n",
              "    <tr>\n",
              "      <th>3</th>\n",
              "      <td>K3</td>\n",
              "      <td>A3</td>\n",
              "      <td>B3</td>\n",
              "      <td>C3</td>\n",
              "      <td>D3</td>\n",
              "    </tr>\n",
              "  </tbody>\n",
              "</table>\n",
              "</div>"
            ],
            "text/plain": [
              "  Key   A   B   C   D\n",
              "0  K0  A0  B0  C0  D0\n",
              "1  K1  A1  B1  C1  D1\n",
              "2  K2  A2  B2  C2  D2\n",
              "3  K3  A3  B3  C3  D3"
            ]
          },
          "metadata": {
            "tags": []
          },
          "execution_count": 14
        }
      ]
    },
    {
      "cell_type": "code",
      "metadata": {
        "colab": {
          "base_uri": "https://localhost:8080/",
          "height": 171
        },
        "id": "o2sr2sMa_mBs",
        "outputId": "93bcbf89-8831-464f-ead8-a19888c43e9f"
      },
      "source": [
        "import pandas as pd\n",
        "dfA=pd.DataFrame({'Key':['K0','K1','K2','K3'],\n",
        "                  'A':  ['A0','A1','A2','A3'],\n",
        "                  'B':  ['B0','B1','B2','B3']})\n",
        "dfB=pd.DataFrame({'Key':['K0','K1','K2','K3'],\n",
        "                  'C':  ['C0','C1','C2','C3'],\n",
        "                  'D':  ['D0','D1','D2','D3']})\n",
        "pd.merge(dfA,dfB,how='inner', on='Key')"
      ],
      "execution_count": null,
      "outputs": [
        {
          "output_type": "execute_result",
          "data": {
            "text/html": [
              "<div>\n",
              "<style scoped>\n",
              "    .dataframe tbody tr th:only-of-type {\n",
              "        vertical-align: middle;\n",
              "    }\n",
              "\n",
              "    .dataframe tbody tr th {\n",
              "        vertical-align: top;\n",
              "    }\n",
              "\n",
              "    .dataframe thead th {\n",
              "        text-align: right;\n",
              "    }\n",
              "</style>\n",
              "<table border=\"1\" class=\"dataframe\">\n",
              "  <thead>\n",
              "    <tr style=\"text-align: right;\">\n",
              "      <th></th>\n",
              "      <th>Key</th>\n",
              "      <th>A</th>\n",
              "      <th>B</th>\n",
              "      <th>C</th>\n",
              "      <th>D</th>\n",
              "    </tr>\n",
              "  </thead>\n",
              "  <tbody>\n",
              "    <tr>\n",
              "      <th>0</th>\n",
              "      <td>K0</td>\n",
              "      <td>A0</td>\n",
              "      <td>B0</td>\n",
              "      <td>C0</td>\n",
              "      <td>D0</td>\n",
              "    </tr>\n",
              "    <tr>\n",
              "      <th>1</th>\n",
              "      <td>K1</td>\n",
              "      <td>A1</td>\n",
              "      <td>B1</td>\n",
              "      <td>C1</td>\n",
              "      <td>D1</td>\n",
              "    </tr>\n",
              "    <tr>\n",
              "      <th>2</th>\n",
              "      <td>K2</td>\n",
              "      <td>A2</td>\n",
              "      <td>B2</td>\n",
              "      <td>C2</td>\n",
              "      <td>D2</td>\n",
              "    </tr>\n",
              "    <tr>\n",
              "      <th>3</th>\n",
              "      <td>K3</td>\n",
              "      <td>A3</td>\n",
              "      <td>B3</td>\n",
              "      <td>C3</td>\n",
              "      <td>D3</td>\n",
              "    </tr>\n",
              "  </tbody>\n",
              "</table>\n",
              "</div>"
            ],
            "text/plain": [
              "  Key   A   B   C   D\n",
              "0  K0  A0  B0  C0  D0\n",
              "1  K1  A1  B1  C1  D1\n",
              "2  K2  A2  B2  C2  D2\n",
              "3  K3  A3  B3  C3  D3"
            ]
          },
          "metadata": {
            "tags": []
          },
          "execution_count": 15
        }
      ]
    },
    {
      "cell_type": "markdown",
      "metadata": {
        "id": "ZC4gT47a_zpp"
      },
      "source": [
        "### **Joining**"
      ]
    },
    {
      "cell_type": "code",
      "metadata": {
        "id": "vBTRWWo8_p33"
      },
      "source": [
        "left=pd.DataFrame({'A':['K0','K1','K2'],\n",
        "                   'B':['A0','A1','A2']},\n",
        "                  index=['B0','B1','B2'])"
      ],
      "execution_count": null,
      "outputs": []
    },
    {
      "cell_type": "code",
      "metadata": {
        "colab": {
          "base_uri": "https://localhost:8080/",
          "height": 141
        },
        "id": "QgWXExJSAn_g",
        "outputId": "d23682c6-9c9d-43b1-ef48-390c233a41f4"
      },
      "source": [
        "left"
      ],
      "execution_count": null,
      "outputs": [
        {
          "output_type": "execute_result",
          "data": {
            "text/html": [
              "<div>\n",
              "<style scoped>\n",
              "    .dataframe tbody tr th:only-of-type {\n",
              "        vertical-align: middle;\n",
              "    }\n",
              "\n",
              "    .dataframe tbody tr th {\n",
              "        vertical-align: top;\n",
              "    }\n",
              "\n",
              "    .dataframe thead th {\n",
              "        text-align: right;\n",
              "    }\n",
              "</style>\n",
              "<table border=\"1\" class=\"dataframe\">\n",
              "  <thead>\n",
              "    <tr style=\"text-align: right;\">\n",
              "      <th></th>\n",
              "      <th>A</th>\n",
              "      <th>B</th>\n",
              "    </tr>\n",
              "  </thead>\n",
              "  <tbody>\n",
              "    <tr>\n",
              "      <th>B0</th>\n",
              "      <td>K0</td>\n",
              "      <td>A0</td>\n",
              "    </tr>\n",
              "    <tr>\n",
              "      <th>B1</th>\n",
              "      <td>K1</td>\n",
              "      <td>A1</td>\n",
              "    </tr>\n",
              "    <tr>\n",
              "      <th>B2</th>\n",
              "      <td>K2</td>\n",
              "      <td>A2</td>\n",
              "    </tr>\n",
              "  </tbody>\n",
              "</table>\n",
              "</div>"
            ],
            "text/plain": [
              "     A   B\n",
              "B0  K0  A0\n",
              "B1  K1  A1\n",
              "B2  K2  A2"
            ]
          },
          "metadata": {
            "tags": []
          },
          "execution_count": 25
        }
      ]
    },
    {
      "cell_type": "code",
      "metadata": {
        "id": "mEXfd81DApRV"
      },
      "source": [
        "right=pd.DataFrame({'A':['K0','K1','K2'],\n",
        "                   'B':['A0','A1','A2']},\n",
        "                  index=['B2','B1','B0'])"
      ],
      "execution_count": null,
      "outputs": []
    },
    {
      "cell_type": "code",
      "metadata": {
        "colab": {
          "base_uri": "https://localhost:8080/",
          "height": 141
        },
        "id": "WpRDuQ7TAqrE",
        "outputId": "c8cd5ac1-7fb4-41f2-8634-008e7117de2e"
      },
      "source": [
        "right"
      ],
      "execution_count": null,
      "outputs": [
        {
          "output_type": "execute_result",
          "data": {
            "text/html": [
              "<div>\n",
              "<style scoped>\n",
              "    .dataframe tbody tr th:only-of-type {\n",
              "        vertical-align: middle;\n",
              "    }\n",
              "\n",
              "    .dataframe tbody tr th {\n",
              "        vertical-align: top;\n",
              "    }\n",
              "\n",
              "    .dataframe thead th {\n",
              "        text-align: right;\n",
              "    }\n",
              "</style>\n",
              "<table border=\"1\" class=\"dataframe\">\n",
              "  <thead>\n",
              "    <tr style=\"text-align: right;\">\n",
              "      <th></th>\n",
              "      <th>A</th>\n",
              "      <th>B</th>\n",
              "    </tr>\n",
              "  </thead>\n",
              "  <tbody>\n",
              "    <tr>\n",
              "      <th>B2</th>\n",
              "      <td>K0</td>\n",
              "      <td>A0</td>\n",
              "    </tr>\n",
              "    <tr>\n",
              "      <th>B1</th>\n",
              "      <td>K1</td>\n",
              "      <td>A1</td>\n",
              "    </tr>\n",
              "    <tr>\n",
              "      <th>B0</th>\n",
              "      <td>K2</td>\n",
              "      <td>A2</td>\n",
              "    </tr>\n",
              "  </tbody>\n",
              "</table>\n",
              "</div>"
            ],
            "text/plain": [
              "     A   B\n",
              "B2  K0  A0\n",
              "B1  K1  A1\n",
              "B0  K2  A2"
            ]
          },
          "metadata": {
            "tags": []
          },
          "execution_count": 27
        }
      ]
    },
    {
      "cell_type": "code",
      "metadata": {
        "colab": {
          "base_uri": "https://localhost:8080/",
          "height": 141
        },
        "id": "uH2heuxiBDiL",
        "outputId": "f711416c-c270-4ca7-852c-6ce19df8b592"
      },
      "source": [
        "left=pd.DataFrame({'A':['A0','A1','A2'],\n",
        "                   'B':['B0','B1','B2']},\n",
        "                  index=['K0','K1','K2'])\n",
        "left"
      ],
      "execution_count": null,
      "outputs": [
        {
          "output_type": "execute_result",
          "data": {
            "text/html": [
              "<div>\n",
              "<style scoped>\n",
              "    .dataframe tbody tr th:only-of-type {\n",
              "        vertical-align: middle;\n",
              "    }\n",
              "\n",
              "    .dataframe tbody tr th {\n",
              "        vertical-align: top;\n",
              "    }\n",
              "\n",
              "    .dataframe thead th {\n",
              "        text-align: right;\n",
              "    }\n",
              "</style>\n",
              "<table border=\"1\" class=\"dataframe\">\n",
              "  <thead>\n",
              "    <tr style=\"text-align: right;\">\n",
              "      <th></th>\n",
              "      <th>A</th>\n",
              "      <th>B</th>\n",
              "    </tr>\n",
              "  </thead>\n",
              "  <tbody>\n",
              "    <tr>\n",
              "      <th>K0</th>\n",
              "      <td>A0</td>\n",
              "      <td>B0</td>\n",
              "    </tr>\n",
              "    <tr>\n",
              "      <th>K1</th>\n",
              "      <td>A1</td>\n",
              "      <td>B1</td>\n",
              "    </tr>\n",
              "    <tr>\n",
              "      <th>K2</th>\n",
              "      <td>A2</td>\n",
              "      <td>B2</td>\n",
              "    </tr>\n",
              "  </tbody>\n",
              "</table>\n",
              "</div>"
            ],
            "text/plain": [
              "     A   B\n",
              "K0  A0  B0\n",
              "K1  A1  B1\n",
              "K2  A2  B2"
            ]
          },
          "metadata": {
            "tags": []
          },
          "execution_count": 28
        }
      ]
    },
    {
      "cell_type": "code",
      "metadata": {
        "colab": {
          "base_uri": "https://localhost:8080/",
          "height": 141
        },
        "id": "3BIbTc9BDFXy",
        "outputId": "c2ab7312-8a82-4fef-b2c0-d4315143ffcd"
      },
      "source": [
        "right=pd.DataFrame({'C':['C0','C1','C2'],\n",
        "                   'D':['D0','D1','D2']},\n",
        "                  index=['K0','K1','K2'])\n",
        "right"
      ],
      "execution_count": null,
      "outputs": [
        {
          "output_type": "execute_result",
          "data": {
            "text/html": [
              "<div>\n",
              "<style scoped>\n",
              "    .dataframe tbody tr th:only-of-type {\n",
              "        vertical-align: middle;\n",
              "    }\n",
              "\n",
              "    .dataframe tbody tr th {\n",
              "        vertical-align: top;\n",
              "    }\n",
              "\n",
              "    .dataframe thead th {\n",
              "        text-align: right;\n",
              "    }\n",
              "</style>\n",
              "<table border=\"1\" class=\"dataframe\">\n",
              "  <thead>\n",
              "    <tr style=\"text-align: right;\">\n",
              "      <th></th>\n",
              "      <th>C</th>\n",
              "      <th>D</th>\n",
              "    </tr>\n",
              "  </thead>\n",
              "  <tbody>\n",
              "    <tr>\n",
              "      <th>K0</th>\n",
              "      <td>C0</td>\n",
              "      <td>D0</td>\n",
              "    </tr>\n",
              "    <tr>\n",
              "      <th>K1</th>\n",
              "      <td>C1</td>\n",
              "      <td>D1</td>\n",
              "    </tr>\n",
              "    <tr>\n",
              "      <th>K2</th>\n",
              "      <td>C2</td>\n",
              "      <td>D2</td>\n",
              "    </tr>\n",
              "  </tbody>\n",
              "</table>\n",
              "</div>"
            ],
            "text/plain": [
              "     C   D\n",
              "K0  C0  D0\n",
              "K1  C1  D1\n",
              "K2  C2  D2"
            ]
          },
          "metadata": {
            "tags": []
          },
          "execution_count": 29
        }
      ]
    },
    {
      "cell_type": "code",
      "metadata": {
        "colab": {
          "base_uri": "https://localhost:8080/",
          "height": 141
        },
        "id": "ucoGXFzxDUr8",
        "outputId": "5f70ef17-daad-4d97-a1ac-16682f3dd983"
      },
      "source": [
        "left.join(right)"
      ],
      "execution_count": null,
      "outputs": [
        {
          "output_type": "execute_result",
          "data": {
            "text/html": [
              "<div>\n",
              "<style scoped>\n",
              "    .dataframe tbody tr th:only-of-type {\n",
              "        vertical-align: middle;\n",
              "    }\n",
              "\n",
              "    .dataframe tbody tr th {\n",
              "        vertical-align: top;\n",
              "    }\n",
              "\n",
              "    .dataframe thead th {\n",
              "        text-align: right;\n",
              "    }\n",
              "</style>\n",
              "<table border=\"1\" class=\"dataframe\">\n",
              "  <thead>\n",
              "    <tr style=\"text-align: right;\">\n",
              "      <th></th>\n",
              "      <th>A</th>\n",
              "      <th>B</th>\n",
              "      <th>C</th>\n",
              "      <th>D</th>\n",
              "    </tr>\n",
              "  </thead>\n",
              "  <tbody>\n",
              "    <tr>\n",
              "      <th>K0</th>\n",
              "      <td>A0</td>\n",
              "      <td>B0</td>\n",
              "      <td>C0</td>\n",
              "      <td>D0</td>\n",
              "    </tr>\n",
              "    <tr>\n",
              "      <th>K1</th>\n",
              "      <td>A1</td>\n",
              "      <td>B1</td>\n",
              "      <td>C1</td>\n",
              "      <td>D1</td>\n",
              "    </tr>\n",
              "    <tr>\n",
              "      <th>K2</th>\n",
              "      <td>A2</td>\n",
              "      <td>B2</td>\n",
              "      <td>C2</td>\n",
              "      <td>D2</td>\n",
              "    </tr>\n",
              "  </tbody>\n",
              "</table>\n",
              "</div>"
            ],
            "text/plain": [
              "     A   B   C   D\n",
              "K0  A0  B0  C0  D0\n",
              "K1  A1  B1  C1  D1\n",
              "K2  A2  B2  C2  D2"
            ]
          },
          "metadata": {
            "tags": []
          },
          "execution_count": 30
        }
      ]
    },
    {
      "cell_type": "code",
      "metadata": {
        "colab": {
          "base_uri": "https://localhost:8080/",
          "height": 141
        },
        "id": "6ZXn-yiRDaUf",
        "outputId": "b34aea64-4348-491e-fe4e-b9ed99854b0a"
      },
      "source": [
        "left.join(right,how='outer')"
      ],
      "execution_count": null,
      "outputs": [
        {
          "output_type": "execute_result",
          "data": {
            "text/html": [
              "<div>\n",
              "<style scoped>\n",
              "    .dataframe tbody tr th:only-of-type {\n",
              "        vertical-align: middle;\n",
              "    }\n",
              "\n",
              "    .dataframe tbody tr th {\n",
              "        vertical-align: top;\n",
              "    }\n",
              "\n",
              "    .dataframe thead th {\n",
              "        text-align: right;\n",
              "    }\n",
              "</style>\n",
              "<table border=\"1\" class=\"dataframe\">\n",
              "  <thead>\n",
              "    <tr style=\"text-align: right;\">\n",
              "      <th></th>\n",
              "      <th>A</th>\n",
              "      <th>B</th>\n",
              "      <th>C</th>\n",
              "      <th>D</th>\n",
              "    </tr>\n",
              "  </thead>\n",
              "  <tbody>\n",
              "    <tr>\n",
              "      <th>K0</th>\n",
              "      <td>A0</td>\n",
              "      <td>B0</td>\n",
              "      <td>C0</td>\n",
              "      <td>D0</td>\n",
              "    </tr>\n",
              "    <tr>\n",
              "      <th>K1</th>\n",
              "      <td>A1</td>\n",
              "      <td>B1</td>\n",
              "      <td>C1</td>\n",
              "      <td>D1</td>\n",
              "    </tr>\n",
              "    <tr>\n",
              "      <th>K2</th>\n",
              "      <td>A2</td>\n",
              "      <td>B2</td>\n",
              "      <td>C2</td>\n",
              "      <td>D2</td>\n",
              "    </tr>\n",
              "  </tbody>\n",
              "</table>\n",
              "</div>"
            ],
            "text/plain": [
              "     A   B   C   D\n",
              "K0  A0  B0  C0  D0\n",
              "K1  A1  B1  C1  D1\n",
              "K2  A2  B2  C2  D2"
            ]
          },
          "metadata": {
            "tags": []
          },
          "execution_count": 31
        }
      ]
    },
    {
      "cell_type": "code",
      "metadata": {
        "id": "Ixh0Mp-ADi-6"
      },
      "source": [
        "# Python program for finding H.C.F of two input numbers\n",
        "\n",
        "def computeHCF(X,Y):\n",
        "\n",
        "# choose the smaller number\n",
        "    if X>Y:\n",
        "      smaller = Y\n",
        "    else:\n",
        "      smaller = X\n",
        "    for i in range(1, smaller+1):\n",
        "       if ((X % i == 0) and (Y % i == 0)):\n",
        "         hcf=i\n",
        "\n",
        "    return hcf\n",
        "\n",
        "num1=54\n",
        "num2=24    \n",
        "\n",
        "\n"
      ],
      "execution_count": null,
      "outputs": []
    },
    {
      "cell_type": "code",
      "metadata": {
        "colab": {
          "base_uri": "https://localhost:8080/"
        },
        "id": "-EmFHuHXHIcu",
        "outputId": "16a32c4a-49e7-41f3-88c3-a24780911e3c"
      },
      "source": [
        "# Python program for finding H.C.F of two input numbers\n",
        "\n",
        "def computeHCF(X,Y):\n",
        "\n",
        "# choose the smaller number\n",
        "    if X>Y:\n",
        "      smaller = Y\n",
        "    else:\n",
        "      smaller = X\n",
        "    for i in range(1, smaller+1):\n",
        "       if ((X % i == 0) and (Y % i == 0)):\n",
        "         hcf=i\n",
        "\n",
        "    return hcf\n",
        "\n",
        "num1=int(input(\"Enter first number\"))\n",
        "num2=int(input(\"Enter second number\"))\n",
        "\n",
        "print(\"The H.C.F of \",num1,\"and\",num2,\"is\", computeHCF(num1,num2))\n",
        "\n"
      ],
      "execution_count": null,
      "outputs": [
        {
          "output_type": "stream",
          "text": [
            "Enter first number54\n",
            "Enter second number24\n",
            "The H.C.F of  54 and 24 is 6\n"
          ],
          "name": "stdout"
        }
      ]
    },
    {
      "cell_type": "markdown",
      "metadata": {
        "id": "mDdksPu_WgZ4"
      },
      "source": [
        "### Python Dictionaries"
      ]
    },
    {
      "cell_type": "code",
      "metadata": {
        "id": "93c4HTkRIBE_",
        "colab": {
          "base_uri": "https://localhost:8080/"
        },
        "outputId": "b64c6a2f-f825-49f2-e1d2-6a71c66cf200"
      },
      "source": [
        "thisdict = {\n",
        "    \"Brand\": \"Ford\",\n",
        "    \"Model\":\"Mustang\",\n",
        "    \"Year\" : 1964\n",
        "}\n",
        "print(thisdict)"
      ],
      "execution_count": null,
      "outputs": [
        {
          "output_type": "stream",
          "text": [
            "{'Brand': 'Ford', 'Model': 'Mustang', 'Year': 1964}\n"
          ],
          "name": "stdout"
        }
      ]
    },
    {
      "cell_type": "code",
      "metadata": {
        "colab": {
          "base_uri": "https://localhost:8080/"
        },
        "id": "ryWVaIg9XKrW",
        "outputId": "08e57d65-333a-4442-abef-dcac87db66e7"
      },
      "source": [
        "thisdict = {\n",
        "    \"Brand\": \"Ford\",\n",
        "    \"Model\":\"Mustang\",\n",
        "    \"Year\" : 1964,\n",
        "    \"Country\": \"India\"\n",
        "}\n",
        "print(thisdict[\"Year\"])"
      ],
      "execution_count": null,
      "outputs": [
        {
          "output_type": "stream",
          "text": [
            "1964\n"
          ],
          "name": "stdout"
        }
      ]
    },
    {
      "cell_type": "code",
      "metadata": {
        "colab": {
          "base_uri": "https://localhost:8080/"
        },
        "id": "45MrcYM6XO9w",
        "outputId": "598b2aff-4c1c-49df-feee-9a82e9fd8db1"
      },
      "source": [
        "thisdict = {\n",
        "    \"Brand\": \"Ford\",\n",
        "    \"Model\":\"Mustang\",\n",
        "    \"Year\" : 1964,\n",
        "    \"Country\": \"India\"\n",
        "}\n",
        "print(thisdict)"
      ],
      "execution_count": null,
      "outputs": [
        {
          "output_type": "stream",
          "text": [
            "{'Brand': 'Ford', 'Model': 'Mustang', 'Year': 1964, 'Country': 'India'}\n"
          ],
          "name": "stdout"
        }
      ]
    },
    {
      "cell_type": "code",
      "metadata": {
        "colab": {
          "base_uri": "https://localhost:8080/"
        },
        "id": "Qa1AoQkfXdBL",
        "outputId": "f906cb97-ddcc-45c6-f72a-212acc3e5bdf"
      },
      "source": [
        "thisdict = {\n",
        "    \"Brand\": \"Ford\",\n",
        "    \"Model\":\"Mustang\",\n",
        "    \"Year\" : 1964,\n",
        "    \"Country\": \"India\"\n",
        "}\n",
        "print(thisdict[\"Model\"])"
      ],
      "execution_count": null,
      "outputs": [
        {
          "output_type": "stream",
          "text": [
            "Mustang\n"
          ],
          "name": "stdout"
        }
      ]
    },
    {
      "cell_type": "code",
      "metadata": {
        "colab": {
          "base_uri": "https://localhost:8080/"
        },
        "id": "hsRROFCIXhXA",
        "outputId": "72a78b58-a836-4166-ae7f-7868226b0a8c"
      },
      "source": [
        "thisdict = {\n",
        "    \"Brand\": \"Ford\",\n",
        "    \"Model\":\"Mustang\",\n",
        "    \"Year\" : 1964,\n",
        "    \"Country\": \"India\",\n",
        "    \"Year\" : 2020\n",
        "}\n",
        "print(thisdict[\"Year\"])"
      ],
      "execution_count": null,
      "outputs": [
        {
          "output_type": "stream",
          "text": [
            "2020\n"
          ],
          "name": "stdout"
        }
      ]
    },
    {
      "cell_type": "code",
      "metadata": {
        "colab": {
          "base_uri": "https://localhost:8080/"
        },
        "id": "Jdv6872BXuMz",
        "outputId": "a7220115-d427-4c16-8cd4-e61ae495106b"
      },
      "source": [
        "print(len(thisdict))"
      ],
      "execution_count": null,
      "outputs": [
        {
          "output_type": "stream",
          "text": [
            "4\n"
          ],
          "name": "stdout"
        }
      ]
    },
    {
      "cell_type": "code",
      "metadata": {
        "colab": {
          "base_uri": "https://localhost:8080/"
        },
        "id": "GmYLKZ-2YM_c",
        "outputId": "0c8db71f-199f-4d05-91ca-41eae4a97d5b"
      },
      "source": [
        "thisdict = {\n",
        "    \"Brand\": \"Ford\",\n",
        "    \"Model\":\"Mustang\",\n",
        "    \"Country\": \"India\",\n",
        "    \"Year\" : 2020\n",
        "}\n",
        "print(thisdict[\"Year\"])"
      ],
      "execution_count": null,
      "outputs": [
        {
          "output_type": "stream",
          "text": [
            "2020\n"
          ],
          "name": "stdout"
        }
      ]
    },
    {
      "cell_type": "code",
      "metadata": {
        "colab": {
          "base_uri": "https://localhost:8080/"
        },
        "id": "uYNkiaASYi3q",
        "outputId": "c3508fb8-1485-491d-ac16-0869aa2acbe8"
      },
      "source": [
        "print(len(thisdict))"
      ],
      "execution_count": null,
      "outputs": [
        {
          "output_type": "stream",
          "text": [
            "4\n"
          ],
          "name": "stdout"
        }
      ]
    },
    {
      "cell_type": "code",
      "metadata": {
        "colab": {
          "base_uri": "https://localhost:8080/"
        },
        "id": "UUuZPqlSYnJf",
        "outputId": "ef2cdb50-cb78-47e5-9d48-3f3b8919a1cb"
      },
      "source": [
        "thisdict = {\n",
        "    \"Brand\": \"Ford\",\n",
        "    \"Model\":\"Mustang\",\n",
        "    \"Country\": \"India\",\n",
        "    \"Year\" : 1978,\n",
        "    \"colors\" :[\"Red\",\"White\",\"Blue\"] \n",
        "}\n",
        "print(thisdict)"
      ],
      "execution_count": null,
      "outputs": [
        {
          "output_type": "stream",
          "text": [
            "{'Brand': 'Ford', 'Model': 'Mustang', 'Country': 'India', 'Year': 1978, 'colors': ['Red', 'White', 'Blue']}\n"
          ],
          "name": "stdout"
        }
      ]
    },
    {
      "cell_type": "code",
      "metadata": {
        "colab": {
          "base_uri": "https://localhost:8080/"
        },
        "id": "m1mRDxgSY-VI",
        "outputId": "d41bed81-7a47-4760-ea70-cef7ad7b72b0"
      },
      "source": [
        "thisdict = {\n",
        "    \"Brand\": \"Ford\",\n",
        "    \"Model\":\"Mustang\",\n",
        "    \"Country\": \"India\",\n",
        "    \"Year\" : 1978,\n",
        "    \"colors\" :[\"Red\",\"White\",\"Blue\"] \n",
        "}\n",
        "print(type(thisdict))"
      ],
      "execution_count": null,
      "outputs": [
        {
          "output_type": "stream",
          "text": [
            "<class 'dict'>\n"
          ],
          "name": "stdout"
        }
      ]
    },
    {
      "cell_type": "code",
      "metadata": {
        "colab": {
          "base_uri": "https://localhost:8080/"
        },
        "id": "XEM9t6anZHKk",
        "outputId": "407a6d28-1cb4-486b-8702-6cee74e72464"
      },
      "source": [
        "thisdict = {\n",
        "    \"Brand\": \"Ford\",\n",
        "    \"Model\":\"Mustang\",\n",
        "    \"Country\": \"India\",\n",
        "    \"Year\" : 1978,\n",
        "    \"colors\" :[\"Red\",\"White\",\"Blue\"] \n",
        "}\n",
        "thisdict[\"Year\"] = 2020\n",
        "print(thisdict)"
      ],
      "execution_count": null,
      "outputs": [
        {
          "output_type": "stream",
          "text": [
            "{'Brand': 'Ford', 'Model': 'Mustang', 'Country': 'India', 'Year': 2020, 'colors': ['Red', 'White', 'Blue']}\n"
          ],
          "name": "stdout"
        }
      ]
    },
    {
      "cell_type": "code",
      "metadata": {
        "colab": {
          "base_uri": "https://localhost:8080/"
        },
        "id": "VDvNmsoEa6cb",
        "outputId": "6cf67b43-9292-4e75-979f-cdc65d8c8559"
      },
      "source": [
        "thisdict = {\n",
        "    \"Brand\": \"Ford\",\n",
        "    \"Model\":\"Mustang\",\n",
        "    \"Country\": \"India\",\n",
        "    \"Year\" : 2022,\n",
        "    \"colors\" :[\"Red\",\"White\",\"Blue\"] \n",
        "}\n",
        "thisdict.update({\"Varshitha\":\"First owner\"})\n",
        "print(thisdict)"
      ],
      "execution_count": null,
      "outputs": [
        {
          "output_type": "stream",
          "text": [
            "{'Brand': 'Ford', 'Model': 'Mustang', 'Country': 'India', 'Year': 2022, 'colors': ['Red', 'White', 'Blue'], 'Varshitha': 'First owner'}\n"
          ],
          "name": "stdout"
        }
      ]
    },
    {
      "cell_type": "code",
      "metadata": {
        "colab": {
          "base_uri": "https://localhost:8080/"
        },
        "id": "4qLzBO96bgvE",
        "outputId": "6e587be8-8f57-4a03-8142-45942970cbba"
      },
      "source": [
        "thisdict = {\n",
        "    \"Brand\": \"Ford\",\n",
        "    \"Model\":\"Mustang\",\n",
        "    \"Country\": \"India\",\n",
        "    \"Year\" : 2022,\n",
        "    \"colors\" :[\"Red\",\"White\",\"Blue\"] \n",
        "}\n",
        "thisdict.pop(\"colors\")\n",
        "print(thisdict)"
      ],
      "execution_count": null,
      "outputs": [
        {
          "output_type": "stream",
          "text": [
            "{'Brand': 'Ford', 'Model': 'Mustang', 'Country': 'India', 'Year': 2022}\n"
          ],
          "name": "stdout"
        }
      ]
    },
    {
      "cell_type": "code",
      "metadata": {
        "colab": {
          "base_uri": "https://localhost:8080/"
        },
        "id": "_CDMKR2ecJmz",
        "outputId": "109fecb4-0dd4-47f0-8ab8-b004f5c80458"
      },
      "source": [
        "thisdict = {\n",
        "    \"Brand\": \"Ford\",\n",
        "    \"Model\":\"Mustang\",\n",
        "    \"Country\": \"India\",\n",
        "    \"Year\" : 2022,\n",
        "    \"colors\" :[\"Red\",\"White\",\"Blue\"] \n",
        "}\n",
        "del thisdict[\"Model\"]\n",
        "print(thisdict)"
      ],
      "execution_count": null,
      "outputs": [
        {
          "output_type": "stream",
          "text": [
            "{'Brand': 'Ford', 'Country': 'India', 'Year': 2022, 'colors': ['Red', 'White', 'Blue']}\n"
          ],
          "name": "stdout"
        }
      ]
    },
    {
      "cell_type": "code",
      "metadata": {
        "colab": {
          "base_uri": "https://localhost:8080/"
        },
        "id": "JuYomYTCcscL",
        "outputId": "59604ec0-0918-4076-b1a1-483bc6a5bfbd"
      },
      "source": [
        "thisdict = {\n",
        "    \"Brand\": \"Ford\",\n",
        "    \"Model\":\"Mustang\",\n",
        "    \"Country\": \"India\",\n",
        "    \"Year\" : 2022,\n",
        "    \"colors\" :[\"Red\",\"White\",\"Blue\"] \n",
        "}\n",
        "thisdict.clear()\n",
        "print(thisdict)"
      ],
      "execution_count": null,
      "outputs": [
        {
          "output_type": "stream",
          "text": [
            "{}\n"
          ],
          "name": "stdout"
        }
      ]
    },
    {
      "cell_type": "code",
      "metadata": {
        "colab": {
          "base_uri": "https://localhost:8080/"
        },
        "id": "TQsttSCXc8Us",
        "outputId": "469c0e2c-856b-4faf-d6f9-71eecd82a3cf"
      },
      "source": [
        "thisdict = {\n",
        "    \"Brand\": \"Ford\",\n",
        "    \"Model\":\"Mustang\",\n",
        "    \"Country\": \"India\",\n",
        "    \"Year\" : 2022,\n",
        "    \"colors\" :[\"Red\",\"White\",\"Blue\"] \n",
        "}\n",
        "Newdict = thisdict.copy()\n",
        "print(Newdict)"
      ],
      "execution_count": null,
      "outputs": [
        {
          "output_type": "stream",
          "text": [
            "{'Brand': 'Ford', 'Model': 'Mustang', 'Country': 'India', 'Year': 2022, 'colors': ['Red', 'White', 'Blue']}\n"
          ],
          "name": "stdout"
        }
      ]
    },
    {
      "cell_type": "code",
      "metadata": {
        "colab": {
          "base_uri": "https://localhost:8080/"
        },
        "id": "ntzBxEBHdMpT",
        "outputId": "3b6cb08e-0fe5-4fee-ce98-c6450a8b72d8"
      },
      "source": [
        "thisdict = {\n",
        "    \"child1\":{\n",
        "        \"Name\" : \"Thanusha\",\n",
        "        \"Year\" : 2014\n",
        "    },\n",
        "    \"child2\":{\n",
        "        \"Name\" : \"Varshitha\",\n",
        "        \"Year\" : 2001\n",
        "    },\n",
        "    \"child3\":{\n",
        "        \"Name\" : \"Abhi\",\n",
        "        \"Year\" : 2002   \n",
        "    } \n",
        "}\n",
        "print(thisdict)"
      ],
      "execution_count": null,
      "outputs": [
        {
          "output_type": "stream",
          "text": [
            "{'child1': {'Name': 'Thanusha', 'Year': 2014}, 'child2': {'Name': 'Varshitha', 'Year': 2001}, 'child3': {'Name': 'Abhi', 'Year': 2002}}\n"
          ],
          "name": "stdout"
        }
      ]
    },
    {
      "cell_type": "code",
      "metadata": {
        "colab": {
          "base_uri": "https://localhost:8080/"
        },
        "id": "f9EBqGA1eioC",
        "outputId": "375e0f2a-978a-41d8-a5dd-1544368e007e"
      },
      "source": [
        "a=33\n",
        "b=200\n",
        "if b>a:\n",
        "  print(\"b is greater than a\")"
      ],
      "execution_count": null,
      "outputs": [
        {
          "output_type": "stream",
          "text": [
            "b is greater than a\n"
          ],
          "name": "stdout"
        }
      ]
    },
    {
      "cell_type": "code",
      "metadata": {
        "colab": {
          "base_uri": "https://localhost:8080/"
        },
        "id": "_pI6t2SqgEPW",
        "outputId": "6cfc545c-b6cc-4c35-c6cb-46d8a1df2e29"
      },
      "source": [
        "a=33\n",
        "b=33\n",
        "if b>a:\n",
        "  print(\"b is greater than a\")\n",
        "elif a==b:\n",
        "  print(\"a and b are equal\")  "
      ],
      "execution_count": null,
      "outputs": [
        {
          "output_type": "stream",
          "text": [
            "a and b are equal\n"
          ],
          "name": "stdout"
        }
      ]
    },
    {
      "cell_type": "code",
      "metadata": {
        "colab": {
          "base_uri": "https://localhost:8080/"
        },
        "id": "bRoS7kC2gYaC",
        "outputId": "6e94eb2e-ebfa-451b-9cff-16046a4790d8"
      },
      "source": [
        "a=330\n",
        "b=33\n",
        "if b>a:\n",
        "  print(\"b is greater than a\")\n",
        "elif a==b:\n",
        "  print(\"a and b are equal\")  \n",
        "else:\n",
        "  print(\"a is greater than b\")  \n"
      ],
      "execution_count": null,
      "outputs": [
        {
          "output_type": "stream",
          "text": [
            "a is greater than b\n"
          ],
          "name": "stdout"
        }
      ]
    },
    {
      "cell_type": "code",
      "metadata": {
        "colab": {
          "base_uri": "https://localhost:8080/"
        },
        "id": "4kqiptZ7gr4b",
        "outputId": "5f7ff67f-5c0d-4cea-eb6d-c92a45fd7542"
      },
      "source": [
        "a=330\n",
        "b=33\n",
        "if b>a:\n",
        "  print(\"b is greater than a\")\n",
        "else:\n",
        "  print(\"a is greater than b\")  \n"
      ],
      "execution_count": null,
      "outputs": [
        {
          "output_type": "stream",
          "text": [
            "a is greater than b\n"
          ],
          "name": "stdout"
        }
      ]
    },
    {
      "cell_type": "code",
      "metadata": {
        "colab": {
          "base_uri": "https://localhost:8080/"
        },
        "id": "ILAMG6z5g7cq",
        "outputId": "d680d72f-9cc1-4d61-ba2d-a5da3e8da282"
      },
      "source": [
        "a=330\n",
        "b=3345\n",
        "if b>a:print(\"b is greater than a\")\n",
        "  \n",
        "\n",
        "  \n"
      ],
      "execution_count": null,
      "outputs": [
        {
          "output_type": "stream",
          "text": [
            "b is greater than a\n"
          ],
          "name": "stdout"
        }
      ]
    },
    {
      "cell_type": "code",
      "metadata": {
        "colab": {
          "base_uri": "https://localhost:8080/"
        },
        "id": "Dd9z8A4MhQjO",
        "outputId": "acd12eb6-909f-4128-aa42-d6180ce7decc"
      },
      "source": [
        "a=330\n",
        "b=33\n",
        "c=350\n",
        "if a>b and c>a:\n",
        "  print(\"both conditions are true\")\n",
        " \n"
      ],
      "execution_count": null,
      "outputs": [
        {
          "output_type": "stream",
          "text": [
            "both conditions are true\n"
          ],
          "name": "stdout"
        }
      ]
    },
    {
      "cell_type": "code",
      "metadata": {
        "colab": {
          "base_uri": "https://localhost:8080/"
        },
        "id": "c3d-yh9jhray",
        "outputId": "3886d751-37d1-4d96-c5c9-555b8452d2f0"
      },
      "source": [
        "a=330\n",
        "b=33\n",
        "c=350\n",
        "if a>b and c>a:\n",
        "  print(\"Atleast one of the conditions is true\")\n",
        " \n"
      ],
      "execution_count": null,
      "outputs": [
        {
          "output_type": "stream",
          "text": [
            "Atleast one of the conditions is true\n"
          ],
          "name": "stdout"
        }
      ]
    },
    {
      "cell_type": "markdown",
      "metadata": {
        "id": "Q4Me1zkxiXNe"
      },
      "source": [
        "# **Nested IF**"
      ]
    },
    {
      "cell_type": "code",
      "metadata": {
        "colab": {
          "base_uri": "https://localhost:8080/"
        },
        "id": "0wV8YssNicdk",
        "outputId": "a9eaec64-6fa6-4a8a-a5bb-2ddb6b870b33"
      },
      "source": [
        "x=41\n",
        "\n",
        "if x>10:\n",
        "  print(\"It is above the value 10\")\n",
        "  if x>20:\n",
        "    print(\"It is above the value 20\")\n",
        "else :\n",
        "  print(\"Not above 20\")    "
      ],
      "execution_count": null,
      "outputs": [
        {
          "output_type": "stream",
          "text": [
            "It is above the value 10\n",
            "It is above the value 20\n"
          ],
          "name": "stdout"
        }
      ]
    },
    {
      "cell_type": "code",
      "metadata": {
        "colab": {
          "base_uri": "https://localhost:8080/"
        },
        "id": "y_V63Y7Gi2df",
        "outputId": "541259b7-6125-4542-f341-a502cc37488f"
      },
      "source": [
        "#while Loop\n",
        "i=1\n",
        "while i<6:\n",
        "   print(i)\n",
        "   i+=1"
      ],
      "execution_count": null,
      "outputs": [
        {
          "output_type": "stream",
          "text": [
            "1\n",
            "2\n",
            "3\n",
            "4\n",
            "5\n"
          ],
          "name": "stdout"
        }
      ]
    },
    {
      "cell_type": "code",
      "metadata": {
        "colab": {
          "base_uri": "https://localhost:8080/"
        },
        "id": "n9EG8o3njhSl",
        "outputId": "780be6b6-9ec7-40ef-a653-284170d9bff0"
      },
      "source": [
        "#while Loop\n",
        "i=1\n",
        "while i<6:\n",
        "   print(i)\n",
        "   if (i==3):\n",
        "     break\n",
        "   i+=1"
      ],
      "execution_count": null,
      "outputs": [
        {
          "output_type": "stream",
          "text": [
            "1\n",
            "2\n",
            "3\n"
          ],
          "name": "stdout"
        }
      ]
    },
    {
      "cell_type": "code",
      "metadata": {
        "colab": {
          "base_uri": "https://localhost:8080/"
        },
        "id": "h9SjWMIWjvKQ",
        "outputId": "e80b3740-14b7-4237-b58d-3a4edffe7a21"
      },
      "source": [
        "#while Loop\n",
        "i=1\n",
        "while i<6:\n",
        "   print(i)\n",
        "   i+=1\n",
        "else:\n",
        "  print(\"i is no longer less than 6\")   "
      ],
      "execution_count": null,
      "outputs": [
        {
          "output_type": "stream",
          "text": [
            "1\n",
            "2\n",
            "3\n",
            "4\n",
            "5\n",
            "i is no longer less than 6\n"
          ],
          "name": "stdout"
        }
      ]
    },
    {
      "cell_type": "code",
      "metadata": {
        "colab": {
          "base_uri": "https://localhost:8080/"
        },
        "id": "HXb3VZUHkIxG",
        "outputId": "ef0de558-5362-4495-b0b8-5a97428e478e"
      },
      "source": [
        "#while Loop\n",
        "i=1\n",
        "while i<6:\n",
        "   print(i)\n",
        "   if (i==5):\n",
        "     break\n",
        "   i+=1"
      ],
      "execution_count": null,
      "outputs": [
        {
          "output_type": "stream",
          "text": [
            "1\n",
            "2\n",
            "3\n",
            "4\n",
            "5\n"
          ],
          "name": "stdout"
        }
      ]
    },
    {
      "cell_type": "code",
      "metadata": {
        "colab": {
          "base_uri": "https://localhost:8080/"
        },
        "id": "Fpu3cXRqkhKn",
        "outputId": "fbaa835d-de2d-4bdc-de0b-e49a40cfe499"
      },
      "source": [
        "# Python program to find the L.C.M. of two input numbers\n",
        "\n",
        "def LCM(x,y):\n",
        " if x>y:\n",
        "  greater=x\n",
        " else:\n",
        "  greater=y\n",
        " while(True):\n",
        "  if ((greater % x==0) and (greater % y==0)):\n",
        "    lcm=greater\n",
        "    break\n",
        "  greater += 1\n",
        " return lcm\n",
        "num1 = int(input(\"Enter first number: \"))\n",
        "num2 = int(input(\"Enter second number: \"))\n",
        "print(\"The LCM of\", num1,\"and\",num2,\"is\",lcm(num1,num2))\n"
      ],
      "execution_count": null,
      "outputs": [
        {
          "output_type": "stream",
          "text": [
            "Enter first number: 242\n",
            "Enter second number: 300\n",
            "The LCM of 242 and 300 is 36300\n"
          ],
          "name": "stdout"
        }
      ]
    },
    {
      "cell_type": "code",
      "metadata": {
        "id": "PxZEcQ5epMEq"
      },
      "source": [
        ""
      ],
      "execution_count": null,
      "outputs": []
    }
  ]
}